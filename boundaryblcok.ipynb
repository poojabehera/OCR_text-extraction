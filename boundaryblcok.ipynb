{
 "cells": [
  {
   "cell_type": "code",
   "execution_count": 2,
   "id": "f0cc6a72",
   "metadata": {},
   "outputs": [],
   "source": [
    "import cv2\n",
    "#import matplotlib.pyplot as plt"
   ]
  },
  {
   "cell_type": "code",
   "execution_count": 3,
   "id": "ac2e9943",
   "metadata": {},
   "outputs": [],
   "source": [
    "predictions = {'predictions': [{'x': 0.500000 , 'y': 0.561979  , \"width\": 0.959375  , \"height\": 0.432292,'confidence': 0.7369905710220337, 'class': 'Paper', 'image_path': 'C:\\\\Users\\\\LZ575NE\\\\OneDrive - EY\\\\Desktop\\\\project\\\\paddle_shifter_data_with_odometer\\\\images\\\\1C3CCCAB5GN182544_15.jpg', 'prediction_type': 'ObjectDetectionModel'}], 'image': {'width': 1436, 'height': 956}}"
   ]
  },
  {
   "cell_type": "code",
   "execution_count": 4,
   "id": "283af909",
   "metadata": {},
   "outputs": [],
   "source": [
    "image =cv2.imread(\"C:\\\\Users\\\\LZ575NE\\\\OneDrive - EY\\\\Desktop\\\\project\\\\paddle_shifter_data_with_odometer\\\\images\\\\1C3CDFFA7GD816425_14.jpg\")"
   ]
  },
  {
   "cell_type": "code",
   "execution_count": 5,
   "id": "1a537625",
   "metadata": {},
   "outputs": [
    {
     "data": {
      "text/plain": [
       "True"
      ]
     },
     "execution_count": 5,
     "metadata": {},
     "output_type": "execute_result"
    }
   ],
   "source": [
    "for bounding_box in predictions[\"predictions\"]:\n",
    "    \n",
    "    x0 = (bounding_box['x'] - bounding_box['width'] / 2) \n",
    "    x1 = (bounding_box['x'] + bounding_box['width'] / 2) \n",
    "    y0 = (bounding_box['y'] - bounding_box['height'] / 2) \n",
    "    y1 = (bounding_box['y'] + bounding_box['height'] / 2) \n",
    "    \n",
    "    start_point= (int(x0), int(y0))\n",
    "    end_point= (int(x1), int(y1))\n",
    "    \n",
    "    #image= \"1C3CCCAB5GN182544_15.jpg\"\n",
    "    cv2.rectangle(image,start_point,end_point, color= (0,255,0), thickness=2)\n",
    "    \n",
    "cv2.imwrite(\"BB1.jpg\", image)   "
   ]
  },
  {
   "cell_type": "code",
   "execution_count": 6,
   "id": "c066ee29",
   "metadata": {},
   "outputs": [
    {
     "data": {
      "text/plain": [
       "<function imshow>"
      ]
     },
     "execution_count": 6,
     "metadata": {},
     "output_type": "execute_result"
    }
   ],
   "source": [
    "cv2.imshow"
   ]
  },
  {
   "cell_type": "code",
   "execution_count": 8,
   "id": "586c01c8",
   "metadata": {},
   "outputs": [],
   "source": [
    "#plt.imshow(image)"
   ]
  },
  {
   "cell_type": "code",
   "execution_count": 9,
   "id": "6d48a415",
   "metadata": {},
   "outputs": [
    {
     "data": {
      "text/plain": [
       "(960, 1280, 3)"
      ]
     },
     "execution_count": 9,
     "metadata": {},
     "output_type": "execute_result"
    }
   ],
   "source": [
    "image.shape"
   ]
  },
  {
   "cell_type": "code",
   "execution_count": null,
   "id": "56d45e94",
   "metadata": {},
   "outputs": [],
   "source": []
  }
 ],
 "metadata": {
  "kernelspec": {
   "display_name": "Python 3 (ipykernel)",
   "language": "python",
   "name": "python3"
  },
  "language_info": {
   "codemirror_mode": {
    "name": "ipython",
    "version": 3
   },
   "file_extension": ".py",
   "mimetype": "text/x-python",
   "name": "python",
   "nbconvert_exporter": "python",
   "pygments_lexer": "ipython3",
   "version": "3.9.12"
  }
 },
 "nbformat": 4,
 "nbformat_minor": 5
}
