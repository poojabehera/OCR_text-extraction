{
 "cells": [
  {
   "cell_type": "code",
   "execution_count": 7,
   "id": "c2c615c5",
   "metadata": {},
   "outputs": [],
   "source": [
    "import pytesseract\n",
    "import cv2"
   ]
  },
  {
   "cell_type": "code",
   "execution_count": 21,
   "id": "aa4d3b0b",
   "metadata": {},
   "outputs": [],
   "source": [
    "pytesseract.pytesseract.tesseract_cmd=(r\"C:\\Users\\LZ575NE\\AppData\\Local\\Tesseract-OCR\\tesseract.exe\")"
   ]
  },
  {
   "cell_type": "code",
   "execution_count": 22,
   "id": "7aa80bdd",
   "metadata": {},
   "outputs": [],
   "source": [
    "img = cv2.imread(\"C://Users//LZ575NE//OneDrive - EY//Desktop//project//ICDP//badge.JPG\")\n",
    "cv2.imshow('image', img)"
   ]
  },
  {
   "cell_type": "code",
   "execution_count": 23,
   "id": "483d20c4",
   "metadata": {},
   "outputs": [
    {
     "name": "stdout",
     "output_type": "stream",
     "text": [
      "rs\n",
      "\n",
      "This badge provides an opportunity to select an industry focus. You can choose from sector specializations from\n",
      "across Advanced Manufacturing & Mobility, Consumer, Energy & Resources, Financial Services, Government &\n",
      "Infrastructure, Health Sciences & Wellness, Private Equity and Technology, Media & Entertainment and\n",
      "\n",
      "(copy into your | Telecommunications.\n",
      "Experience\n",
      "Review Form) By taking this badge, you will learn how your chosen Industry sector is organized and how companies in the\n",
      "sector are managing their business and the supply chain.\n",
      "You will explore the current landscape of the sector and how key trends are impacting companies in the sector\n",
      "yan their value chain.\n",
      "Badge = Fundamentals of insurance\n",
      "concepts: * Health Insurance\n",
      "= Life Insurance\n",
      "(copy into your | * General Insurance\n",
      "Experience | * Blockchain\n",
      "Review Form) | * Artificial Intelligence\n",
      "= Insurance basics, underwriting, and actuarial practices\n",
      "= Bitcoin\n",
      "= Data Analytics\n",
      "\n",
      "\n"
     ]
    }
   ],
   "source": [
    "print(pytesseract.image_to_string('C://Users//LZ575NE//OneDrive - EY//Desktop//project//ICDP//badge.JPG'))"
   ]
  },
  {
   "cell_type": "code",
   "execution_count": 18,
   "id": "be1bccc1",
   "metadata": {},
   "outputs": [],
   "source": [
    "from PIL import Image"
   ]
  },
  {
   "cell_type": "code",
   "execution_count": 19,
   "id": "01229c69",
   "metadata": {},
   "outputs": [],
   "source": [
    "from presidio_image_redactor import ImageRedactorEngine"
   ]
  },
  {
   "cell_type": "code",
   "execution_count": 20,
   "id": "584b5e95",
   "metadata": {},
   "outputs": [],
   "source": [
    "def redactionimages(path,outputpath):\n",
    "  \n",
    "  # Get the image to redact using PIL lib (pillow)\n",
    "  image = Image.open('C://Users//LZ575NE//OneDrive - EY//Desktop//project//ICDP//ocr.JPG')\n",
    "\n",
    "  # Initialize the engine\n",
    "  engine = ImageRedactorEngine()\n",
    "\n",
    "  # Redact the image with pink color\n",
    "  redacted_image = engine.redact(image, (0,0,0))\n",
    "\n",
    "  # save the redacted image \n",
    "  redacted_image.save(outputpath + 'redacted.png')\n",
    "  print(\"Successfully redacted\")"
   ]
  },
  {
   "cell_type": "code",
   "execution_count": null,
   "id": "800bf28b",
   "metadata": {},
   "outputs": [],
   "source": []
  }
 ],
 "metadata": {
  "kernelspec": {
   "display_name": "Python 3 (ipykernel)",
   "language": "python",
   "name": "python3"
  },
  "language_info": {
   "codemirror_mode": {
    "name": "ipython",
    "version": 3
   },
   "file_extension": ".py",
   "mimetype": "text/x-python",
   "name": "python",
   "nbconvert_exporter": "python",
   "pygments_lexer": "ipython3",
   "version": "3.9.12"
  }
 },
 "nbformat": 4,
 "nbformat_minor": 5
}
