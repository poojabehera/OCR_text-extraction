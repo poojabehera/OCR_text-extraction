{
 "cells": [
  {
   "cell_type": "code",
   "execution_count": 34,
   "id": "5f76be83",
   "metadata": {},
   "outputs": [],
   "source": [
    "! pip install -U spacy -q"
   ]
  },
  {
   "cell_type": "code",
   "execution_count": 35,
   "id": "6fce5e1c",
   "metadata": {},
   "outputs": [],
   "source": [
    "import spacy\n",
    "from spacy.tokens import DocBin\n",
    "from tqdm import tqdm"
   ]
  },
  {
   "cell_type": "code",
   "execution_count": 36,
   "id": "9bde64a7",
   "metadata": {},
   "outputs": [],
   "source": [
    "# load a new spacy model\n",
    "nlp = spacy.blank(\"en\") "
   ]
  },
  {
   "cell_type": "code",
   "execution_count": 37,
   "id": "13151fd2",
   "metadata": {},
   "outputs": [],
   "source": [
    "# create a DocBin object\n",
    "db = DocBin() "
   ]
  },
  {
   "cell_type": "code",
   "execution_count": 38,
   "id": "8e202668",
   "metadata": {},
   "outputs": [],
   "source": [
    "import json"
   ]
  },
  {
   "cell_type": "code",
   "execution_count": 39,
   "id": "846286ef",
   "metadata": {},
   "outputs": [],
   "source": [
    "f = open ('C:/Users/LZ575NE/OneDrive - EY/Desktop/project/ICDP/Data_scanning&redact_code/annotation.json')\n",
    "TRAIN_DATA = json.load(f)"
   ]
  },
  {
   "cell_type": "code",
   "execution_count": 40,
   "id": "71ffe109",
   "metadata": {},
   "outputs": [
    {
     "data": {
      "text/plain": [
       "{'classes': ['PERCENTAGE', 'VALUE', 'ORG', 'CRYPTO'],\n",
       " 'annotations': [['Stocks advanced in Asia on Wednesday after Wall Street rallied on corporate earnings and indications that the Federal Reserve is open to slowing the pace of interest-rate hikes\\r\\n\\r\\n\\r\\n\\r\\nBitcoin held recent gains after rising as much as 4.2% Tuesday to snap the digital asset from its lowest price since November 2020.\\r\\n\\r\\n\\r\\n\\r\\nRevenue up 8.4% at Rs 4,657.1 crore vs Rs 4,173.6 crore Ebitda up 16% at Rs 515.9 crore vs Rs 444.9 crore Net profit at Rs 652.3 crore vs Rs 320 crore (includes Rs 356 crore gain from sale of discontinued operations) Margins at 11.1% vs 10.4% Stocks To Watch\\r\\n\\r\\n',\n",
       "   {'entities': [[110, 125, 'PERSON'],\n",
       "     [184, 191, 'CRYPTO'],\n",
       "     [234, 238, 'PERCENTAGE'],\n",
       "     [334, 338, 'PERCENTAGE'],\n",
       "     [345, 352, 'VALUE'],\n",
       "     [365, 372, 'VALUE'],\n",
       "     [389, 392, 'PERCENTAGE'],\n",
       "     [396, 404, 'VALUE'],\n",
       "     [414, 422, 'VALUE'],\n",
       "     [443, 451, 'VALUE'],\n",
       "     [461, 467, 'VALUE'],\n",
       "     [551, 556, 'PERCENTAGE'],\n",
       "     [560, 565, 'PERCENTAGE']]}],\n",
       "  ['Stocks advanced in Asia on Wednesday after Wall Street rallied on corporate earnings and indications that the Federal Reserve is open to slowing the pace of interest-rate hikes\\r\\n\\r\\n\\r\\n\\r\\nBitcoin held recent gains after rising as much as 4.2% Tuesday to snap the digital asset from its lowest price since November 2020.\\r\\n\\r\\n\\r\\n\\r\\nRevenue up 8.4% at Rs 4,657.1 crore vs Rs 4,173.6 crore Ebitda up 16% at Rs 515.9 crore vs Rs 444.9 crore Net profit at Rs 652.3 crore vs Rs 320 crore (includes Rs 356 crore gain from sale of discontinued operations) Margins at 11.1% vs 10.4% Stocks To Watch\\r\\n\\r\\n',\n",
       "   {'entities': [[110, 125, 'ORG'],\n",
       "     [184, 191, 'CRYPTO'],\n",
       "     [234, 238, 'PERCENTAGE'],\n",
       "     [334, 338, 'PERCENTAGE'],\n",
       "     [345, 352, 'VALUE'],\n",
       "     [365, 372, 'VALUE'],\n",
       "     [389, 392, 'PERCENTAGE'],\n",
       "     [396, 404, 'VALUE'],\n",
       "     [414, 422, 'VALUE'],\n",
       "     [443, 451, 'VALUE'],\n",
       "     [461, 467, 'VALUE'],\n",
       "     [551, 556, 'PERCENTAGE'],\n",
       "     [560, 565, 'PERCENTAGE']]}]]}"
      ]
     },
     "execution_count": 40,
     "metadata": {},
     "output_type": "execute_result"
    }
   ],
   "source": [
    "## Now display custom the Tagged Entity / Annotations as in classes\n",
    "TRAIN_DATA"
   ]
  },
  {
   "cell_type": "code",
   "execution_count": 41,
   "id": "dea1009a",
   "metadata": {},
   "outputs": [],
   "source": [
    "## creating .doc object using the Annotations "
   ]
  },
  {
   "cell_type": "code",
   "execution_count": 42,
   "id": "92f0bf73",
   "metadata": {},
   "outputs": [
    {
     "name": "stderr",
     "output_type": "stream",
     "text": [
      "100%|███████████████████████████████████████████████████████████████████████████████████| 2/2 [00:00<00:00, 181.84it/s]\n"
     ]
    }
   ],
   "source": [
    "for text, annot in tqdm(TRAIN_DATA['annotations']): \n",
    "    doc = nlp.make_doc(text) \n",
    "    ents = []\n",
    "    for start, end, label in annot[\"entities\"]:\n",
    "        span = doc.char_span(start, end, label=label, alignment_mode=\"contract\")\n",
    "        if span is None:\n",
    "            print(\"Skipping entity\")\n",
    "        else:\n",
    "            ents.append(span)\n",
    "    doc.ents = ents \n",
    "    db.add(doc)\n",
    "\n",
    "db.to_disk(\"./training_data.spacy\") # save the docbin object"
   ]
  },
  {
   "cell_type": "code",
   "execution_count": 43,
   "id": "32ce9500",
   "metadata": {},
   "outputs": [
    {
     "name": "stdout",
     "output_type": "stream",
     "text": [
      "\n",
      "[x] The provided output file already exists. To force overwriting the config\n",
      "file, set the --force or -F flag.\n",
      "\n"
     ]
    }
   ],
   "source": [
    "! python -m spacy init config config.cfg --lang en --pipeline ner --optimize efficiency"
   ]
  },
  {
   "cell_type": "code",
   "execution_count": 44,
   "id": "51902f93",
   "metadata": {},
   "outputs": [
    {
     "name": "stdout",
     "output_type": "stream",
     "text": [
      "[i] Saving to output directory: .\n",
      "[i] Using CPU\n",
      "\u001b[1m\n",
      "=========================== Initializing pipeline ===========================\u001b[0m\n"
     ]
    },
    {
     "name": "stderr",
     "output_type": "stream",
     "text": [
      "[2022-12-01 18:41:45,695] [INFO] Set up nlp object from config\n",
      "[2022-12-01 18:41:45,705] [INFO] Pipeline: ['tok2vec', 'ner']\n",
      "[2022-12-01 18:41:45,709] [INFO] Created vocabulary\n",
      "[2022-12-01 18:41:45,710] [INFO] Finished initializing nlp object\n",
      "[2022-12-01 18:41:45,825] [INFO] Initialized pipeline components: ['tok2vec', 'ner']\n"
     ]
    },
    {
     "name": "stdout",
     "output_type": "stream",
     "text": [
      "[+] Initialized pipeline\n",
      "\u001b[1m\n",
      "============================= Training pipeline =============================\u001b[0m\n",
      "[i] Pipeline: ['tok2vec', 'ner']\n",
      "[i] Initial learn rate: 0.001\n",
      "E    #       LOSS TOK2VEC  LOSS NER  ENTS_F  ENTS_P  ENTS_R  SCORE \n",
      "---  ------  ------------  --------  ------  ------  ------  ------\n",
      "  0       0          0.00     59.32    0.00    0.00    0.00    0.00\n",
      "100     200       1411.07   2175.83   96.15   96.15   96.15    0.96\n",
      "200     400          6.85    207.74   96.15   96.15   96.15    0.96\n",
      "300     600         11.37    248.40   96.15   96.15   96.15    0.96\n",
      "500     800         51.43    480.86   96.15   96.15   96.15    0.96\n",
      "700    1000         29.01    518.86   96.15   96.15   96.15    0.96\n",
      "900    1200         48.53    469.82   96.15   96.15   96.15    0.96\n",
      "1100    1400         11.46    441.12   96.15   96.15   96.15    0.96\n",
      "1300    1600         91.74    500.96   96.15   96.15   96.15    0.96\n",
      "1500    1800         17.83    454.40   96.15   96.15   96.15    0.96\n",
      "[+] Saved pipeline to output directory\n",
      "model-last\n"
     ]
    }
   ],
   "source": [
    "! python -m spacy train config.cfg --output ./ --paths.train ./training_data.spacy --paths.dev ./training_data.spacy"
   ]
  },
  {
   "cell_type": "code",
   "execution_count": 45,
   "id": "05b1c3a0",
   "metadata": {},
   "outputs": [],
   "source": [
    "nlp_NER = spacy.load(\"C:/Users/LZ575NE/output/model-best\")"
   ]
  },
  {
   "cell_type": "code",
   "execution_count": 29,
   "id": "f388fefc",
   "metadata": {},
   "outputs": [],
   "source": [
    "doc= nlp_NER('''When Sebastian Thrun started working on self-driving cars at \"\n",
    "        \"Google in 2007, few people outside of the company took him \"\n",
    "        \"seriously. “I can tell you very senior CEOs of major American \"\n",
    "        \"car companies would shake my hand and turn away because I wasn’t \"\n",
    "        \"worth talking to,” said Thrun, in an interview with Recode earlier \"\n",
    "        \"this week''')"
   ]
  },
  {
   "cell_type": "code",
   "execution_count": 30,
   "id": "dcb4e4e9",
   "metadata": {},
   "outputs": [],
   "source": [
    "from spacy import displacy"
   ]
  },
  {
   "cell_type": "code",
   "execution_count": 31,
   "id": "005a824d",
   "metadata": {},
   "outputs": [
    {
     "data": {
      "text/html": [
       "<span class=\"tex2jax_ignore\"><div class=\"entities\" style=\"line-height: 2.5; direction: ltr\">When \n",
       "<mark class=\"entity\" style=\"background: #ddd; padding: 0.45em 0.6em; margin: 0 0.25em; line-height: 1; border-radius: 0.35em;\">\n",
       "    Sebastian\n",
       "    <span style=\"font-size: 0.8em; font-weight: bold; line-height: 1; border-radius: 0.35em; vertical-align: middle; margin-left: 0.5rem\">Fruit</span>\n",
       "</mark>\n",
       " \n",
       "<mark class=\"entity\" style=\"background: #ddd; padding: 0.45em 0.6em; margin: 0 0.25em; line-height: 1; border-radius: 0.35em;\">\n",
       "    Thrun\n",
       "    <span style=\"font-size: 0.8em; font-weight: bold; line-height: 1; border-radius: 0.35em; vertical-align: middle; margin-left: 0.5rem\">Fruit</span>\n",
       "</mark>\n",
       " started working on self-driving cars at &quot;</br>        &quot;\n",
       "<mark class=\"entity\" style=\"background: #ddd; padding: 0.45em 0.6em; margin: 0 0.25em; line-height: 1; border-radius: 0.35em;\">\n",
       "    Google\n",
       "    <span style=\"font-size: 0.8em; font-weight: bold; line-height: 1; border-radius: 0.35em; vertical-align: middle; margin-left: 0.5rem\">Fruit</span>\n",
       "</mark>\n",
       " in 2007, few people outside of the company took him &quot;</br>        &quot;seriously. “I can tell you very senior CEOs of major American &quot;</br>        \n",
       "<mark class=\"entity\" style=\"background: #ddd; padding: 0.45em 0.6em; margin: 0 0.25em; line-height: 1; border-radius: 0.35em;\">\n",
       "    &quot;\n",
       "    <span style=\"font-size: 0.8em; font-weight: bold; line-height: 1; border-radius: 0.35em; vertical-align: middle; margin-left: 0.5rem\">Fruit</span>\n",
       "</mark>\n",
       "car companies would shake my hand and turn away because I wasn’t &quot;</br>        &quot;worth talking to,” said \n",
       "<mark class=\"entity\" style=\"background: #ddd; padding: 0.45em 0.6em; margin: 0 0.25em; line-height: 1; border-radius: 0.35em;\">\n",
       "    Thrun\n",
       "    <span style=\"font-size: 0.8em; font-weight: bold; line-height: 1; border-radius: 0.35em; vertical-align: middle; margin-left: 0.5rem\">Fruit</span>\n",
       "</mark>\n",
       ", in an interview with Recode earlier &quot;</br>        &quot;this week</div></span>"
      ],
      "text/plain": [
       "<IPython.core.display.HTML object>"
      ]
     },
     "metadata": {},
     "output_type": "display_data"
    }
   ],
   "source": [
    "spacy.displacy.render(doc, style=\"ent\", jupyter=True)"
   ]
  },
  {
   "cell_type": "code",
   "execution_count": null,
   "id": "08cb39c2",
   "metadata": {},
   "outputs": [],
   "source": []
  }
 ],
 "metadata": {
  "kernelspec": {
   "display_name": "Python 3 (ipykernel)",
   "language": "python",
   "name": "python3"
  },
  "language_info": {
   "codemirror_mode": {
    "name": "ipython",
    "version": 3
   },
   "file_extension": ".py",
   "mimetype": "text/x-python",
   "name": "python",
   "nbconvert_exporter": "python",
   "pygments_lexer": "ipython3",
   "version": "3.9.12"
  }
 },
 "nbformat": 4,
 "nbformat_minor": 5
}
