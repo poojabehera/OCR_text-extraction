{
 "cells": [
  {
   "cell_type": "code",
   "execution_count": 1,
   "id": "12742783",
   "metadata": {},
   "outputs": [],
   "source": [
    "# imports\n",
    "import extract_msg\n",
    "import fitz\n",
    "import re\n",
    "import spacy\n",
    "from PIL import Image\n",
    "from presidio_image_redactor import ImageRedactorEngine#, ImageAnalyzerEngine\n",
    "from spacy import displacy"
   ]
  },
  {
   "cell_type": "code",
   "execution_count": 2,
   "id": "e41dc8e6",
   "metadata": {},
   "outputs": [],
   "source": [
    "def redact_document(input_path: str, output_path: str, pattern: list, color: str = None):\n",
    "    \"\"\"\n",
    "    Redacts {pattern} is the {input} document and saves it as {output} document\n",
    "    Args:\n",
    "        input_path: Path to the document to be redacted\n",
    "        output_path: Path to save the redacted document\n",
    "        pattern: List of pattern to redact\n",
    "        color: Color to redact. Will be used for both the text and background.\n",
    "    \"\"\"\n",
    "\n",
    "    # Get the text color and text-background color for reaction\n",
    "    txt_color, background_color = redact_colors(color)\n",
    "     # Open the input document\n",
    "    doc = Document(input_path)\n",
    "    # Loop through paragraphs\n",
    "    for para in doc.paragraphs:\n",
    "        # Loop through the runs in the paragraph in the reverse order\n",
    "        run_index = len(para.runs) - 1\n",
    "        while run_index > -1:\n",
    "            run = para.runs[run_index]\n",
    "            # Find the start and end indices of the patterns in the run-text\n",
    "            match_pairs = [(match.start(), match.end()) for match in re.finditer('|'.join(pattern), run.text)]\n",
    "            # Get the locations in the format required for `split_run_by` function\n",
    "            highlights, matches = process_matches(match_pairs, run.text)\n",
    "            # Go to redact only if patterns are found in the text\n",
    "            if len(highlights) > 0 and len(matches) > 0:\n",
    "                if len(highlights) != len(matches) - 1:\n",
    "                    ValueError('Calculation error within matches and highlights')\n",
    "                else:\n",
    "                    if len(matches) == 2:  # When a pattern is the only text in the run\n",
    "                        # Highlight the background color\n",
    "                        run.font.highlight_color = background_color\n",
    "                        # Match the text color to the background color\n",
    "                        run.font.color.rgb = txt_color\n",
    "                    else:\n",
    "                        # Split the runs using the matches\n",
    "                        new_runs = split_run_by(para, run, matches[1:-1])\n",
    "                        # Highlight the run if it matches a pattern\n",
    "                        for highlight, run in zip(highlights, new_runs):\n",
    "                            if highlight:\n",
    "                                # Highlight the background color\n",
    "                                run.font.highlight_color = background_color\n",
    "                                # Match the text color to the background color\n",
    "                                run.font.color.rgb = txt_color\n",
    "            # Decrement the index to process the previous run\n",
    "            run_index -= 1\n",
    "    # Save the redacted document to the output path\n",
    "    doc.save(output_path)"
   ]
  },
  {
   "cell_type": "code",
   "execution_count": null,
   "id": "1f0cb16f",
   "metadata": {},
   "outputs": [],
   "source": []
  }
 ],
 "metadata": {
  "kernelspec": {
   "display_name": "Python 3 (ipykernel)",
   "language": "python",
   "name": "python3"
  },
  "language_info": {
   "codemirror_mode": {
    "name": "ipython",
    "version": 3
   },
   "file_extension": ".py",
   "mimetype": "text/x-python",
   "name": "python",
   "nbconvert_exporter": "python",
   "pygments_lexer": "ipython3",
   "version": "3.9.12"
  }
 },
 "nbformat": 4,
 "nbformat_minor": 5
}
