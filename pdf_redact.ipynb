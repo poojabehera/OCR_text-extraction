{
 "cells": [
  {
   "cell_type": "code",
   "execution_count": 2,
   "id": "d366d1e8",
   "metadata": {},
   "outputs": [],
   "source": [
    "# imports\n",
    "import fitz\n",
    "import re"
   ]
  },
  {
   "cell_type": "code",
   "execution_count": 23,
   "id": "478e70dc",
   "metadata": {},
   "outputs": [
    {
     "ename": "AttributeError",
     "evalue": "'Page' object has no attribute '_wrapContents'",
     "output_type": "error",
     "traceback": [
      "\u001b[1;31m---------------------------------------------------------------------------\u001b[0m",
      "\u001b[1;31mAttributeError\u001b[0m                            Traceback (most recent call last)",
      "Input \u001b[1;32mIn [23]\u001b[0m, in \u001b[0;36m<cell line: 56>\u001b[1;34m()\u001b[0m\n\u001b[0;32m     59\u001b[0m path \u001b[38;5;241m=\u001b[39m \u001b[38;5;28mopen\u001b[39m (\u001b[38;5;124mr\u001b[39m\u001b[38;5;124m'\u001b[39m\u001b[38;5;124mC:\u001b[39m\u001b[38;5;124m\\\u001b[39m\u001b[38;5;124mUsers\u001b[39m\u001b[38;5;124m\\\u001b[39m\u001b[38;5;124mLZ575NE\u001b[39m\u001b[38;5;124m\\\u001b[39m\u001b[38;5;124mOneDrive - EY\u001b[39m\u001b[38;5;124m\\\u001b[39m\u001b[38;5;124mDesktop\u001b[39m\u001b[38;5;124m\\\u001b[39m\u001b[38;5;124mproject\u001b[39m\u001b[38;5;124m\\\u001b[39m\u001b[38;5;124mICDP\u001b[39m\u001b[38;5;124m\\\u001b[39m\u001b[38;5;124mgmail.pdf\u001b[39m\u001b[38;5;124m'\u001b[39m)\n\u001b[0;32m     60\u001b[0m redactor \u001b[38;5;241m=\u001b[39m Redactor(path)\n\u001b[1;32m---> 61\u001b[0m \u001b[43mredactor\u001b[49m\u001b[38;5;241;43m.\u001b[39;49m\u001b[43mredaction\u001b[49m\u001b[43m(\u001b[49m\u001b[43m)\u001b[49m\n",
      "Input \u001b[1;32mIn [23]\u001b[0m, in \u001b[0;36mRedactor.redaction\u001b[1;34m(self)\u001b[0m\n\u001b[0;32m     31\u001b[0m  \u001b[38;5;66;03m# iterating through pages\u001b[39;00m\n\u001b[0;32m     32\u001b[0m \u001b[38;5;28;01mfor\u001b[39;00m page \u001b[38;5;129;01min\u001b[39;00m doc:\n\u001b[0;32m     33\u001b[0m    \n\u001b[0;32m     34\u001b[0m     \u001b[38;5;66;03m# _wrapContents is needed for fixing\u001b[39;00m\n\u001b[0;32m     35\u001b[0m     \u001b[38;5;66;03m# alignment issues with rect boxes in some\u001b[39;00m\n\u001b[0;32m     36\u001b[0m     \u001b[38;5;66;03m# cases where there is alignment issue\u001b[39;00m\n\u001b[1;32m---> 37\u001b[0m     \u001b[43mpage\u001b[49m\u001b[38;5;241;43m.\u001b[39;49m\u001b[43m_wrapContents\u001b[49m()\n\u001b[0;32m     39\u001b[0m       \u001b[38;5;66;03m# getting the rect boxes which consists the matching email regex\u001b[39;00m\n\u001b[0;32m     40\u001b[0m     sensitive \u001b[38;5;241m=\u001b[39m \u001b[38;5;28mself\u001b[39m\u001b[38;5;241m.\u001b[39mget_sensitive_data(page\u001b[38;5;241m.\u001b[39mgetText(\u001b[38;5;124m\"\u001b[39m\u001b[38;5;124mtext\u001b[39m\u001b[38;5;124m\"\u001b[39m)\u001b[38;5;241m.\u001b[39msplit(\u001b[38;5;124m'\u001b[39m\u001b[38;5;130;01m\\n\u001b[39;00m\u001b[38;5;124m'\u001b[39m))\n",
      "\u001b[1;31mAttributeError\u001b[0m: 'Page' object has no attribute '_wrapContents'"
     ]
    }
   ],
   "source": [
    " class Redactor:\n",
    "   \n",
    "    # static methods work independent of class object\n",
    "    @staticmethod\n",
    "    def get_sensitive_data(lines):\n",
    "       \n",
    "        \"\"\" Function to get all the lines \"\"\"\n",
    "         \n",
    "        # email regex\n",
    "        EMAIL_REG = r\"([\\w\\.\\d]+\\@[\\w\\d]+\\.[\\w\\d]+)\"\n",
    "        for line in lines:\n",
    "           \n",
    "            # matching the regex to each line\n",
    "            if re.search(EMAIL_REG, line, re.IGNORECASE):\n",
    "                search = re.search(EMAIL_REG, line, re.IGNORECASE)\n",
    "                 # yields creates a generator\n",
    "                # generator is used to return\n",
    "                # values in between function iterations\n",
    "                yield search.group(1)\n",
    "                # constructor\n",
    "    def __init__(self, path):\n",
    "        self.path = path\n",
    " \n",
    "    def redaction(self):\n",
    "       \n",
    "        \"\"\" main redactor code \"\"\"\n",
    "         \n",
    "        # opening the pdf\n",
    "        doc = fitz.open(self.path)\n",
    "        \n",
    "         # iterating through pages\n",
    "        for page in doc:\n",
    "           \n",
    "            # _wrapContents is needed for fixing\n",
    "            # alignment issues with rect boxes in some\n",
    "            # cases where there is alignment issue\n",
    "            page._wrapContents()\n",
    "            \n",
    "              # getting the rect boxes which consists the matching email regex\n",
    "            sensitive = self.get_sensitive_data(page.getText(\"text\").split('\\n'))\n",
    "            \n",
    "            for data in sensitive:\n",
    "                areas = page.searchFor(data)\n",
    "                \n",
    "                  # drawing outline over sensitive datas\n",
    "                [page.addRedactAnnot(area, fill = (0, 0, 0)) for area in areas]\n",
    "                \n",
    "                 # applying the redaction\n",
    "            page.apply_redactions()\n",
    "            \n",
    "                 # saving it to a new pdf\n",
    "        doc.save('redacted.pdf')\n",
    "        print(\"Successfully redacted\")   \n",
    "        \n",
    "        # driver code for testing\n",
    "if __name__ == \"__main__\":\n",
    "   \n",
    "    # replace it with name of the pdf file\n",
    "    path = open (r'C:\\Users\\LZ575NE\\OneDrive - EY\\Desktop\\project\\ICDP\\gmail.pdf')\n",
    "    redactor = Redactor(path)\n",
    "    redactor.redaction()"
   ]
  },
  {
   "cell_type": "code",
   "execution_count": 17,
   "id": "d158a441",
   "metadata": {},
   "outputs": [
    {
     "ename": "IndentationError",
     "evalue": "unexpected indent (2406444931.py, line 2)",
     "output_type": "error",
     "traceback": [
      "\u001b[1;36m  Input \u001b[1;32mIn [17]\u001b[1;36m\u001b[0m\n\u001b[1;33m    doc.save('redacted.pdf')\u001b[0m\n\u001b[1;37m    ^\u001b[0m\n\u001b[1;31mIndentationError\u001b[0m\u001b[1;31m:\u001b[0m unexpected indent\n"
     ]
    }
   ],
   "source": [
    "\n",
    "       "
   ]
  },
  {
   "cell_type": "code",
   "execution_count": null,
   "id": "42537b8b",
   "metadata": {},
   "outputs": [],
   "source": []
  }
 ],
 "metadata": {
  "kernelspec": {
   "display_name": "Python 3 (ipykernel)",
   "language": "python",
   "name": "python3"
  },
  "language_info": {
   "codemirror_mode": {
    "name": "ipython",
    "version": 3
   },
   "file_extension": ".py",
   "mimetype": "text/x-python",
   "name": "python",
   "nbconvert_exporter": "python",
   "pygments_lexer": "ipython3",
   "version": "3.9.12"
  }
 },
 "nbformat": 4,
 "nbformat_minor": 5
}
