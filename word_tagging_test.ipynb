{
 "cells": [
  {
   "cell_type": "code",
   "execution_count": 1,
   "id": "6b5c6fac",
   "metadata": {},
   "outputs": [],
   "source": [
    "#importing necessary libraries \n",
    "import spacy\n",
    "\n",
    "nlp = spacy.load(\"en_core_web_sm\")  #creating an object and loading the pre-trained model for \"English\""
   ]
  },
  {
   "cell_type": "markdown",
   "id": "ea328f41",
   "metadata": {},
   "source": [
    "Excersie: 1\n",
    "Extract all the Geographical (cities, Countries, states) names from a given text"
   ]
  },
  {
   "cell_type": "code",
   "execution_count": 2,
   "id": "2c2ff5a9",
   "metadata": {},
   "outputs": [
    {
     "name": "stdout",
     "output_type": "stream",
     "text": [
      "Kiran | PERSON\n",
      "India | GPE\n",
      "Google | ORG\n",
      "Google | ORG\n",
      "Delhi | GPE\n",
      "Chaat | ORG\n",
      "Gujarat | GPE\n",
      "Dal Dhokli | ORG\n",
      "Tamilnadu | GPE\n",
      "Pongal | ORG\n",
      "Andhrapradesh | GPE\n",
      "Biryani | PERSON\n",
      "Papaya Khar | PERSON\n",
      "Bihar | GPE\n",
      "Litti Chowkha | PERSON\n"
     ]
    }
   ],
   "source": [
    "doc = nlp(\"\"\"Kiran want to know the famous foods in each state of India. So, he opened Google and search for this question. Google showed that\n",
    "in Delhi it is Chaat, in Gujarat it is Dal Dhokli, in Tamilnadu it is Pongal, in Andhrapradesh it is Biryani, in Assam it is Papaya Khar,\n",
    "in Bihar it is Litti Chowkha and so on for all other states\"\"\")\n",
    "\n",
    "#doc = nlp(text)\n",
    "for ent in doc.ents:\n",
    "        print(ent.text, \"|\", ent.label_)"
   ]
  },
  {
   "cell_type": "markdown",
   "id": "eee02c1a",
   "metadata": {},
   "source": [
    "Excersie: 2\n",
    "Extract all the birth dates of cricketers in the given Text"
   ]
  },
  {
   "cell_type": "code",
   "execution_count": 4,
   "id": "4ac4ff88",
   "metadata": {},
   "outputs": [],
   "source": [
    "text = \"\"\"Sachin Tendulkar was born on 24 April 1973, Virat Kholi was born on 5 November 1988, Dhoni was born on 7 July 1981\n",
    "and finally Ricky ponting was born on 19 December 1974.\"\"\"\n",
    "\n",
    "doc = nlp(text)"
   ]
  },
  {
   "cell_type": "code",
   "execution_count": null,
   "id": "8e0fe41b",
   "metadata": {},
   "outputs": [],
   "source": []
  }
 ],
 "metadata": {
  "kernelspec": {
   "display_name": "Python 3 (ipykernel)",
   "language": "python",
   "name": "python3"
  },
  "language_info": {
   "codemirror_mode": {
    "name": "ipython",
    "version": 3
   },
   "file_extension": ".py",
   "mimetype": "text/x-python",
   "name": "python",
   "nbconvert_exporter": "python",
   "pygments_lexer": "ipython3",
   "version": "3.9.12"
  }
 },
 "nbformat": 4,
 "nbformat_minor": 5
}
