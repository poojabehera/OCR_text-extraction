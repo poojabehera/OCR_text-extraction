{
 "cells": [
  {
   "cell_type": "code",
   "execution_count": 1,
   "id": "5950b257",
   "metadata": {},
   "outputs": [],
   "source": [
    "# Read text from Images using pytesseract"
   ]
  },
  {
   "cell_type": "code",
   "execution_count": 1,
   "id": "f935d33c",
   "metadata": {},
   "outputs": [],
   "source": [
    "import pytesseract\n",
    "import cv2"
   ]
  },
  {
   "cell_type": "code",
   "execution_count": 2,
   "id": "17cee253",
   "metadata": {},
   "outputs": [],
   "source": [
    "pytesseract.pytesseract.tesseract_cmd=(r\"C:\\Users\\LZ575NE\\AppData\\Local\\Tesseract-OCR\\tesseract.exe\")"
   ]
  },
  {
   "cell_type": "code",
   "execution_count": 3,
   "id": "e06c1f93",
   "metadata": {},
   "outputs": [],
   "source": [
    "img = cv2.imread(\"C://Users//LZ575NE//OneDrive - EY//Desktop//project//ICDP//ocr.JPG\")\n",
    "cv2.imshow(\"sample\",img)\n",
    "#cv2.waitKey(0)\n",
    "#cv2.destroyAllWindows()"
   ]
  },
  {
   "cell_type": "code",
   "execution_count": 4,
   "id": "46ebc268",
   "metadata": {},
   "outputs": [
    {
     "name": "stdout",
     "output_type": "stream",
     "text": [
      "Optical character recognition or optical character\n",
      "reader is the electronic or mechanical conversion of\n",
      "images of typed, handwritten or printed text into\n",
      "machine-encoded text, whether from a scanned\n",
      "document, a photo of a document, a scene-photo or\n",
      "from subtitle text superimposed on an image.\n",
      "\n"
     ]
    }
   ],
   "source": [
    "print(pytesseract.image_to_string('C://Users//LZ575NE//OneDrive - EY//Desktop//project//ICDP//ocr.JPG'))"
   ]
  },
  {
   "cell_type": "code",
   "execution_count": 5,
   "id": "d29380bb",
   "metadata": {},
   "outputs": [
    {
     "data": {
      "text/plain": [
       "383"
      ]
     },
     "execution_count": 5,
     "metadata": {},
     "output_type": "execute_result"
    }
   ],
   "source": [
    "import spacy\n",
    "nlp_model = spacy.load(\"en_core_web_sm\")\n",
    "doc = nlp_model(\"This is Tutorialspoint.com.\")\n",
    "ents = list(doc.ents)\n",
    "ents[0].label\n"
   ]
  },
  {
   "cell_type": "code",
   "execution_count": 21,
   "id": "14043b54",
   "metadata": {},
   "outputs": [
    {
     "data": {
      "text/plain": [
       "383"
      ]
     },
     "execution_count": 21,
     "metadata": {},
     "output_type": "execute_result"
    }
   ],
   "source": [
    "ents[0].label"
   ]
  },
  {
   "cell_type": "code",
   "execution_count": 22,
   "id": "edfb0725",
   "metadata": {},
   "outputs": [
    {
     "data": {
      "text/plain": [
       "This is Tutorialspoint.com."
      ]
     },
     "execution_count": 22,
     "metadata": {},
     "output_type": "execute_result"
    }
   ],
   "source": [
    "ents[0].doc"
   ]
  }
 ],
 "metadata": {
  "kernelspec": {
   "display_name": "Python 3 (ipykernel)",
   "language": "python",
   "name": "python3"
  },
  "language_info": {
   "codemirror_mode": {
    "name": "ipython",
    "version": 3
   },
   "file_extension": ".py",
   "mimetype": "text/x-python",
   "name": "python",
   "nbconvert_exporter": "python",
   "pygments_lexer": "ipython3",
   "version": "3.9.12"
  }
 },
 "nbformat": 4,
 "nbformat_minor": 5
}
