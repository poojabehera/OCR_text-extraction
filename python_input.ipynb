{
 "cells": [
  {
   "cell_type": "code",
   "execution_count": 1,
   "id": "73b66ec7",
   "metadata": {},
   "outputs": [],
   "source": [
    "## create a Band name Generator"
   ]
  },
  {
   "cell_type": "code",
   "execution_count": 2,
   "id": "dfcb2604",
   "metadata": {},
   "outputs": [
    {
     "name": "stdout",
     "output_type": "stream",
     "text": [
      "Wlcome to the Board\n"
     ]
    }
   ],
   "source": [
    "## make greetings\n",
    "print(\"Wlcome to the Board\")"
   ]
  },
  {
   "cell_type": "code",
   "execution_count": 5,
   "id": "422f7c98",
   "metadata": {},
   "outputs": [
    {
     "name": "stdout",
     "output_type": "stream",
     "text": [
      "which city did you grow up in\n",
      "Delhi\n"
     ]
    }
   ],
   "source": [
    "city= input(\"which city did you grow up in\\n\")"
   ]
  },
  {
   "cell_type": "code",
   "execution_count": 6,
   "id": "fdc90774",
   "metadata": {},
   "outputs": [],
   "source": [
    "# ask the user for a pet"
   ]
  },
  {
   "cell_type": "code",
   "execution_count": 8,
   "id": "82d2145d",
   "metadata": {},
   "outputs": [
    {
     "name": "stdout",
     "output_type": "stream",
     "text": [
      "enter the name of your pet\n",
      "Nun\n"
     ]
    }
   ],
   "source": [
    "pet= input(\"enter the name of your pet\\n\")"
   ]
  },
  {
   "cell_type": "code",
   "execution_count": 9,
   "id": "774ac256",
   "metadata": {},
   "outputs": [],
   "source": [
    "##combine name of city and pet name together"
   ]
  },
  {
   "cell_type": "code",
   "execution_count": 18,
   "id": "8dd8a0d7",
   "metadata": {},
   "outputs": [
    {
     "name": "stdout",
     "output_type": "stream",
     "text": [
      "Your Band name is Delhi  Nun\n"
     ]
    }
   ],
   "source": [
    "print(\"Your Band name is\"+ \" \" +city  + \"  \" +pet )"
   ]
  },
  {
   "cell_type": "code",
   "execution_count": null,
   "id": "d4682960",
   "metadata": {},
   "outputs": [],
   "source": []
  }
 ],
 "metadata": {
  "kernelspec": {
   "display_name": "Python 3 (ipykernel)",
   "language": "python",
   "name": "python3"
  },
  "language_info": {
   "codemirror_mode": {
    "name": "ipython",
    "version": 3
   },
   "file_extension": ".py",
   "mimetype": "text/x-python",
   "name": "python",
   "nbconvert_exporter": "python",
   "pygments_lexer": "ipython3",
   "version": "3.9.12"
  }
 },
 "nbformat": 4,
 "nbformat_minor": 5
}
