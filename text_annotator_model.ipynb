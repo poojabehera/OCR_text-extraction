{
 "cells": [
  {
   "cell_type": "code",
   "execution_count": 10,
   "id": "a3c204b6",
   "metadata": {},
   "outputs": [],
   "source": [
    "#load spacy\n",
    "# en_core_web_sm is a pretrained model\n",
    "import spacy\n",
    "nlp= spacy.load(\"en_core_web_sm\")"
   ]
  },
  {
   "cell_type": "code",
   "execution_count": 11,
   "id": "a3da46e8",
   "metadata": {},
   "outputs": [
    {
     "data": {
      "text/plain": [
       "['tok2vec', 'tagger', 'parser', 'attribute_ruler', 'lemmatizer', 'ner']"
      ]
     },
     "execution_count": 11,
     "metadata": {},
     "output_type": "execute_result"
    }
   ],
   "source": [
    "nlp.pipe_names"
   ]
  },
  {
   "cell_type": "code",
   "execution_count": 12,
   "id": "dfd019c2",
   "metadata": {},
   "outputs": [],
   "source": [
    "# ner= name entity recognition\n",
    "#This doc property is used for the named entities in the document\n",
    "#If the entity recognizer has been applied, this property will return a tuple of named entity span objects."
   ]
  },
  {
   "cell_type": "code",
   "execution_count": 13,
   "id": "b06a5aa5",
   "metadata": {},
   "outputs": [
    {
     "name": "stdout",
     "output_type": "stream",
     "text": [
      "Tesla Inc | ORG\n",
      "$45 billion | MONEY\n"
     ]
    }
   ],
   "source": [
    "doc= nlp(\"Tesla Inc is going to acquire twitter for $45 billion \")\n",
    "for ent in doc.ents:\n",
    "        print(ent.text, \"|\", ent.label_)"
   ]
  },
  {
   "cell_type": "code",
   "execution_count": 14,
   "id": "03566650",
   "metadata": {},
   "outputs": [
    {
     "name": "stdout",
     "output_type": "stream",
     "text": [
      "Tesla Inc | 383 | Companies, agencies, institutions, etc.\n",
      "$45 billion | 394 | Monetary values, including unit\n"
     ]
    }
   ],
   "source": [
    "doc= nlp(\"Tesla Inc is going to acquire twitter for $45 billion \")\n",
    "for ent in doc.ents:\n",
    "        print(ent.text, \"|\", ent.label, \"|\", spacy.explain(ent.label_))"
   ]
  },
  {
   "cell_type": "code",
   "execution_count": 15,
   "id": "b1574218",
   "metadata": {},
   "outputs": [],
   "source": [
    "## this can be render as below\n",
    "from spacy import displacy"
   ]
  },
  {
   "cell_type": "code",
   "execution_count": 16,
   "id": "8acabf77",
   "metadata": {},
   "outputs": [
    {
     "data": {
      "text/html": [
       "<span class=\"tex2jax_ignore\"><div class=\"entities\" style=\"line-height: 2.5; direction: ltr\">\n",
       "<mark class=\"entity\" style=\"background: #7aecec; padding: 0.45em 0.6em; margin: 0 0.25em; line-height: 1; border-radius: 0.35em;\">\n",
       "    Tesla Inc\n",
       "    <span style=\"font-size: 0.8em; font-weight: bold; line-height: 1; border-radius: 0.35em; vertical-align: middle; margin-left: 0.5rem\">ORG</span>\n",
       "</mark>\n",
       " is going to acquire twitter for \n",
       "<mark class=\"entity\" style=\"background: #e4e7d2; padding: 0.45em 0.6em; margin: 0 0.25em; line-height: 1; border-radius: 0.35em;\">\n",
       "    $45 billion\n",
       "    <span style=\"font-size: 0.8em; font-weight: bold; line-height: 1; border-radius: 0.35em; vertical-align: middle; margin-left: 0.5rem\">MONEY</span>\n",
       "</mark>\n",
       " </div></span>"
      ],
      "text/plain": [
       "<IPython.core.display.HTML object>"
      ]
     },
     "metadata": {},
     "output_type": "display_data"
    }
   ],
   "source": [
    "displacy.render(doc, style=\"ent\")"
   ]
  },
  {
   "cell_type": "code",
   "execution_count": 17,
   "id": "ffbf6d1e",
   "metadata": {},
   "outputs": [
    {
     "name": "stdout",
     "output_type": "stream",
     "text": [
      "Tesla Inc | 383 | Companies, agencies, institutions, etc.\n",
      "Twitter Inc | 383 | Companies, agencies, institutions, etc.\n",
      "$45 billion | 394 | Monetary values, including unit\n"
     ]
    }
   ],
   "source": [
    "#it didnt capture twitter,  tweak\n",
    "doc= nlp(\"Tesla Inc is going to acquire Twitter Inc for $45 billion \")\n",
    "for ent in doc.ents:\n",
    "        print(ent.text, \"|\", ent.label, \"|\", spacy.explain(ent.label_))"
   ]
  },
  {
   "cell_type": "code",
   "execution_count": 18,
   "id": "565216d0",
   "metadata": {},
   "outputs": [
    {
     "data": {
      "text/html": [
       "<span class=\"tex2jax_ignore\"><div class=\"entities\" style=\"line-height: 2.5; direction: ltr\">\n",
       "<mark class=\"entity\" style=\"background: #7aecec; padding: 0.45em 0.6em; margin: 0 0.25em; line-height: 1; border-radius: 0.35em;\">\n",
       "    Tesla Inc\n",
       "    <span style=\"font-size: 0.8em; font-weight: bold; line-height: 1; border-radius: 0.35em; vertical-align: middle; margin-left: 0.5rem\">ORG</span>\n",
       "</mark>\n",
       " is going to acquire \n",
       "<mark class=\"entity\" style=\"background: #7aecec; padding: 0.45em 0.6em; margin: 0 0.25em; line-height: 1; border-radius: 0.35em;\">\n",
       "    Twitter Inc\n",
       "    <span style=\"font-size: 0.8em; font-weight: bold; line-height: 1; border-radius: 0.35em; vertical-align: middle; margin-left: 0.5rem\">ORG</span>\n",
       "</mark>\n",
       " for \n",
       "<mark class=\"entity\" style=\"background: #e4e7d2; padding: 0.45em 0.6em; margin: 0 0.25em; line-height: 1; border-radius: 0.35em;\">\n",
       "    $45 billion\n",
       "    <span style=\"font-size: 0.8em; font-weight: bold; line-height: 1; border-radius: 0.35em; vertical-align: middle; margin-left: 0.5rem\">MONEY</span>\n",
       "</mark>\n",
       " </div></span>"
      ],
      "text/plain": [
       "<IPython.core.display.HTML object>"
      ]
     },
     "metadata": {},
     "output_type": "display_data"
    }
   ],
   "source": [
    "displacy.render(doc, style=\"ent\")"
   ]
  },
  {
   "cell_type": "code",
   "execution_count": 19,
   "id": "87d409b6",
   "metadata": {},
   "outputs": [
    {
     "data": {
      "text/plain": [
       "['CARDINAL',\n",
       " 'DATE',\n",
       " 'EVENT',\n",
       " 'FAC',\n",
       " 'GPE',\n",
       " 'LANGUAGE',\n",
       " 'LAW',\n",
       " 'LOC',\n",
       " 'MONEY',\n",
       " 'NORP',\n",
       " 'ORDINAL',\n",
       " 'ORG',\n",
       " 'PERCENT',\n",
       " 'PERSON',\n",
       " 'PRODUCT',\n",
       " 'QUANTITY',\n",
       " 'TIME',\n",
       " 'WORK_OF_ART']"
      ]
     },
     "execution_count": 19,
     "metadata": {},
     "output_type": "execute_result"
    }
   ],
   "source": [
    "## entities supported by Spacy\n",
    "nlp.pipe_labels[\"ner\"]"
   ]
  },
  {
   "cell_type": "code",
   "execution_count": 20,
   "id": "80101ef9",
   "metadata": {},
   "outputs": [
    {
     "name": "stdout",
     "output_type": "stream",
     "text": [
      "Michael Bloomerg | 380 | People, including fictional\n",
      "Bloomerg Inc | 380 | People, including fictional\n",
      "1982 | 391 | Absolute or relative dates or periods\n"
     ]
    }
   ],
   "source": [
    "#doc= nlp(\"Michael Bloomerg founded by Bloomerg in 1982\")\n",
    "doc= nlp(\"Michael Bloomerg founded by Bloomerg Inc in 1982\")\n",
    "for ent in doc.ents:\n",
    "        print(ent.text, \"|\", ent.label, \"|\", spacy.explain(ent.label_))"
   ]
  },
  {
   "cell_type": "code",
   "execution_count": 21,
   "id": "3985c051",
   "metadata": {},
   "outputs": [],
   "source": [
    "## Spcay fails to detect Bloomerg as organization \n",
    "## 391 is date\n",
    "## 380 is GPE"
   ]
  },
  {
   "cell_type": "markdown",
   "id": "1e822da2",
   "metadata": {},
   "source": [
    "Setting Custom Entity"
   ]
  },
  {
   "cell_type": "code",
   "execution_count": 22,
   "id": "d4a8ce5e",
   "metadata": {},
   "outputs": [],
   "source": [
    " ## Token is a slice of word in NLP\n",
    "## Span is substring of a Token in Spacy  \n",
    "## copying doc1 form above"
   ]
  },
  {
   "cell_type": "code",
   "execution_count": 23,
   "id": "f71b7816",
   "metadata": {},
   "outputs": [
    {
     "name": "stdout",
     "output_type": "stream",
     "text": [
      "Tesla Inc | ORG\n",
      "Twitter | PERSON\n",
      "$45 billion | MONEY\n"
     ]
    }
   ],
   "source": [
    "doc= nlp(\"Tesla Inc is going to acquire Twitter for $45 billion \")\n",
    "for ent in doc.ents:\n",
    "        print(ent.text, \"|\", ent.label_)"
   ]
  },
  {
   "cell_type": "code",
   "execution_count": 24,
   "id": "8df89478",
   "metadata": {},
   "outputs": [
    {
     "data": {
      "text/plain": [
       "spacy.tokens.doc.Doc"
      ]
     },
     "execution_count": 24,
     "metadata": {},
     "output_type": "execute_result"
    }
   ],
   "source": [
    "#doc[0]\n",
    "type(doc)"
   ]
  },
  {
   "cell_type": "code",
   "execution_count": 25,
   "id": "c0fe3683",
   "metadata": {},
   "outputs": [
    {
     "data": {
      "text/plain": [
       "is going to"
      ]
     },
     "execution_count": 25,
     "metadata": {},
     "output_type": "execute_result"
    }
   ],
   "source": [
    "doc[2:5]"
   ]
  },
  {
   "cell_type": "code",
   "execution_count": 26,
   "id": "4f7cd373",
   "metadata": {},
   "outputs": [
    {
     "data": {
      "text/plain": [
       "spacy.tokens.span.Span"
      ]
     },
     "execution_count": 26,
     "metadata": {},
     "output_type": "execute_result"
    }
   ],
   "source": [
    "type(doc[2:5])"
   ]
  },
  {
   "cell_type": "code",
   "execution_count": 27,
   "id": "662cf7a2",
   "metadata": {},
   "outputs": [],
   "source": [
    "##How to set entity annotation for tokens outside of any provided spans. \n",
    "#Options: \"blocked\", \"missing\", \"outside\" and \"unmodified\" (preserve current state). Defaults to \"outside\".\n",
    "# type str"
   ]
  },
  {
   "cell_type": "code",
   "execution_count": 28,
   "id": "3af8945d",
   "metadata": {},
   "outputs": [],
   "source": [
    "from spacy.tokens import Span\n",
    "\n",
    "s1= Span(doc, 0,1, label='ORG' )\n",
    "s2= Span(doc, 6,7, label='ORG' )\n",
    "\n",
    "doc.set_ents([s1, s2], default='unmodified')"
   ]
  },
  {
   "cell_type": "code",
   "execution_count": 29,
   "id": "5017783b",
   "metadata": {},
   "outputs": [
    {
     "name": "stdout",
     "output_type": "stream",
     "text": [
      "Tesla Inc | ORG\n",
      "Twitter | ORG\n",
      "$45 billion | MONEY\n"
     ]
    }
   ],
   "source": [
    "for ent in doc.ents:\n",
    "        print(ent.text, \"|\", ent.label_)"
   ]
  },
  {
   "cell_type": "code",
   "execution_count": 30,
   "id": "9eca2e86",
   "metadata": {},
   "outputs": [],
   "source": [
    "## you can create rule based entity using Spacy Entity Ruler"
   ]
  },
  {
   "cell_type": "markdown",
   "id": "c78987a1",
   "metadata": {},
   "source": [
    "## Custom NER with spaCy v3 "
   ]
  },
  {
   "cell_type": "code",
   "execution_count": 31,
   "id": "48a732c4",
   "metadata": {},
   "outputs": [],
   "source": [
    "! pip install -U spacy -q"
   ]
  },
  {
   "cell_type": "code",
   "execution_count": 71,
   "id": "1201cbca",
   "metadata": {},
   "outputs": [],
   "source": [
    "## looking for spacy version\n",
    "## to do custom NER using spacy 3"
   ]
  },
  {
   "cell_type": "code",
   "execution_count": 2,
   "id": "1b3cb742",
   "metadata": {},
   "outputs": [
    {
     "name": "stdout",
     "output_type": "stream",
     "text": [
      "\u001b[1m\n",
      "============================== Info about spaCy ==============================\u001b[0m\n",
      "\n",
      "spaCy version    3.4.3                         \n",
      "Location         C:\\Users\\LZ575NE\\Anaconda3\\lib\\site-packages\\spacy\n",
      "Platform         Windows-10-10.0.19044-SP0     \n",
      "Python version   3.9.12                        \n",
      "Pipelines        en_core_web_lg (3.4.1), en_core_web_sm (3.4.1)\n",
      "\n"
     ]
    }
   ],
   "source": [
    "!python -m spacy info"
   ]
  },
  {
   "cell_type": "code",
   "execution_count": 73,
   "id": "9ee0549f",
   "metadata": {},
   "outputs": [],
   "source": [
    "## now convert the Json file into .spacy object\n",
    "## spacy doesnt have trained NER process\n",
    "## with .spacy doc object we will make custom NER"
   ]
  },
  {
   "cell_type": "code",
   "execution_count": 4,
   "id": "3fe2c368",
   "metadata": {},
   "outputs": [],
   "source": [
    "import spacy\n",
    "from spacy.tokens import DocBin\n",
    "from tqdm import tqdm"
   ]
  },
  {
   "cell_type": "code",
   "execution_count": 5,
   "id": "194eb163",
   "metadata": {},
   "outputs": [],
   "source": [
    "# load a new spacy model\n",
    "nlp = spacy.blank(\"en\") \n",
    "\n",
    "# create a DocBin object\n",
    "db = DocBin() "
   ]
  },
  {
   "cell_type": "code",
   "execution_count": 6,
   "id": "593026fd",
   "metadata": {},
   "outputs": [],
   "source": [
    "import json"
   ]
  },
  {
   "cell_type": "code",
   "execution_count": 7,
   "id": "4a50b0ad",
   "metadata": {},
   "outputs": [],
   "source": [
    "f = open ('C:/Users/LZ575NE/OneDrive - EY/Desktop/project/ICDP/Data_scanning&redact_code/train2.json')\n",
    "TRAIN_DATA = json.load(f)"
   ]
  },
  {
   "cell_type": "code",
   "execution_count": 8,
   "id": "7616598b",
   "metadata": {},
   "outputs": [
    {
     "data": {
      "text/plain": [
       "{'classes': ['PERCENTAGE', 'VALUE', 'PERSON', 'ORG', 'CRYPTO'],\n",
       " 'annotations': [['The global crypto market capitalisation tumbled 3.60 percent over the last 24 hours to $2.18 VALUE trillion while the total trading volume fell 6.79 percent to $95.77 PERCENTAGE billion.While DeFi ($15.16 billion) accounted for 15.83 percent of the trading volume, stablecoins ($75.16 billion) made up 78.48 percent. The market dominance of Bitcoin CRYPTO rose 0.29 percent to 40.45 percent today morning. Bitcoin is currently trading at $46,560.09 VALUE .As for major cryptocurrencies, Bitcoin tumbled 2.46 percent to trade at Rs 37,49,173 while Ethereum fell 4.48 percent at Rs 2,93,527.4. Cardano declined 7.25 percent to Rs 105.4. Avalanche fell 8.77 percent to Rs 8,048 PERCENTAGE , Polkadot tumbled 7.53 percent at Rs 2,137.04 and Litecoin dipped 1.04 percent to Rs 11,725.33 over the last 24 hours. Tether rose 0.12 percent to trade at Rs 80.18. Memecoin SHIB fell 5.61 percent while Dogecoin decreased 4.29 percent to trade at Rs 13.56. LUNA fell around 6.39 percent to Rs 6,579.55. Ethereum CRYPTO -based metaverse game The Sandbox co-founder and operations chief Sebastien Borget PERCENTAGE viewed the metaverse as a digital nation, saying that itâ€™s validating to see his teamâ€™s idea for a community-owned, user-customisable online game world embraced by more people.RELATED STORIES 2021: A Year Of VALUE NFT Craze ORG Elon Musk PERSON reveals who he thinks the mysterious Satoshi Nakamoto is Crypto Learn: How to read Crypto Charts? â€œ Every CRYPTO day, the map is different. There are new landowners and new communities that come and decide to build things next to each other. I feel like it\\'s a digital nationâ€”living and breathing. That\\'s why it\\'s exciting. It\\'s culturally rich, itâ€™s global, and it\\'s accessible,\" he continued.Per blockchain data site Glassnode, there are now 71,364,788 addresses holding some amount of Ethereum, the second-largest cryptocurrency by market capitalisation.Meanwhile, a white hat hacker won a bug bounty. In early December, the person known as Leon Spacewalker PERCENTAGE on Twitter had helped Polygon avert a multibillion-dollar disaster. He reported an exploit in a critical Polygon smart contract that held more than nine billion MATIC tokens on Dec. 3, then worth around $20.2 billion. Core developers rushed a fix by Dec. 5. Spacewalker reportedly won a $2.2 million bug bounty, the blockchain network announced yesterday.',\n",
       "   {'entities': [[48, 60, 'PERCENTAGE'],\n",
       "     [87, 92, 'VALUE'],\n",
       "     [144, 156, 'PERCENTAGE'],\n",
       "     [160, 166, 'VALUE'],\n",
       "     [192, 196, 'CRYPTO'],\n",
       "     [198, 212, 'VALUE'],\n",
       "     [228, 241, 'PERCENTAGE'],\n",
       "     [265, 276, 'CRYPTO'],\n",
       "     [278, 292, 'VALUE'],\n",
       "     [302, 316, 'PERCENTAGE'],\n",
       "     [341, 348, 'CRYPTO'],\n",
       "     [361, 373, 'PERCENTAGE'],\n",
       "     [377, 390, 'PERCENTAGE'],\n",
       "     [406, 413, 'CRYPTO'],\n",
       "     [438, 448, 'VALUE'],\n",
       "     [487, 494, 'CRYPTO'],\n",
       "     [503, 515, 'PERCENTAGE'],\n",
       "     [528, 540, 'VALUE'],\n",
       "     [547, 555, 'CRYPTO'],\n",
       "     [561, 573, 'PERCENTAGE'],\n",
       "     [577, 591, 'VALUE'],\n",
       "     [592, 599, 'CRYPTO'],\n",
       "     [609, 621, 'PERCENTAGE'],\n",
       "     [625, 634, 'VALUE'],\n",
       "     [635, 644, 'CRYPTO'],\n",
       "     [650, 662, 'PERCENTAGE'],\n",
       "     [666, 674, 'VALUE'],\n",
       "     [688, 696, 'CRYPTO'],\n",
       "     [705, 717, 'PERCENTAGE'],\n",
       "     [721, 732, 'VALUE'],\n",
       "     [737, 745, 'CRYPTO'],\n",
       "     [753, 765, 'PERCENTAGE'],\n",
       "     [769, 781, 'VALUE'],\n",
       "     [806, 812, 'CRYPTO'],\n",
       "     [818, 830, 'PERCENTAGE'],\n",
       "     [843, 852, 'VALUE'],\n",
       "     [853, 866, 'CRYPTO'],\n",
       "     [872, 884, 'PERCENTAGE'],\n",
       "     [891, 899, 'CRYPTO'],\n",
       "     [910, 922, 'PERCENTAGE'],\n",
       "     [935, 944, 'VALUE'],\n",
       "     [945, 949, 'CRYPTO'],\n",
       "     [962, 974, 'PERCENTAGE'],\n",
       "     [978, 990, 'VALUE'],\n",
       "     [991, 999, 'CRYPTO'],\n",
       "     [1073, 1089, 'PERSON'],\n",
       "     [1329, 1338, 'PERSON'],\n",
       "     [1383, 1399, 'PERCENTAGE'],\n",
       "     [1834, 1842, 'CRYPTO'],\n",
       "     [1990, 2006, 'PERSON'],\n",
       "     [2221, 2235, 'VALUE'],\n",
       "     [2276, 2287, 'PERSON'],\n",
       "     [2305, 2317, 'VALUE']]}]]}"
      ]
     },
     "execution_count": 8,
     "metadata": {},
     "output_type": "execute_result"
    }
   ],
   "source": [
    "## Now display custom the Tagged Entity / Annotations as in classes\n",
    "TRAIN_DATA"
   ]
  },
  {
   "cell_type": "code",
   "execution_count": 9,
   "id": "2bd9888d",
   "metadata": {},
   "outputs": [],
   "source": [
    "## creating .doc object using the Annotations "
   ]
  },
  {
   "cell_type": "code",
   "execution_count": 10,
   "id": "94d18235",
   "metadata": {},
   "outputs": [
    {
     "name": "stderr",
     "output_type": "stream",
     "text": [
      "100%|████████████████████████████████████████████████████████████████████████████████████| 1/1 [00:00<00:00, 44.61it/s]\n"
     ]
    }
   ],
   "source": [
    "for text, annot in tqdm(TRAIN_DATA['annotations']): \n",
    "    doc = nlp.make_doc(text) \n",
    "    ents = []\n",
    "    for start, end, label in annot[\"entities\"]:\n",
    "        span = doc.char_span(start, end, label=label, alignment_mode=\"contract\")\n",
    "        if span is None:\n",
    "            print(\"Skipping entity\")\n",
    "        else:\n",
    "            ents.append(span)\n",
    "    doc.ents = ents \n",
    "    db.add(doc)\n",
    "\n",
    "db.to_disk(\"./training_data.spacy\") # save the docbin object"
   ]
  },
  {
   "cell_type": "code",
   "execution_count": 11,
   "id": "49f17bc0",
   "metadata": {},
   "outputs": [],
   "source": [
    "## Manually specifying the widget pipline and language as eng"
   ]
  },
  {
   "cell_type": "code",
   "execution_count": 12,
   "id": "6441cbe4",
   "metadata": {},
   "outputs": [
    {
     "name": "stdout",
     "output_type": "stream",
     "text": [
      "\n",
      "[x] The provided output file already exists. To force overwriting the config\n",
      "file, set the --force or -F flag.\n",
      "\n"
     ]
    }
   ],
   "source": [
    "! python -m spacy init config config.cfg --lang en --pipeline ner --optimize efficiency"
   ]
  },
  {
   "cell_type": "code",
   "execution_count": 13,
   "id": "334ce307",
   "metadata": {},
   "outputs": [],
   "source": [
    "## Now train the Model using the config file since we have the training file\n",
    "## ---output-- is output directory\n",
    "## output --paths  dump everything in my current root folder\n",
    "## using training file as validation object or the test object \n",
    "## To train the model kernal takes time more than usual"
   ]
  },
  {
   "cell_type": "code",
   "execution_count": 14,
   "id": "c4d8a22f",
   "metadata": {},
   "outputs": [
    {
     "name": "stdout",
     "output_type": "stream",
     "text": [
      "[i] Saving to output directory: ."
     ]
    },
    {
     "name": "stderr",
     "output_type": "stream",
     "text": [
      "[2022-12-01 18:27:49,792] [INFO] Set up nlp object from config\n",
      "[2022-12-01 18:27:49,812] [INFO] Pipeline: ['tok2vec', 'ner']\n",
      "[2022-12-01 18:27:49,820] [INFO] Created vocabulary\n",
      "[2022-12-01 18:27:49,821] [INFO] Finished initializing nlp object\n",
      "[2022-12-01 18:27:50,045] [INFO] Initialized pipeline components: ['tok2vec', 'ner']\n"
     ]
    },
    {
     "name": "stdout",
     "output_type": "stream",
     "text": [
      "\n",
      "[i] Using CPU\n",
      "\u001b[1m\n",
      "=========================== Initializing pipeline ===========================\u001b[0m\n",
      "[+] Initialized pipeline\n",
      "\u001b[1m\n",
      "============================= Training pipeline =============================\u001b[0m\n",
      "[i] Pipeline: ['tok2vec', 'ner']\n",
      "[i] Initial learn rate: 0.001\n",
      "E    #       LOSS TOK2VEC  LOSS NER  ENTS_F  ENTS_P  ENTS_R  SCORE \n",
      "---  ------  ------------  --------  ------  ------  ------  ------\n",
      "  0       0          0.00    227.72    0.00    0.00    0.00    0.00\n",
      "200     200        306.75   6005.77  100.00  100.00  100.00    1.00\n",
      "400     400          0.00      0.00  100.00  100.00  100.00    1.00\n",
      "600     600          0.00      0.00  100.00  100.00  100.00    1.00\n",
      "800     800          0.00      0.00  100.00  100.00  100.00    1.00\n",
      "1000    1000          0.00      0.00  100.00  100.00  100.00    1.00\n",
      "1200    1200          0.00      0.00  100.00  100.00  100.00    1.00\n",
      "1400    1400          0.00      0.00  100.00  100.00  100.00    1.00\n",
      "1600    1600          0.00      0.00  100.00  100.00  100.00    1.00\n",
      "1800    1800          0.00      0.00  100.00  100.00  100.00    1.00\n",
      "[+] Saved pipeline to output directory\n",
      "model-last\n"
     ]
    }
   ],
   "source": [
    "! python -m spacy train config.cfg --output ./ --paths.train ./training_data.spacy --paths.dev ./training_data.spacy"
   ]
  },
  {
   "cell_type": "code",
   "execution_count": 39,
   "id": "ad82f27d",
   "metadata": {},
   "outputs": [],
   "source": [
    "## conversion will happen soon as we have taken  validation data same as training data \n",
    "## will test the Model using some more text data to check Model efficeincy"
   ]
  },
  {
   "cell_type": "code",
   "execution_count": 40,
   "id": "4ddf55ae",
   "metadata": {},
   "outputs": [],
   "source": [
    "## now loading the model-best"
   ]
  },
  {
   "cell_type": "code",
   "execution_count": 41,
   "id": "84828e43",
   "metadata": {},
   "outputs": [],
   "source": [
    "##import os "
   ]
  },
  {
   "cell_type": "code",
   "execution_count": 42,
   "id": "55081f6b",
   "metadata": {},
   "outputs": [],
   "source": [
    "##os. getcwd() "
   ]
  },
  {
   "cell_type": "code",
   "execution_count": 43,
   "id": "bdc26611",
   "metadata": {},
   "outputs": [],
   "source": [
    "## dir_path = os.path.dirname(os.path.realpath('model-last'))"
   ]
  },
  {
   "cell_type": "code",
   "execution_count": 15,
   "id": "67153c78",
   "metadata": {},
   "outputs": [],
   "source": [
    "nlp_NER = spacy.load(\"C:/Users/LZ575NE/output/model-best\")"
   ]
  },
  {
   "cell_type": "code",
   "execution_count": 16,
   "id": "1045546b",
   "metadata": {},
   "outputs": [],
   "source": [
    "## Now create the doc object"
   ]
  },
  {
   "cell_type": "code",
   "execution_count": 51,
   "id": "4b4c7dc0",
   "metadata": {},
   "outputs": [],
   "source": [
    "doc= nlp_NER(''' The price of bitcoin, the world's largest cryptocurrency, hovered around Rs 14.28 lakh, with a dominance of 38.65 percent\n",
    "\n",
    "Major cryptocurrencies were trading in the green early on November 23 as the global crypto market cap jumped 3.68 percent to $819.18 billion, over the last day. On the other hand, the total crypto market volume dropped 5.92 percent to $62.21 billion over the last 24 hours.\n",
    "\n",
    "The total volume in DeFi stood at $4.61 billion, which is 7.41 percent of the total crypto market 24-hour volume. The volume of all stable coins was $59.00 billion, which is 94.84 percent of the total crypto market 24-hour volume.\n",
    "\n",
    "The price of bitcoin, the world's largest cryptocurrency, hovered around Rs 14.28 lakh, with a dominance of 38.65 percent, an increase of 0.05 per cent over the day, according to Coinmarketcap. ''')"
   ]
  },
  {
   "cell_type": "code",
   "execution_count": 47,
   "id": "d716cd2c",
   "metadata": {},
   "outputs": [],
   "source": [
    "## spacy render will render the Tags created \n",
    "# display in Jupyter"
   ]
  },
  {
   "cell_type": "code",
   "execution_count": 19,
   "id": "4c745e03",
   "metadata": {},
   "outputs": [],
   "source": [
    "from spacy import displacy"
   ]
  },
  {
   "cell_type": "code",
   "execution_count": null,
   "id": "f7b919d7",
   "metadata": {},
   "outputs": [
    {
     "data": {
      "text/html": [
       "<span class=\"tex2jax_ignore\"><!DOCTYPE html>\n",
       "<html lang=\"en\">\n",
       "    <head>\n",
       "        <title>displaCy</title>\n",
       "    </head>\n",
       "\n",
       "    <body style=\"font-size: 16px; font-family: -apple-system, BlinkMacSystemFont, 'Segoe UI', Helvetica, Arial, sans-serif, 'Apple Color Emoji', 'Segoe UI Emoji', 'Segoe UI Symbol'; padding: 4rem 2rem; direction: ltr\">\n",
       "<figure style=\"margin-bottom: 6rem\">\n",
       "<div class=\"entities\" style=\"line-height: 2.5; direction: ltr\">The global crypto market capitalisation tumbled \n",
       "<mark class=\"entity\" style=\"background: #ddd; padding: 0.45em 0.6em; margin: 0 0.25em; line-height: 1; border-radius: 0.35em;\">\n",
       "    3.60 percent\n",
       "    <span style=\"font-size: 0.8em; font-weight: bold; line-height: 1; border-radius: 0.35em; vertical-align: middle; margin-left: 0.5rem\">PERCENTAGE</span>\n",
       "</mark>\n",
       " over the last 24 hours to \n",
       "<mark class=\"entity\" style=\"background: #ddd; padding: 0.45em 0.6em; margin: 0 0.25em; line-height: 1; border-radius: 0.35em;\">\n",
       "    $2.18\n",
       "    <span style=\"font-size: 0.8em; font-weight: bold; line-height: 1; border-radius: 0.35em; vertical-align: middle; margin-left: 0.5rem\">VALUE</span>\n",
       "</mark>\n",
       " VALUE trillion while the total trading volume fell \n",
       "<mark class=\"entity\" style=\"background: #ddd; padding: 0.45em 0.6em; margin: 0 0.25em; line-height: 1; border-radius: 0.35em;\">\n",
       "    6.79 percent\n",
       "    <span style=\"font-size: 0.8em; font-weight: bold; line-height: 1; border-radius: 0.35em; vertical-align: middle; margin-left: 0.5rem\">PERCENTAGE</span>\n",
       "</mark>\n",
       " to \n",
       "<mark class=\"entity\" style=\"background: #ddd; padding: 0.45em 0.6em; margin: 0 0.25em; line-height: 1; border-radius: 0.35em;\">\n",
       "    $95.77\n",
       "    <span style=\"font-size: 0.8em; font-weight: bold; line-height: 1; border-radius: 0.35em; vertical-align: middle; margin-left: 0.5rem\">VALUE</span>\n",
       "</mark>\n",
       " PERCENTAGE billion.While \n",
       "<mark class=\"entity\" style=\"background: #ddd; padding: 0.45em 0.6em; margin: 0 0.25em; line-height: 1; border-radius: 0.35em;\">\n",
       "    DeFi\n",
       "    <span style=\"font-size: 0.8em; font-weight: bold; line-height: 1; border-radius: 0.35em; vertical-align: middle; margin-left: 0.5rem\">CRYPTO</span>\n",
       "</mark>\n",
       " (\n",
       "<mark class=\"entity\" style=\"background: #ddd; padding: 0.45em 0.6em; margin: 0 0.25em; line-height: 1; border-radius: 0.35em;\">\n",
       "    $15.16 billion\n",
       "    <span style=\"font-size: 0.8em; font-weight: bold; line-height: 1; border-radius: 0.35em; vertical-align: middle; margin-left: 0.5rem\">VALUE</span>\n",
       "</mark>\n",
       ") accounted for \n",
       "<mark class=\"entity\" style=\"background: #ddd; padding: 0.45em 0.6em; margin: 0 0.25em; line-height: 1; border-radius: 0.35em;\">\n",
       "    15.83 percent\n",
       "    <span style=\"font-size: 0.8em; font-weight: bold; line-height: 1; border-radius: 0.35em; vertical-align: middle; margin-left: 0.5rem\">PERCENTAGE</span>\n",
       "</mark>\n",
       " of the trading volume, \n",
       "<mark class=\"entity\" style=\"background: #ddd; padding: 0.45em 0.6em; margin: 0 0.25em; line-height: 1; border-radius: 0.35em;\">\n",
       "    stablecoins\n",
       "    <span style=\"font-size: 0.8em; font-weight: bold; line-height: 1; border-radius: 0.35em; vertical-align: middle; margin-left: 0.5rem\">CRYPTO</span>\n",
       "</mark>\n",
       " (\n",
       "<mark class=\"entity\" style=\"background: #ddd; padding: 0.45em 0.6em; margin: 0 0.25em; line-height: 1; border-radius: 0.35em;\">\n",
       "    $75.16 billion\n",
       "    <span style=\"font-size: 0.8em; font-weight: bold; line-height: 1; border-radius: 0.35em; vertical-align: middle; margin-left: 0.5rem\">VALUE</span>\n",
       "</mark>\n",
       ") made up \n",
       "<mark class=\"entity\" style=\"background: #ddd; padding: 0.45em 0.6em; margin: 0 0.25em; line-height: 1; border-radius: 0.35em;\">\n",
       "    78.48 percent.\n",
       "    <span style=\"font-size: 0.8em; font-weight: bold; line-height: 1; border-radius: 0.35em; vertical-align: middle; margin-left: 0.5rem\">PERCENTAGE</span>\n",
       "</mark>\n",
       " The market dominance of \n",
       "<mark class=\"entity\" style=\"background: #ddd; padding: 0.45em 0.6em; margin: 0 0.25em; line-height: 1; border-radius: 0.35em;\">\n",
       "    Bitcoin\n",
       "    <span style=\"font-size: 0.8em; font-weight: bold; line-height: 1; border-radius: 0.35em; vertical-align: middle; margin-left: 0.5rem\">CRYPTO</span>\n",
       "</mark>\n",
       " CRYPTO rose \n",
       "<mark class=\"entity\" style=\"background: #ddd; padding: 0.45em 0.6em; margin: 0 0.25em; line-height: 1; border-radius: 0.35em;\">\n",
       "    0.29 percent\n",
       "    <span style=\"font-size: 0.8em; font-weight: bold; line-height: 1; border-radius: 0.35em; vertical-align: middle; margin-left: 0.5rem\">PERCENTAGE</span>\n",
       "</mark>\n",
       " to \n",
       "<mark class=\"entity\" style=\"background: #ddd; padding: 0.45em 0.6em; margin: 0 0.25em; line-height: 1; border-radius: 0.35em;\">\n",
       "    40.45 percent\n",
       "    <span style=\"font-size: 0.8em; font-weight: bold; line-height: 1; border-radius: 0.35em; vertical-align: middle; margin-left: 0.5rem\">PERCENTAGE</span>\n",
       "</mark>\n",
       " today morning. \n",
       "<mark class=\"entity\" style=\"background: #ddd; padding: 0.45em 0.6em; margin: 0 0.25em; line-height: 1; border-radius: 0.35em;\">\n",
       "    Bitcoin\n",
       "    <span style=\"font-size: 0.8em; font-weight: bold; line-height: 1; border-radius: 0.35em; vertical-align: middle; margin-left: 0.5rem\">CRYPTO</span>\n",
       "</mark>\n",
       " is currently trading at \n",
       "<mark class=\"entity\" style=\"background: #ddd; padding: 0.45em 0.6em; margin: 0 0.25em; line-height: 1; border-radius: 0.35em;\">\n",
       "    $46,560.09\n",
       "    <span style=\"font-size: 0.8em; font-weight: bold; line-height: 1; border-radius: 0.35em; vertical-align: middle; margin-left: 0.5rem\">VALUE</span>\n",
       "</mark>\n",
       " VALUE .As for major cryptocurrencies, \n",
       "<mark class=\"entity\" style=\"background: #ddd; padding: 0.45em 0.6em; margin: 0 0.25em; line-height: 1; border-radius: 0.35em;\">\n",
       "    Bitcoin\n",
       "    <span style=\"font-size: 0.8em; font-weight: bold; line-height: 1; border-radius: 0.35em; vertical-align: middle; margin-left: 0.5rem\">CRYPTO</span>\n",
       "</mark>\n",
       " tumbled \n",
       "<mark class=\"entity\" style=\"background: #ddd; padding: 0.45em 0.6em; margin: 0 0.25em; line-height: 1; border-radius: 0.35em;\">\n",
       "    2.46 percent\n",
       "    <span style=\"font-size: 0.8em; font-weight: bold; line-height: 1; border-radius: 0.35em; vertical-align: middle; margin-left: 0.5rem\">PERCENTAGE</span>\n",
       "</mark>\n",
       " to trade at \n",
       "<mark class=\"entity\" style=\"background: #ddd; padding: 0.45em 0.6em; margin: 0 0.25em; line-height: 1; border-radius: 0.35em;\">\n",
       "    Rs 37,49,173\n",
       "    <span style=\"font-size: 0.8em; font-weight: bold; line-height: 1; border-radius: 0.35em; vertical-align: middle; margin-left: 0.5rem\">VALUE</span>\n",
       "</mark>\n",
       " while \n",
       "<mark class=\"entity\" style=\"background: #ddd; padding: 0.45em 0.6em; margin: 0 0.25em; line-height: 1; border-radius: 0.35em;\">\n",
       "    Ethereum\n",
       "    <span style=\"font-size: 0.8em; font-weight: bold; line-height: 1; border-radius: 0.35em; vertical-align: middle; margin-left: 0.5rem\">CRYPTO</span>\n",
       "</mark>\n",
       " fell \n",
       "<mark class=\"entity\" style=\"background: #ddd; padding: 0.45em 0.6em; margin: 0 0.25em; line-height: 1; border-radius: 0.35em;\">\n",
       "    4.48 percent\n",
       "    <span style=\"font-size: 0.8em; font-weight: bold; line-height: 1; border-radius: 0.35em; vertical-align: middle; margin-left: 0.5rem\">PERCENTAGE</span>\n",
       "</mark>\n",
       " at \n",
       "<mark class=\"entity\" style=\"background: #ddd; padding: 0.45em 0.6em; margin: 0 0.25em; line-height: 1; border-radius: 0.35em;\">\n",
       "    Rs 2,93,527.4.\n",
       "    <span style=\"font-size: 0.8em; font-weight: bold; line-height: 1; border-radius: 0.35em; vertical-align: middle; margin-left: 0.5rem\">VALUE</span>\n",
       "</mark>\n",
       " \n",
       "<mark class=\"entity\" style=\"background: #ddd; padding: 0.45em 0.6em; margin: 0 0.25em; line-height: 1; border-radius: 0.35em;\">\n",
       "    Cardano\n",
       "    <span style=\"font-size: 0.8em; font-weight: bold; line-height: 1; border-radius: 0.35em; vertical-align: middle; margin-left: 0.5rem\">CRYPTO</span>\n",
       "</mark>\n",
       " declined \n",
       "<mark class=\"entity\" style=\"background: #ddd; padding: 0.45em 0.6em; margin: 0 0.25em; line-height: 1; border-radius: 0.35em;\">\n",
       "    7.25 percent\n",
       "    <span style=\"font-size: 0.8em; font-weight: bold; line-height: 1; border-radius: 0.35em; vertical-align: middle; margin-left: 0.5rem\">PERCENTAGE</span>\n",
       "</mark>\n",
       " to \n",
       "<mark class=\"entity\" style=\"background: #ddd; padding: 0.45em 0.6em; margin: 0 0.25em; line-height: 1; border-radius: 0.35em;\">\n",
       "    Rs 105.4.\n",
       "    <span style=\"font-size: 0.8em; font-weight: bold; line-height: 1; border-radius: 0.35em; vertical-align: middle; margin-left: 0.5rem\">VALUE</span>\n",
       "</mark>\n",
       " \n",
       "<mark class=\"entity\" style=\"background: #ddd; padding: 0.45em 0.6em; margin: 0 0.25em; line-height: 1; border-radius: 0.35em;\">\n",
       "    Avalanche\n",
       "    <span style=\"font-size: 0.8em; font-weight: bold; line-height: 1; border-radius: 0.35em; vertical-align: middle; margin-left: 0.5rem\">CRYPTO</span>\n",
       "</mark>\n",
       " fell \n",
       "<mark class=\"entity\" style=\"background: #ddd; padding: 0.45em 0.6em; margin: 0 0.25em; line-height: 1; border-radius: 0.35em;\">\n",
       "    8.77 percent\n",
       "    <span style=\"font-size: 0.8em; font-weight: bold; line-height: 1; border-radius: 0.35em; vertical-align: middle; margin-left: 0.5rem\">PERCENTAGE</span>\n",
       "</mark>\n",
       " to \n",
       "<mark class=\"entity\" style=\"background: #ddd; padding: 0.45em 0.6em; margin: 0 0.25em; line-height: 1; border-radius: 0.35em;\">\n",
       "    Rs 8,048\n",
       "    <span style=\"font-size: 0.8em; font-weight: bold; line-height: 1; border-radius: 0.35em; vertical-align: middle; margin-left: 0.5rem\">VALUE</span>\n",
       "</mark>\n",
       " PERCENTAGE , \n",
       "<mark class=\"entity\" style=\"background: #ddd; padding: 0.45em 0.6em; margin: 0 0.25em; line-height: 1; border-radius: 0.35em;\">\n",
       "    Polkadot\n",
       "    <span style=\"font-size: 0.8em; font-weight: bold; line-height: 1; border-radius: 0.35em; vertical-align: middle; margin-left: 0.5rem\">CRYPTO</span>\n",
       "</mark>\n",
       " tumbled \n",
       "<mark class=\"entity\" style=\"background: #ddd; padding: 0.45em 0.6em; margin: 0 0.25em; line-height: 1; border-radius: 0.35em;\">\n",
       "    7.53 percent\n",
       "    <span style=\"font-size: 0.8em; font-weight: bold; line-height: 1; border-radius: 0.35em; vertical-align: middle; margin-left: 0.5rem\">PERCENTAGE</span>\n",
       "</mark>\n",
       " at \n",
       "<mark class=\"entity\" style=\"background: #ddd; padding: 0.45em 0.6em; margin: 0 0.25em; line-height: 1; border-radius: 0.35em;\">\n",
       "    Rs 2,137.04\n",
       "    <span style=\"font-size: 0.8em; font-weight: bold; line-height: 1; border-radius: 0.35em; vertical-align: middle; margin-left: 0.5rem\">VALUE</span>\n",
       "</mark>\n",
       " and \n",
       "<mark class=\"entity\" style=\"background: #ddd; padding: 0.45em 0.6em; margin: 0 0.25em; line-height: 1; border-radius: 0.35em;\">\n",
       "    Litecoin\n",
       "    <span style=\"font-size: 0.8em; font-weight: bold; line-height: 1; border-radius: 0.35em; vertical-align: middle; margin-left: 0.5rem\">CRYPTO</span>\n",
       "</mark>\n",
       " dipped \n",
       "<mark class=\"entity\" style=\"background: #ddd; padding: 0.45em 0.6em; margin: 0 0.25em; line-height: 1; border-radius: 0.35em;\">\n",
       "    1.04 percent\n",
       "    <span style=\"font-size: 0.8em; font-weight: bold; line-height: 1; border-radius: 0.35em; vertical-align: middle; margin-left: 0.5rem\">PERCENTAGE</span>\n",
       "</mark>\n",
       " to \n",
       "<mark class=\"entity\" style=\"background: #ddd; padding: 0.45em 0.6em; margin: 0 0.25em; line-height: 1; border-radius: 0.35em;\">\n",
       "    Rs 11,725.33\n",
       "    <span style=\"font-size: 0.8em; font-weight: bold; line-height: 1; border-radius: 0.35em; vertical-align: middle; margin-left: 0.5rem\">VALUE</span>\n",
       "</mark>\n",
       " over the last 24 hours. \n",
       "<mark class=\"entity\" style=\"background: #ddd; padding: 0.45em 0.6em; margin: 0 0.25em; line-height: 1; border-radius: 0.35em;\">\n",
       "    Tether\n",
       "    <span style=\"font-size: 0.8em; font-weight: bold; line-height: 1; border-radius: 0.35em; vertical-align: middle; margin-left: 0.5rem\">CRYPTO</span>\n",
       "</mark>\n",
       " rose \n",
       "<mark class=\"entity\" style=\"background: #ddd; padding: 0.45em 0.6em; margin: 0 0.25em; line-height: 1; border-radius: 0.35em;\">\n",
       "    0.12 percent\n",
       "    <span style=\"font-size: 0.8em; font-weight: bold; line-height: 1; border-radius: 0.35em; vertical-align: middle; margin-left: 0.5rem\">PERCENTAGE</span>\n",
       "</mark>\n",
       " to trade at \n",
       "<mark class=\"entity\" style=\"background: #ddd; padding: 0.45em 0.6em; margin: 0 0.25em; line-height: 1; border-radius: 0.35em;\">\n",
       "    Rs 80.18.\n",
       "    <span style=\"font-size: 0.8em; font-weight: bold; line-height: 1; border-radius: 0.35em; vertical-align: middle; margin-left: 0.5rem\">VALUE</span>\n",
       "</mark>\n",
       " \n",
       "<mark class=\"entity\" style=\"background: #ddd; padding: 0.45em 0.6em; margin: 0 0.25em; line-height: 1; border-radius: 0.35em;\">\n",
       "    Memecoin SHIB\n",
       "    <span style=\"font-size: 0.8em; font-weight: bold; line-height: 1; border-radius: 0.35em; vertical-align: middle; margin-left: 0.5rem\">CRYPTO</span>\n",
       "</mark>\n",
       " fell \n",
       "<mark class=\"entity\" style=\"background: #ddd; padding: 0.45em 0.6em; margin: 0 0.25em; line-height: 1; border-radius: 0.35em;\">\n",
       "    5.61 percent\n",
       "    <span style=\"font-size: 0.8em; font-weight: bold; line-height: 1; border-radius: 0.35em; vertical-align: middle; margin-left: 0.5rem\">PERCENTAGE</span>\n",
       "</mark>\n",
       " while \n",
       "<mark class=\"entity\" style=\"background: #ddd; padding: 0.45em 0.6em; margin: 0 0.25em; line-height: 1; border-radius: 0.35em;\">\n",
       "    Dogecoin\n",
       "    <span style=\"font-size: 0.8em; font-weight: bold; line-height: 1; border-radius: 0.35em; vertical-align: middle; margin-left: 0.5rem\">CRYPTO</span>\n",
       "</mark>\n",
       " decreased \n",
       "<mark class=\"entity\" style=\"background: #ddd; padding: 0.45em 0.6em; margin: 0 0.25em; line-height: 1; border-radius: 0.35em;\">\n",
       "    4.29 percent\n",
       "    <span style=\"font-size: 0.8em; font-weight: bold; line-height: 1; border-radius: 0.35em; vertical-align: middle; margin-left: 0.5rem\">PERCENTAGE</span>\n",
       "</mark>\n",
       " to trade at \n",
       "<mark class=\"entity\" style=\"background: #ddd; padding: 0.45em 0.6em; margin: 0 0.25em; line-height: 1; border-radius: 0.35em;\">\n",
       "    Rs 13.56.\n",
       "    <span style=\"font-size: 0.8em; font-weight: bold; line-height: 1; border-radius: 0.35em; vertical-align: middle; margin-left: 0.5rem\">VALUE</span>\n",
       "</mark>\n",
       " \n",
       "<mark class=\"entity\" style=\"background: #ddd; padding: 0.45em 0.6em; margin: 0 0.25em; line-height: 1; border-radius: 0.35em;\">\n",
       "    LUNA\n",
       "    <span style=\"font-size: 0.8em; font-weight: bold; line-height: 1; border-radius: 0.35em; vertical-align: middle; margin-left: 0.5rem\">CRYPTO</span>\n",
       "</mark>\n",
       " fell around \n",
       "<mark class=\"entity\" style=\"background: #ddd; padding: 0.45em 0.6em; margin: 0 0.25em; line-height: 1; border-radius: 0.35em;\">\n",
       "    6.39 percent\n",
       "    <span style=\"font-size: 0.8em; font-weight: bold; line-height: 1; border-radius: 0.35em; vertical-align: middle; margin-left: 0.5rem\">PERCENTAGE</span>\n",
       "</mark>\n",
       " to \n",
       "<mark class=\"entity\" style=\"background: #ddd; padding: 0.45em 0.6em; margin: 0 0.25em; line-height: 1; border-radius: 0.35em;\">\n",
       "    Rs 6,579.55.\n",
       "    <span style=\"font-size: 0.8em; font-weight: bold; line-height: 1; border-radius: 0.35em; vertical-align: middle; margin-left: 0.5rem\">VALUE</span>\n",
       "</mark>\n",
       " \n",
       "<mark class=\"entity\" style=\"background: #ddd; padding: 0.45em 0.6em; margin: 0 0.25em; line-height: 1; border-radius: 0.35em;\">\n",
       "    Ethereum\n",
       "    <span style=\"font-size: 0.8em; font-weight: bold; line-height: 1; border-radius: 0.35em; vertical-align: middle; margin-left: 0.5rem\">CRYPTO</span>\n",
       "</mark>\n",
       " CRYPTO -based metaverse game The Sandbox co-founder and operations chief \n",
       "<mark class=\"entity\" style=\"background: #aa9cfc; padding: 0.45em 0.6em; margin: 0 0.25em; line-height: 1; border-radius: 0.35em;\">\n",
       "    Sebastien Borget\n",
       "    <span style=\"font-size: 0.8em; font-weight: bold; line-height: 1; border-radius: 0.35em; vertical-align: middle; margin-left: 0.5rem\">PERSON</span>\n",
       "</mark>\n",
       " PERCENTAGE viewed the metaverse as a digital nation, saying that itâ€™s validating to see his teamâ€™s idea for a community-owned, user-customisable online game world embraced by more people.RELATED STORIES 2021: A Year Of VALUE NFT Craze \n",
       "<mark class=\"entity\" style=\"background: #aa9cfc; padding: 0.45em 0.6em; margin: 0 0.25em; line-height: 1; border-radius: 0.35em;\">\n",
       "    ORG Elon\n",
       "    <span style=\"font-size: 0.8em; font-weight: bold; line-height: 1; border-radius: 0.35em; vertical-align: middle; margin-left: 0.5rem\">PERSON</span>\n",
       "</mark>\n",
       " Musk PERSON reveals who he thinks the mysterious \n",
       "<mark class=\"entity\" style=\"background: #ddd; padding: 0.45em 0.6em; margin: 0 0.25em; line-height: 1; border-radius: 0.35em;\">\n",
       "    Satoshi\n",
       "    <span style=\"font-size: 0.8em; font-weight: bold; line-height: 1; border-radius: 0.35em; vertical-align: middle; margin-left: 0.5rem\">PERCENTAGE</span>\n",
       "</mark>\n",
       " Nakamoto is Crypto Learn: How to read Crypto Charts? â€œ Every CRYPTO day, the map is different. There are new landowners and new communities that come and decide to build things next to each other. I feel like it's a digital nationâ€”living and breathing. That's why it's exciting. It's culturally rich, itâ€™s global, and it's accessible,&quot; he continued.Per blockchain data site Glassnode, there are now 71,364,788 addresses holding some \n",
       "<mark class=\"entity\" style=\"background: #ddd; padding: 0.45em 0.6em; margin: 0 0.25em; line-height: 1; border-radius: 0.35em;\">\n",
       "    amount\n",
       "    <span style=\"font-size: 0.8em; font-weight: bold; line-height: 1; border-radius: 0.35em; vertical-align: middle; margin-left: 0.5rem\">CRYPTO</span>\n",
       "</mark>\n",
       " of Ethereum, the second-largest cryptocurrency by market capitalisation.Meanwhile, a white hat hacker won a bug bounty. In early December, the person \n",
       "<mark class=\"entity\" style=\"background: #aa9cfc; padding: 0.45em 0.6em; margin: 0 0.25em; line-height: 1; border-radius: 0.35em;\">\n",
       "    known as Leon\n",
       "    <span style=\"font-size: 0.8em; font-weight: bold; line-height: 1; border-radius: 0.35em; vertical-align: middle; margin-left: 0.5rem\">PERSON</span>\n",
       "</mark>\n",
       " Spacewalker PERCENTAGE on Twitter had helped Polygon avert a multibillion-dollar disaster. He reported an exploit in a critical Polygon smart contract that held more than nine billion MATIC tokens on Dec. 3, then worth \n",
       "<mark class=\"entity\" style=\"background: #ddd; padding: 0.45em 0.6em; margin: 0 0.25em; line-height: 1; border-radius: 0.35em;\">\n",
       "    around $\n",
       "    <span style=\"font-size: 0.8em; font-weight: bold; line-height: 1; border-radius: 0.35em; vertical-align: middle; margin-left: 0.5rem\">VALUE</span>\n",
       "</mark>\n",
       "20.2 billion. Core developers rushed a fix by \n",
       "<mark class=\"entity\" style=\"background: #aa9cfc; padding: 0.45em 0.6em; margin: 0 0.25em; line-height: 1; border-radius: 0.35em;\">\n",
       "    Dec. 5.\n",
       "    <span style=\"font-size: 0.8em; font-weight: bold; line-height: 1; border-radius: 0.35em; vertical-align: middle; margin-left: 0.5rem\">PERSON</span>\n",
       "</mark>\n",
       " Spacewalker reportedly \n",
       "<mark class=\"entity\" style=\"background: #ddd; padding: 0.45em 0.6em; margin: 0 0.25em; line-height: 1; border-radius: 0.35em;\">\n",
       "    won a $\n",
       "    <span style=\"font-size: 0.8em; font-weight: bold; line-height: 1; border-radius: 0.35em; vertical-align: middle; margin-left: 0.5rem\">VALUE</span>\n",
       "</mark>\n",
       "2.2 million bug bounty, the blockchain network announced yesterday.</div>\n",
       "</figure>\n",
       "</body>\n",
       "</html></span>"
      ],
      "text/plain": [
       "<IPython.core.display.HTML object>"
      ]
     },
     "metadata": {},
     "output_type": "display_data"
    },
    {
     "name": "stdout",
     "output_type": "stream",
     "text": [
      "\n",
      "Using the 'ent' visualizer\n",
      "Serving on http://0.0.0.0:5000 ...\n",
      "\n"
     ]
    }
   ],
   "source": [
    "#for i in doc:\n",
    "#    print(i)\n",
    "#colors = {\"CRYPTO\": \"#F67DE3\", \"VALUE\": \"#7DF6D9\", \"PERCENTAGE\":\"#a6e22d\"}\n",
    "#options = {\"colors\": colors} \n",
    "#spacy.displacy.render(doc, style= 'ent', options= options,  jupyter=True)\n",
    "#displacy.render(doc, style=\"ent\", jupyter=True)\n",
    "#spacy.displacy.render(doc, style=\"ent\", jupyter=True)\n",
    "displacy.serve(doc, style=\"ent\")"
   ]
  },
  {
   "cell_type": "code",
   "execution_count": null,
   "id": "37c93b8c",
   "metadata": {},
   "outputs": [],
   "source": []
  },
  {
   "cell_type": "code",
   "execution_count": null,
   "id": "12f72a3f",
   "metadata": {},
   "outputs": [],
   "source": []
  }
 ],
 "metadata": {
  "kernelspec": {
   "display_name": "Python 3 (ipykernel)",
   "language": "python",
   "name": "python3"
  },
  "language_info": {
   "codemirror_mode": {
    "name": "ipython",
    "version": 3
   },
   "file_extension": ".py",
   "mimetype": "text/x-python",
   "name": "python",
   "nbconvert_exporter": "python",
   "pygments_lexer": "ipython3",
   "version": "3.9.12"
  }
 },
 "nbformat": 4,
 "nbformat_minor": 5
}
