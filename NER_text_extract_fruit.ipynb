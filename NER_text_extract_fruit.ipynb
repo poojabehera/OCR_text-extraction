{
 "cells": [
  {
   "cell_type": "markdown",
   "id": "d89cc902",
   "metadata": {},
   "source": [
    "Named Entity Recognition\n",
    "  Information Extraction\n",
    "  Detect and classify the named entities in unstructured data"
   ]
  },
  {
   "cell_type": "code",
   "execution_count": 48,
   "id": "8790cf79",
   "metadata": {},
   "outputs": [],
   "source": [
    "#load spacy\n",
    "import spacy"
   ]
  },
  {
   "cell_type": "code",
   "execution_count": 49,
   "id": "125d69a8",
   "metadata": {},
   "outputs": [],
   "source": [
    "# Load English tokenizer, tagger, parser and NER\n",
    "nlp = spacy.load(\"en_core_web_sm\")"
   ]
  },
  {
   "cell_type": "code",
   "execution_count": 50,
   "id": "0dd7c968",
   "metadata": {
    "scrolled": true
   },
   "outputs": [
    {
     "name": "stdout",
     "output_type": "stream",
     "text": [
      "Sebastian Thrun | 380 | People, including fictional\n",
      "Google | 383 | Companies, agencies, institutions, etc.\n",
      "2007 | 391 | Absolute or relative dates or periods\n",
      "American | 381 | Nationalities or religious or political groups\n",
      "Thrun | 380 | People, including fictional\n",
      "Recode | 383 | Companies, agencies, institutions, etc.\n",
      "earlier this week | 391 | Absolute or relative dates or periods\n"
     ]
    }
   ],
   "source": [
    "# Process whole documents\n",
    "doc = nlp(\"When Sebastian Thrun started working on self-driving cars at \"\n",
    "        \"Google in 2007, few people outside of the company took him \"\n",
    "        \"seriously. “I can tell you very senior CEOs of major American \"\n",
    "        \"car companies would shake my hand and turn away because I wasn’t \"\n",
    "        \"worth talking to,” said Thrun, in an interview with Recode earlier \"\n",
    "        \"this week.\")\n",
    "for ent in doc.ents:\n",
    "        print(ent.text, \"|\", ent.label, \"|\", spacy.explain(ent.label_))"
   ]
  },
  {
   "cell_type": "code",
   "execution_count": 51,
   "id": "c5d14f2d",
   "metadata": {},
   "outputs": [
    {
     "name": "stdout",
     "output_type": "stream",
     "text": [
      "Noun phrases: ['Sebastian Thrun', 'self-driving cars', 'Google', 'few people', 'the company', 'him', 'I', 'you', 'very senior CEOs', 'major American car companies', 'my hand', 'I', 'Thrun', 'an interview', 'Recode']\n",
      "Verbs: ['start', 'work', 'drive', 'take', 'tell', 'shake', 'turn', 'talk', 'say']\n"
     ]
    }
   ],
   "source": [
    "# Analyze syntax\n",
    "print(\"Noun phrases:\", [chunk.text for chunk in doc.noun_chunks])\n",
    "print(\"Verbs:\", [token.lemma_ for token in doc if token.pos_ == \"VERB\"])"
   ]
  },
  {
   "cell_type": "code",
   "execution_count": 52,
   "id": "e5f27155",
   "metadata": {},
   "outputs": [
    {
     "name": "stdout",
     "output_type": "stream",
     "text": [
      "Sebastian Thrun PERSON\n",
      "Google ORG\n",
      "2007 DATE\n",
      "American NORP\n",
      "Thrun PERSON\n",
      "Recode ORG\n",
      "earlier this week DATE\n"
     ]
    }
   ],
   "source": [
    "# Find named entities, phrases and concepts\n",
    "for entity in doc.ents:\n",
    "    print(entity.text, entity.label_)"
   ]
  },
  {
   "cell_type": "markdown",
   "id": "57f7ce0e",
   "metadata": {},
   "source": [
    "Visualization"
   ]
  },
  {
   "cell_type": "code",
   "execution_count": 53,
   "id": "ffa33cf2",
   "metadata": {},
   "outputs": [],
   "source": [
    "from spacy import displacy"
   ]
  },
  {
   "cell_type": "code",
   "execution_count": 54,
   "id": "e10875d9",
   "metadata": {},
   "outputs": [
    {
     "data": {
      "text/html": [
       "<span class=\"tex2jax_ignore\"><div class=\"entities\" style=\"line-height: 2.5; direction: ltr\">When \n",
       "<mark class=\"entity\" style=\"background: #aa9cfc; padding: 0.45em 0.6em; margin: 0 0.25em; line-height: 1; border-radius: 0.35em;\">\n",
       "    Sebastian Thrun\n",
       "    <span style=\"font-size: 0.8em; font-weight: bold; line-height: 1; border-radius: 0.35em; vertical-align: middle; margin-left: 0.5rem\">PERSON</span>\n",
       "</mark>\n",
       " started working on self-driving cars at \n",
       "<mark class=\"entity\" style=\"background: #7aecec; padding: 0.45em 0.6em; margin: 0 0.25em; line-height: 1; border-radius: 0.35em;\">\n",
       "    Google\n",
       "    <span style=\"font-size: 0.8em; font-weight: bold; line-height: 1; border-radius: 0.35em; vertical-align: middle; margin-left: 0.5rem\">ORG</span>\n",
       "</mark>\n",
       " in \n",
       "<mark class=\"entity\" style=\"background: #bfe1d9; padding: 0.45em 0.6em; margin: 0 0.25em; line-height: 1; border-radius: 0.35em;\">\n",
       "    2007\n",
       "    <span style=\"font-size: 0.8em; font-weight: bold; line-height: 1; border-radius: 0.35em; vertical-align: middle; margin-left: 0.5rem\">DATE</span>\n",
       "</mark>\n",
       ", few people outside of the company took him seriously. “I can tell you very senior CEOs of major \n",
       "<mark class=\"entity\" style=\"background: #c887fb; padding: 0.45em 0.6em; margin: 0 0.25em; line-height: 1; border-radius: 0.35em;\">\n",
       "    American\n",
       "    <span style=\"font-size: 0.8em; font-weight: bold; line-height: 1; border-radius: 0.35em; vertical-align: middle; margin-left: 0.5rem\">NORP</span>\n",
       "</mark>\n",
       " car companies would shake my hand and turn away because I wasn’t worth talking to,” said \n",
       "<mark class=\"entity\" style=\"background: #aa9cfc; padding: 0.45em 0.6em; margin: 0 0.25em; line-height: 1; border-radius: 0.35em;\">\n",
       "    Thrun\n",
       "    <span style=\"font-size: 0.8em; font-weight: bold; line-height: 1; border-radius: 0.35em; vertical-align: middle; margin-left: 0.5rem\">PERSON</span>\n",
       "</mark>\n",
       ", in an interview with \n",
       "<mark class=\"entity\" style=\"background: #7aecec; padding: 0.45em 0.6em; margin: 0 0.25em; line-height: 1; border-radius: 0.35em;\">\n",
       "    Recode\n",
       "    <span style=\"font-size: 0.8em; font-weight: bold; line-height: 1; border-radius: 0.35em; vertical-align: middle; margin-left: 0.5rem\">ORG</span>\n",
       "</mark>\n",
       " \n",
       "<mark class=\"entity\" style=\"background: #bfe1d9; padding: 0.45em 0.6em; margin: 0 0.25em; line-height: 1; border-radius: 0.35em;\">\n",
       "    earlier this week\n",
       "    <span style=\"font-size: 0.8em; font-weight: bold; line-height: 1; border-radius: 0.35em; vertical-align: middle; margin-left: 0.5rem\">DATE</span>\n",
       "</mark>\n",
       ".</div></span>"
      ],
      "text/plain": [
       "<IPython.core.display.HTML object>"
      ]
     },
     "metadata": {},
     "output_type": "display_data"
    }
   ],
   "source": [
    "## saving to jupyter notebook\n",
    "displacy.render(doc, style=\"ent\", jupyter=True)"
   ]
  },
  {
   "cell_type": "markdown",
   "id": "5ab49f4b",
   "metadata": {},
   "source": [
    "Convert data to .spacy format"
   ]
  },
  {
   "cell_type": "markdown",
   "id": "62286f65",
   "metadata": {},
   "source": [
    "Custom Train NER Pipeline\n",
    "Data Preparation"
   ]
  },
  {
   "cell_type": "code",
   "execution_count": 55,
   "id": "a9fd04ac",
   "metadata": {},
   "outputs": [],
   "source": [
    "train = [\n",
    "          (\"An average-sized strawberry has about 200 seeds on its outer surface and are quite edible.\",{\"entities\":[(17,27,\"Fruit\")]}),\n",
    "          (\"The outer skin of Guava is bitter tasting and thick, dark green for raw fruits and as the fruit ripens, the bitterness subsides. \",{\"entities\":[(18,23,\"Fruit\")]}),\n",
    "          (\"Grapes are one of the most widely grown types of fruits in the world, chiefly for the making of different wines. \",{\"entities\":[(0,6,\"Fruit\")]}),\n",
    "          (\"Watermelon is composed of 92 percent water and significant amounts of Vitamins and antioxidants. \",{\"entities\":[(0,10,\"Fruit\")]}),\n",
    "          (\"Papaya fruits are usually cylindrical in shape and the size can go beyond 20 inches. \",{\"entities\":[(0,6,\"Fruit\")]}),\n",
    "          (\"Mango, the King of the fruits is a drupe fruit that grows in tropical regions. \",{\"entities\":[(0,5,\"Fruit\")]}),\n",
    "          (\"undefined\",{\"entities\":[(0,6,\"Fruit\")]}),\n",
    "          (\"Oranges are great source of vitamin C\",{\"entities\":[(0,7,\"Fruit\")]}),\n",
    "          (\"A apple a day keeps doctor away. \",{\"entities\":[(2,7,\"Fruit\")]})\n",
    "        ]"
   ]
  },
  {
   "cell_type": "code",
   "execution_count": 56,
   "id": "02965a63",
   "metadata": {},
   "outputs": [
    {
     "name": "stderr",
     "output_type": "stream",
     "text": [
      "100%|██████████████████████████████████████████████████████████████████████████████████| 9/9 [00:00<00:00, 2566.20it/s]"
     ]
    },
    {
     "name": "stdout",
     "output_type": "stream",
     "text": [
      "Skipping entity\n"
     ]
    },
    {
     "name": "stderr",
     "output_type": "stream",
     "text": [
      "\n"
     ]
    }
   ],
   "source": [
    "import pandas as pd\n",
    "import os\n",
    "from tqdm import tqdm\n",
    "from spacy.tokens import DocBin\n",
    "\n",
    "db = DocBin() # create a DocBin object\n",
    "\n",
    "for text, annot in tqdm(train): # data in previous format\n",
    "    doc = nlp.make_doc(text) # create doc object from text\n",
    "    ents = []\n",
    "    for start, end, label in annot[\"entities\"]: # add character indexes\n",
    "        span = doc.char_span(start, end, label=label, alignment_mode=\"contract\")\n",
    "        if span is None:\n",
    "            print(\"Skipping entity\")\n",
    "        else:\n",
    "            ents.append(span)\n",
    "    doc.ents = ents # label the text with the ents\n",
    "    db.add(doc)\n",
    "\n",
    "db.to_disk(\"./train.spacy\") # save the docbin object"
   ]
  },
  {
   "cell_type": "code",
   "execution_count": 57,
   "id": "414d8a2a",
   "metadata": {
    "scrolled": true
   },
   "outputs": [
    {
     "data": {
      "text/plain": [
       "'The recommended way to train your spaCy pipelines is via the spacy train command on the command line.\\nIt only needs a single config.cfg configuration file that includes all settings and hyperparameters.\\nYou can optionally overwrite settings on the command line, \\nand load in a Python file to register custom functions and architectures.\\nThis quickstart widget helps you generate a starter config with the recommended settings for your specific use case. \\nIt’s also available in spaCy as the init config command.'"
      ]
     },
     "execution_count": 57,
     "metadata": {},
     "output_type": "execute_result"
    }
   ],
   "source": [
    "\"\"\"The recommended way to train your spaCy pipelines is via the spacy train command on the command line.\n",
    "It only needs a single config.cfg configuration file that includes all settings and hyperparameters.\n",
    "You can optionally overwrite settings on the command line, \n",
    "and load in a Python file to register custom functions and architectures.\n",
    "This quickstart widget helps you generate a starter config with the recommended settings for your specific use case. \n",
    "It’s also available in spaCy as the init config command.\"\"\""
   ]
  },
  {
   "cell_type": "markdown",
   "id": "58ea744e",
   "metadata": {},
   "source": [
    "Create base config file"
   ]
  },
  {
   "cell_type": "code",
   "execution_count": 58,
   "id": "f634a616",
   "metadata": {},
   "outputs": [],
   "source": [
    "#pip install pytokenizations"
   ]
  },
  {
   "cell_type": "code",
   "execution_count": 59,
   "id": "628b5dda",
   "metadata": {},
   "outputs": [
    {
     "name": "stdout",
     "output_type": "stream",
     "text": [
      "Requirement already satisfied: spacy in c:\\users\\lz575ne\\anaconda3\\lib\\site-packages (3.4.3)\n",
      "Requirement already satisfied: srsly<3.0.0,>=2.4.3 in c:\\users\\lz575ne\\anaconda3\\lib\\site-packages (from spacy) (2.4.5)\n",
      "Requirement already satisfied: cymem<2.1.0,>=2.0.2 in c:\\users\\lz575ne\\anaconda3\\lib\\site-packages (from spacy) (2.0.7)\n",
      "Requirement already satisfied: numpy>=1.15.0 in c:\\users\\lz575ne\\anaconda3\\lib\\site-packages (from spacy) (1.21.5)\n",
      "Requirement already satisfied: typer<0.8.0,>=0.3.0 in c:\\users\\lz575ne\\anaconda3\\lib\\site-packages (from spacy) (0.4.2)\n",
      "Requirement already satisfied: requests<3.0.0,>=2.13.0 in c:\\users\\lz575ne\\anaconda3\\lib\\site-packages (from spacy) (2.27.1)\n",
      "Requirement already satisfied: spacy-legacy<3.1.0,>=3.0.10 in c:\\users\\lz575ne\\anaconda3\\lib\\site-packages (from spacy) (3.0.10)\n",
      "Requirement already satisfied: preshed<3.1.0,>=3.0.2 in c:\\users\\lz575ne\\anaconda3\\lib\\site-packages (from spacy) (3.0.8)\n",
      "Requirement already satisfied: setuptools in c:\\users\\lz575ne\\anaconda3\\lib\\site-packages (from spacy) (61.2.0)\n",
      "Requirement already satisfied: wasabi<1.1.0,>=0.9.1 in c:\\users\\lz575ne\\anaconda3\\lib\\site-packages (from spacy) (0.10.1)\n",
      "Requirement already satisfied: pathy>=0.3.5 in c:\\users\\lz575ne\\anaconda3\\lib\\site-packages (from spacy) (0.6.2)\n",
      "Requirement already satisfied: langcodes<4.0.0,>=3.2.0 in c:\\users\\lz575ne\\anaconda3\\lib\\site-packages (from spacy) (3.3.0)\n",
      "Requirement already satisfied: thinc<8.2.0,>=8.1.0 in c:\\users\\lz575ne\\anaconda3\\lib\\site-packages (from spacy) (8.1.5)\n",
      "Requirement already satisfied: catalogue<2.1.0,>=2.0.6 in c:\\users\\lz575ne\\anaconda3\\lib\\site-packages (from spacy) (2.0.8)\n",
      "Requirement already satisfied: tqdm<5.0.0,>=4.38.0 in c:\\users\\lz575ne\\anaconda3\\lib\\site-packages (from spacy) (4.64.0)\n",
      "Requirement already satisfied: murmurhash<1.1.0,>=0.28.0 in c:\\users\\lz575ne\\anaconda3\\lib\\site-packages (from spacy) (1.0.9)\n",
      "Requirement already satisfied: spacy-loggers<2.0.0,>=1.0.0 in c:\\users\\lz575ne\\anaconda3\\lib\\site-packages (from spacy) (1.0.3)\n",
      "Requirement already satisfied: pydantic!=1.8,!=1.8.1,<1.11.0,>=1.7.4 in c:\\users\\lz575ne\\anaconda3\\lib\\site-packages (from spacy) (1.7.4)\n",
      "Requirement already satisfied: jinja2 in c:\\users\\lz575ne\\anaconda3\\lib\\site-packages (from spacy) (2.11.3)\n",
      "Requirement already satisfied: packaging>=20.0 in c:\\users\\lz575ne\\anaconda3\\lib\\site-packages (from spacy) (21.3)\n",
      "Requirement already satisfied: pyparsing!=3.0.5,>=2.0.2 in c:\\users\\lz575ne\\anaconda3\\lib\\site-packages (from packaging>=20.0->spacy) (2.4.7)\n",
      "Requirement already satisfied: smart-open<6.0.0,>=5.2.1 in c:\\users\\lz575ne\\anaconda3\\lib\\site-packages (from pathy>=0.3.5->spacy) (5.2.1)\n",
      "Requirement already satisfied: certifi>=2017.4.17 in c:\\users\\lz575ne\\anaconda3\\lib\\site-packages (from requests<3.0.0,>=2.13.0->spacy) (2021.10.8)\n",
      "Requirement already satisfied: idna<4,>=2.5 in c:\\users\\lz575ne\\anaconda3\\lib\\site-packages (from requests<3.0.0,>=2.13.0->spacy) (3.3)\n",
      "Requirement already satisfied: urllib3<1.27,>=1.21.1 in c:\\users\\lz575ne\\anaconda3\\lib\\site-packages (from requests<3.0.0,>=2.13.0->spacy) (1.26.9)\n",
      "Requirement already satisfied: charset-normalizer~=2.0.0 in c:\\users\\lz575ne\\anaconda3\\lib\\site-packages (from requests<3.0.0,>=2.13.0->spacy) (2.0.4)\n",
      "Requirement already satisfied: blis<0.8.0,>=0.7.8 in c:\\users\\lz575ne\\anaconda3\\lib\\site-packages (from thinc<8.2.0,>=8.1.0->spacy) (0.7.9)\n",
      "Requirement already satisfied: confection<1.0.0,>=0.0.1 in c:\\users\\lz575ne\\anaconda3\\lib\\site-packages (from thinc<8.2.0,>=8.1.0->spacy) (0.0.3)\n",
      "Requirement already satisfied: colorama in c:\\users\\lz575ne\\anaconda3\\lib\\site-packages (from tqdm<5.0.0,>=4.38.0->spacy) (0.4.4)\n",
      "Requirement already satisfied: click<9.0.0,>=7.1.1 in c:\\users\\lz575ne\\anaconda3\\lib\\site-packages (from typer<0.8.0,>=0.3.0->spacy) (8.0.4)\n",
      "Requirement already satisfied: MarkupSafe>=0.23 in c:\\users\\lz575ne\\anaconda3\\lib\\site-packages (from jinja2->spacy) (2.0.1)\n"
     ]
    }
   ],
   "source": [
    "#! pip install -U spacy -q\n",
    "! pip install -U spacy"
   ]
  },
  {
   "cell_type": "code",
   "execution_count": 45,
   "id": "8f0e2adc",
   "metadata": {},
   "outputs": [
    {
     "name": "stdout",
     "output_type": "stream",
     "text": [
      "\u001b[1m\n",
      "============================== Info about spaCy ==============================\u001b[0m\n",
      "\n",
      "spaCy version    3.4.3                         \n",
      "Location         C:\\Users\\LZ575NE\\Anaconda3\\lib\\site-packages\\spacy\n",
      "Platform         Windows-10-10.0.19044-SP0     \n",
      "Python version   3.9.12                        \n",
      "Pipelines        en_core_web_lg (3.4.1), en_core_web_sm (3.4.1)\n",
      "\n"
     ]
    }
   ],
   "source": [
    "! python -m spacy info"
   ]
  },
  {
   "cell_type": "markdown",
   "id": "abaed65a",
   "metadata": {},
   "source": [
    "The below code is to fill the config file"
   ]
  },
  {
   "cell_type": "code",
   "execution_count": 60,
   "id": "ae20075d",
   "metadata": {},
   "outputs": [
    {
     "name": "stdout",
     "output_type": "stream",
     "text": [
      "[!] To generate a more effective transformer-based config (GPU-only), install\n",
      "the spacy-transformers package and re-run this command. The config generated now\n",
      "does not use transformers.\n",
      "[i] Generated config template specific for your use case\n",
      "- Language: en\n",
      "- Pipeline: ner\n",
      "- Optimize for: efficiency\n",
      "- Hardware: CPU\n",
      "- Transformer: None\n",
      "[+] Auto-filled config with all values\n",
      "[+] Saved config\n",
      "config.cfg\n",
      "You can now add your data and train your pipeline:\n",
      "python -m spacy train config.cfg --paths.train ./train.spacy --paths.dev ./dev.spacy\n"
     ]
    }
   ],
   "source": [
    "#python -m spacy init fill-config ./base_config.cfg ./config.cfg\n",
    "! python -m spacy init config config.cfg --lang en --pipeline ner --optimize efficiency"
   ]
  },
  {
   "cell_type": "markdown",
   "id": "a5723703",
   "metadata": {},
   "source": [
    "Now training the Model"
   ]
  },
  {
   "cell_type": "code",
   "execution_count": 61,
   "id": "8a2d9761",
   "metadata": {},
   "outputs": [
    {
     "name": "stdout",
     "output_type": "stream",
     "text": [
      "[+] Created output directory: output\n",
      "[i] Saving to output directory: output\n",
      "[i] Using CPU\n",
      "\u001b[1m\n",
      "=========================== Initializing pipeline ===========================\u001b[0m\n",
      "[+] Initialized pipeline\n",
      "\u001b[1m\n",
      "============================= Training pipeline =============================\u001b[0m\n",
      "[i] Pipeline: ['tok2vec', 'ner']\n",
      "[i] Initial learn rate: 0.001"
     ]
    },
    {
     "name": "stderr",
     "output_type": "stream",
     "text": [
      "[2022-11-23 07:42:34,667] [INFO] Set up nlp object from config\n",
      "[2022-11-23 07:42:34,673] [INFO] Pipeline: ['tok2vec', 'ner']\n",
      "[2022-11-23 07:42:34,675] [INFO] Created vocabulary\n",
      "[2022-11-23 07:42:34,676] [INFO] Finished initializing nlp object\n",
      "[2022-11-23 07:42:34,740] [INFO] Initialized pipeline components: ['tok2vec', 'ner']\n"
     ]
    },
    {
     "name": "stdout",
     "output_type": "stream",
     "text": [
      "\n",
      "E    #       LOSS TOK2VEC  LOSS NER  ENTS_F  ENTS_P  ENTS_R  SCORE \n",
      "---  ------  ------------  --------  ------  ------  ------  ------\n",
      "  0       0          0.00     32.50   11.76    6.25  100.00    0.12\n",
      "156     200          3.56    544.95  100.00  100.00  100.00    1.00\n",
      "356     400          0.00      0.00  100.00  100.00  100.00    1.00\n",
      "556     600          0.00      0.00  100.00  100.00  100.00    1.00\n",
      "756     800          0.00      0.00  100.00  100.00  100.00    1.00\n",
      "956    1000          0.00      0.00  100.00  100.00  100.00    1.00\n",
      "1156    1200          0.00      0.00  100.00  100.00  100.00    1.00\n",
      "1356    1400          0.00      0.00  100.00  100.00  100.00    1.00\n",
      "1556    1600          0.00      0.00  100.00  100.00  100.00    1.00\n",
      "1756    1800          0.00      0.00  100.00  100.00  100.00    1.00\n",
      "[+] Saved pipeline to output directory\n",
      "output\\model-last\n"
     ]
    }
   ],
   "source": [
    "!python -m spacy train config.cfg --output ./ .train ./train.spacy --paths.dev ./train.spacy"
   ]
  },
  {
   "cell_type": "markdown",
   "id": "1acba6b8",
   "metadata": {},
   "source": [
    "Load Trained Model"
   ]
  },
  {
   "cell_type": "code",
   "execution_count": 62,
   "id": "984ee66b",
   "metadata": {},
   "outputs": [
    {
     "name": "stderr",
     "output_type": "stream",
     "text": [
      "C:\\Users\\LZ575NE\\Anaconda3\\lib\\site-packages\\spacy\\util.py:877: UserWarning: [W095] Model 'en_pipeline' (0.0.0) was trained with spaCy v3.4 and may not be 100% compatible with the current version (3.4.2). If you see errors or degraded performance, download a newer compatible model or retrain your custom model with the current spaCy version. For more details and available updates, run: python -m spacy validate\n",
      "  warnings.warn(warn_msg)\n"
     ]
    }
   ],
   "source": [
    "#loading the best model\n",
    "nlp1 = spacy.load(r\"./output/model-best\")"
   ]
  },
  {
   "cell_type": "code",
   "execution_count": 64,
   "id": "c5e716f0",
   "metadata": {},
   "outputs": [
    {
     "data": {
      "text/plain": [
       "(Strawberry, Rosaceae)"
      ]
     },
     "execution_count": 64,
     "metadata": {},
     "output_type": "execute_result"
    }
   ],
   "source": [
    "# testing with input sample text\n",
    "\n",
    "doc = nlp1(\"Strawberry is a luscious, red fruit grown on plants belonging to the Rose or Rosaceae family.\")\n",
    "doc.ents"
   ]
  },
  {
   "cell_type": "code",
   "execution_count": 65,
   "id": "c8fd5df0",
   "metadata": {},
   "outputs": [],
   "source": [
    "colors = {'Fruit': \"#85C1E9\"}\n",
    "options = {\"ents\": ['Fruit'], \"colors\": colors}"
   ]
  },
  {
   "cell_type": "code",
   "execution_count": 66,
   "id": "836c7fdc",
   "metadata": {},
   "outputs": [
    {
     "data": {
      "text/html": [
       "<span class=\"tex2jax_ignore\"><div class=\"entities\" style=\"line-height: 2.5; direction: ltr\">\n",
       "<mark class=\"entity\" style=\"background: #85C1E9; padding: 0.45em 0.6em; margin: 0 0.25em; line-height: 1; border-radius: 0.35em;\">\n",
       "    Strawberry\n",
       "    <span style=\"font-size: 0.8em; font-weight: bold; line-height: 1; border-radius: 0.35em; vertical-align: middle; margin-left: 0.5rem\">Fruit</span>\n",
       "</mark>\n",
       " is a luscious, red fruit grown on plants belonging to the Rose or \n",
       "<mark class=\"entity\" style=\"background: #85C1E9; padding: 0.45em 0.6em; margin: 0 0.25em; line-height: 1; border-radius: 0.35em;\">\n",
       "    Rosaceae\n",
       "    <span style=\"font-size: 0.8em; font-weight: bold; line-height: 1; border-radius: 0.35em; vertical-align: middle; margin-left: 0.5rem\">Fruit</span>\n",
       "</mark>\n",
       " family.</div></span>"
      ],
      "text/plain": [
       "<IPython.core.display.HTML object>"
      ]
     },
     "metadata": {},
     "output_type": "display_data"
    }
   ],
   "source": [
    "# to display in Jupyter\n",
    "spacy.displacy.render(doc, style=\"ent\", jupyter=True, options=options)"
   ]
  },
  {
   "cell_type": "code",
   "execution_count": null,
   "id": "4d9787a8",
   "metadata": {},
   "outputs": [],
   "source": []
  }
 ],
 "metadata": {
  "kernelspec": {
   "display_name": "Python 3 (ipykernel)",
   "language": "python",
   "name": "python3"
  },
  "language_info": {
   "codemirror_mode": {
    "name": "ipython",
    "version": 3
   },
   "file_extension": ".py",
   "mimetype": "text/x-python",
   "name": "python",
   "nbconvert_exporter": "python",
   "pygments_lexer": "ipython3",
   "version": "3.9.12"
  }
 },
 "nbformat": 4,
 "nbformat_minor": 5
}
