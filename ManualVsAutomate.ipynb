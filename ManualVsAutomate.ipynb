{
 "cells": [
  {
   "cell_type": "code",
   "execution_count": 28,
   "id": "216fd3e4",
   "metadata": {},
   "outputs": [],
   "source": [
    "import pandas as pd\n",
    "import numpy as np\n",
    "import matplotlib.pyplot as plt"
   ]
  },
  {
   "cell_type": "code",
   "execution_count": 30,
   "id": "b88ba9ff",
   "metadata": {},
   "outputs": [
    {
     "data": {
      "text/html": [
       "<div>\n",
       "<style scoped>\n",
       "    .dataframe tbody tr th:only-of-type {\n",
       "        vertical-align: middle;\n",
       "    }\n",
       "\n",
       "    .dataframe tbody tr th {\n",
       "        vertical-align: top;\n",
       "    }\n",
       "\n",
       "    .dataframe thead th {\n",
       "        text-align: right;\n",
       "    }\n",
       "</style>\n",
       "<table border=\"1\" class=\"dataframe\">\n",
       "  <thead>\n",
       "    <tr style=\"text-align: right;\">\n",
       "      <th></th>\n",
       "      <th>control_id</th>\n",
       "      <th>control_code</th>\n",
       "      <th>control_ref_id</th>\n",
       "      <th>control_name</th>\n",
       "      <th>control_description</th>\n",
       "      <th>control_type</th>\n",
       "      <th>control_maturity</th>\n",
       "      <th>control_status</th>\n",
       "      <th>control_level</th>\n",
       "      <th>control_effectiveness</th>\n",
       "    </tr>\n",
       "  </thead>\n",
       "  <tbody>\n",
       "    <tr>\n",
       "      <th>0</th>\n",
       "      <td>ctr_10001</td>\n",
       "      <td>ctr_10001</td>\n",
       "      <td>NaN</td>\n",
       "      <td>Dual Controls</td>\n",
       "      <td>A maker/checker control is utilized by Mask_54...</td>\n",
       "      <td>NaN</td>\n",
       "      <td>NaN</td>\n",
       "      <td>NaN</td>\n",
       "      <td>NaN</td>\n",
       "      <td>NaN</td>\n",
       "    </tr>\n",
       "    <tr>\n",
       "      <th>1</th>\n",
       "      <td>ctr_10002</td>\n",
       "      <td>ctr_10002</td>\n",
       "      <td>NaN</td>\n",
       "      <td>Maker/Checker</td>\n",
       "      <td>1 . To comply with Federal rule, a trigger eve...</td>\n",
       "      <td>NaN</td>\n",
       "      <td>NaN</td>\n",
       "      <td>NaN</td>\n",
       "      <td>NaN</td>\n",
       "      <td>NaN</td>\n",
       "    </tr>\n",
       "    <tr>\n",
       "      <th>2</th>\n",
       "      <td>ctr_10003</td>\n",
       "      <td>ctr_10003</td>\n",
       "      <td>NaN</td>\n",
       "      <td>Verifications</td>\n",
       "      <td>1 . To comply with Federal Rule, on an annuall...</td>\n",
       "      <td>NaN</td>\n",
       "      <td>NaN</td>\n",
       "      <td>NaN</td>\n",
       "      <td>NaN</td>\n",
       "      <td>NaN</td>\n",
       "    </tr>\n",
       "    <tr>\n",
       "      <th>3</th>\n",
       "      <td>ctr_10004</td>\n",
       "      <td>ctr_10004</td>\n",
       "      <td>NaN</td>\n",
       "      <td>Verifications</td>\n",
       "      <td>Sub-servicer executes controls and quality ass...</td>\n",
       "      <td>NaN</td>\n",
       "      <td>NaN</td>\n",
       "      <td>NaN</td>\n",
       "      <td>NaN</td>\n",
       "      <td>NaN</td>\n",
       "    </tr>\n",
       "    <tr>\n",
       "      <th>4</th>\n",
       "      <td>ctr_10005</td>\n",
       "      <td>ctr_10005</td>\n",
       "      <td>NaN</td>\n",
       "      <td>Verifications</td>\n",
       "      <td>Sub-servicer executes controls and quality ass...</td>\n",
       "      <td>NaN</td>\n",
       "      <td>NaN</td>\n",
       "      <td>NaN</td>\n",
       "      <td>NaN</td>\n",
       "      <td>NaN</td>\n",
       "    </tr>\n",
       "    <tr>\n",
       "      <th>...</th>\n",
       "      <td>...</td>\n",
       "      <td>...</td>\n",
       "      <td>...</td>\n",
       "      <td>...</td>\n",
       "      <td>...</td>\n",
       "      <td>...</td>\n",
       "      <td>...</td>\n",
       "      <td>...</td>\n",
       "      <td>...</td>\n",
       "      <td>...</td>\n",
       "    </tr>\n",
       "    <tr>\n",
       "      <th>3279</th>\n",
       "      <td>ctr_3_10015</td>\n",
       "      <td>ctr_3_10015</td>\n",
       "      <td>NaN</td>\n",
       "      <td>Loan Collection Checklist</td>\n",
       "      <td>The collection and recovery department must de...</td>\n",
       "      <td>NaN</td>\n",
       "      <td>NaN</td>\n",
       "      <td>NaN</td>\n",
       "      <td>NaN</td>\n",
       "      <td>NaN</td>\n",
       "    </tr>\n",
       "    <tr>\n",
       "      <th>3280</th>\n",
       "      <td>ctr_3_10016</td>\n",
       "      <td>ctr_3_10016</td>\n",
       "      <td>NaN</td>\n",
       "      <td>Asset Management Review</td>\n",
       "      <td>The capital markets department must regularly ...</td>\n",
       "      <td>NaN</td>\n",
       "      <td>NaN</td>\n",
       "      <td>NaN</td>\n",
       "      <td>NaN</td>\n",
       "      <td>NaN</td>\n",
       "    </tr>\n",
       "    <tr>\n",
       "      <th>3281</th>\n",
       "      <td>ctr_3_10017</td>\n",
       "      <td>ctr_3_10017</td>\n",
       "      <td>NaN</td>\n",
       "      <td>Loan Processing Checklist</td>\n",
       "      <td>A credit manager must recommend purchase of cr...</td>\n",
       "      <td>NaN</td>\n",
       "      <td>NaN</td>\n",
       "      <td>NaN</td>\n",
       "      <td>NaN</td>\n",
       "      <td>NaN</td>\n",
       "    </tr>\n",
       "    <tr>\n",
       "      <th>3282</th>\n",
       "      <td>ctr_3_10018</td>\n",
       "      <td>ctr_3_10018</td>\n",
       "      <td>NaN</td>\n",
       "      <td>Consumer Communication Checklist</td>\n",
       "      <td>The life insurance department must provide the...</td>\n",
       "      <td>NaN</td>\n",
       "      <td>NaN</td>\n",
       "      <td>NaN</td>\n",
       "      <td>NaN</td>\n",
       "      <td>NaN</td>\n",
       "    </tr>\n",
       "    <tr>\n",
       "      <th>3283</th>\n",
       "      <td>ctr_3_10019</td>\n",
       "      <td>ctr_3_10019</td>\n",
       "      <td>NaN</td>\n",
       "      <td>Compliance Requirement Checklist</td>\n",
       "      <td>The compliance department shall pay the OCC a ...</td>\n",
       "      <td>NaN</td>\n",
       "      <td>NaN</td>\n",
       "      <td>NaN</td>\n",
       "      <td>NaN</td>\n",
       "      <td>NaN</td>\n",
       "    </tr>\n",
       "  </tbody>\n",
       "</table>\n",
       "<p>3284 rows × 10 columns</p>\n",
       "</div>"
      ],
      "text/plain": [
       "       control_id control_code  control_ref_id  \\\n",
       "0       ctr_10001    ctr_10001             NaN   \n",
       "1       ctr_10002    ctr_10002             NaN   \n",
       "2       ctr_10003    ctr_10003             NaN   \n",
       "3       ctr_10004    ctr_10004             NaN   \n",
       "4       ctr_10005    ctr_10005             NaN   \n",
       "...           ...          ...             ...   \n",
       "3279  ctr_3_10015  ctr_3_10015             NaN   \n",
       "3280  ctr_3_10016  ctr_3_10016             NaN   \n",
       "3281  ctr_3_10017  ctr_3_10017             NaN   \n",
       "3282  ctr_3_10018  ctr_3_10018             NaN   \n",
       "3283  ctr_3_10019  ctr_3_10019             NaN   \n",
       "\n",
       "                           control_name  \\\n",
       "0                         Dual Controls   \n",
       "1                         Maker/Checker   \n",
       "2                         Verifications   \n",
       "3                         Verifications   \n",
       "4                         Verifications   \n",
       "...                                 ...   \n",
       "3279          Loan Collection Checklist   \n",
       "3280            Asset Management Review   \n",
       "3281          Loan Processing Checklist   \n",
       "3282   Consumer Communication Checklist   \n",
       "3283  Compliance Requirement Checklist    \n",
       "\n",
       "                                    control_description  control_type  \\\n",
       "0     A maker/checker control is utilized by Mask_54...           NaN   \n",
       "1     1 . To comply with Federal rule, a trigger eve...           NaN   \n",
       "2     1 . To comply with Federal Rule, on an annuall...           NaN   \n",
       "3     Sub-servicer executes controls and quality ass...           NaN   \n",
       "4     Sub-servicer executes controls and quality ass...           NaN   \n",
       "...                                                 ...           ...   \n",
       "3279  The collection and recovery department must de...           NaN   \n",
       "3280  The capital markets department must regularly ...           NaN   \n",
       "3281  A credit manager must recommend purchase of cr...           NaN   \n",
       "3282  The life insurance department must provide the...           NaN   \n",
       "3283  The compliance department shall pay the OCC a ...           NaN   \n",
       "\n",
       "      control_maturity  control_status  control_level  control_effectiveness  \n",
       "0                  NaN             NaN            NaN                    NaN  \n",
       "1                  NaN             NaN            NaN                    NaN  \n",
       "2                  NaN             NaN            NaN                    NaN  \n",
       "3                  NaN             NaN            NaN                    NaN  \n",
       "4                  NaN             NaN            NaN                    NaN  \n",
       "...                ...             ...            ...                    ...  \n",
       "3279               NaN             NaN            NaN                    NaN  \n",
       "3280               NaN             NaN            NaN                    NaN  \n",
       "3281               NaN             NaN            NaN                    NaN  \n",
       "3282               NaN             NaN            NaN                    NaN  \n",
       "3283               NaN             NaN            NaN                    NaN  \n",
       "\n",
       "[3284 rows x 10 columns]"
      ]
     },
     "execution_count": 30,
     "metadata": {},
     "output_type": "execute_result"
    }
   ],
   "source": [
    "data=pd.read_excel('C://Users//LZ575NE//OneDrive - EY//Desktop//control.xlsx')\n",
    "data"
   ]
  },
  {
   "cell_type": "markdown",
   "id": "eb4ceb04",
   "metadata": {},
   "source": [
    "#### data.info()"
   ]
  },
  {
   "cell_type": "code",
   "execution_count": 13,
   "id": "cf817c4a",
   "metadata": {},
   "outputs": [
    {
     "data": {
      "text/plain": [
       "(3284, 10)"
      ]
     },
     "execution_count": 13,
     "metadata": {},
     "output_type": "execute_result"
    }
   ],
   "source": [
    "data.shape"
   ]
  },
  {
   "cell_type": "code",
   "execution_count": 14,
   "id": "39940c74",
   "metadata": {
    "scrolled": true
   },
   "outputs": [
    {
     "data": {
      "text/html": [
       "<div>\n",
       "<style scoped>\n",
       "    .dataframe tbody tr th:only-of-type {\n",
       "        vertical-align: middle;\n",
       "    }\n",
       "\n",
       "    .dataframe tbody tr th {\n",
       "        vertical-align: top;\n",
       "    }\n",
       "\n",
       "    .dataframe thead th {\n",
       "        text-align: right;\n",
       "    }\n",
       "</style>\n",
       "<table border=\"1\" class=\"dataframe\">\n",
       "  <thead>\n",
       "    <tr style=\"text-align: right;\">\n",
       "      <th></th>\n",
       "      <th>control_id</th>\n",
       "      <th>control_code</th>\n",
       "      <th>control_ref_id</th>\n",
       "      <th>control_name</th>\n",
       "      <th>control_description</th>\n",
       "    </tr>\n",
       "  </thead>\n",
       "  <tbody>\n",
       "    <tr>\n",
       "      <th>0</th>\n",
       "      <td>ctr_10001</td>\n",
       "      <td>ctr_10001</td>\n",
       "      <td>NaN</td>\n",
       "      <td>Dual Controls</td>\n",
       "      <td>A maker/checker control is utilized by Mask_54...</td>\n",
       "    </tr>\n",
       "    <tr>\n",
       "      <th>1</th>\n",
       "      <td>ctr_10002</td>\n",
       "      <td>ctr_10002</td>\n",
       "      <td>NaN</td>\n",
       "      <td>Maker/Checker</td>\n",
       "      <td>1 . To comply with Federal rule, a trigger eve...</td>\n",
       "    </tr>\n",
       "    <tr>\n",
       "      <th>2</th>\n",
       "      <td>ctr_10003</td>\n",
       "      <td>ctr_10003</td>\n",
       "      <td>NaN</td>\n",
       "      <td>Verifications</td>\n",
       "      <td>1 . To comply with Federal Rule, on an annuall...</td>\n",
       "    </tr>\n",
       "    <tr>\n",
       "      <th>3</th>\n",
       "      <td>ctr_10004</td>\n",
       "      <td>ctr_10004</td>\n",
       "      <td>NaN</td>\n",
       "      <td>Verifications</td>\n",
       "      <td>Sub-servicer executes controls and quality ass...</td>\n",
       "    </tr>\n",
       "    <tr>\n",
       "      <th>4</th>\n",
       "      <td>ctr_10005</td>\n",
       "      <td>ctr_10005</td>\n",
       "      <td>NaN</td>\n",
       "      <td>Verifications</td>\n",
       "      <td>Sub-servicer executes controls and quality ass...</td>\n",
       "    </tr>\n",
       "    <tr>\n",
       "      <th>...</th>\n",
       "      <td>...</td>\n",
       "      <td>...</td>\n",
       "      <td>...</td>\n",
       "      <td>...</td>\n",
       "      <td>...</td>\n",
       "    </tr>\n",
       "    <tr>\n",
       "      <th>3279</th>\n",
       "      <td>ctr_3_10015</td>\n",
       "      <td>ctr_3_10015</td>\n",
       "      <td>NaN</td>\n",
       "      <td>Loan Collection Checklist</td>\n",
       "      <td>The collection and recovery department must de...</td>\n",
       "    </tr>\n",
       "    <tr>\n",
       "      <th>3280</th>\n",
       "      <td>ctr_3_10016</td>\n",
       "      <td>ctr_3_10016</td>\n",
       "      <td>NaN</td>\n",
       "      <td>Asset Management Review</td>\n",
       "      <td>The capital markets department must regularly ...</td>\n",
       "    </tr>\n",
       "    <tr>\n",
       "      <th>3281</th>\n",
       "      <td>ctr_3_10017</td>\n",
       "      <td>ctr_3_10017</td>\n",
       "      <td>NaN</td>\n",
       "      <td>Loan Processing Checklist</td>\n",
       "      <td>A credit manager must recommend purchase of cr...</td>\n",
       "    </tr>\n",
       "    <tr>\n",
       "      <th>3282</th>\n",
       "      <td>ctr_3_10018</td>\n",
       "      <td>ctr_3_10018</td>\n",
       "      <td>NaN</td>\n",
       "      <td>Consumer Communication Checklist</td>\n",
       "      <td>The life insurance department must provide the...</td>\n",
       "    </tr>\n",
       "    <tr>\n",
       "      <th>3283</th>\n",
       "      <td>ctr_3_10019</td>\n",
       "      <td>ctr_3_10019</td>\n",
       "      <td>NaN</td>\n",
       "      <td>Compliance Requirement Checklist</td>\n",
       "      <td>The compliance department shall pay the OCC a ...</td>\n",
       "    </tr>\n",
       "  </tbody>\n",
       "</table>\n",
       "<p>3284 rows × 5 columns</p>\n",
       "</div>"
      ],
      "text/plain": [
       "       control_id control_code  control_ref_id  \\\n",
       "0       ctr_10001    ctr_10001             NaN   \n",
       "1       ctr_10002    ctr_10002             NaN   \n",
       "2       ctr_10003    ctr_10003             NaN   \n",
       "3       ctr_10004    ctr_10004             NaN   \n",
       "4       ctr_10005    ctr_10005             NaN   \n",
       "...           ...          ...             ...   \n",
       "3279  ctr_3_10015  ctr_3_10015             NaN   \n",
       "3280  ctr_3_10016  ctr_3_10016             NaN   \n",
       "3281  ctr_3_10017  ctr_3_10017             NaN   \n",
       "3282  ctr_3_10018  ctr_3_10018             NaN   \n",
       "3283  ctr_3_10019  ctr_3_10019             NaN   \n",
       "\n",
       "                           control_name  \\\n",
       "0                         Dual Controls   \n",
       "1                         Maker/Checker   \n",
       "2                         Verifications   \n",
       "3                         Verifications   \n",
       "4                         Verifications   \n",
       "...                                 ...   \n",
       "3279          Loan Collection Checklist   \n",
       "3280            Asset Management Review   \n",
       "3281          Loan Processing Checklist   \n",
       "3282   Consumer Communication Checklist   \n",
       "3283  Compliance Requirement Checklist    \n",
       "\n",
       "                                    control_description  \n",
       "0     A maker/checker control is utilized by Mask_54...  \n",
       "1     1 . To comply with Federal rule, a trigger eve...  \n",
       "2     1 . To comply with Federal Rule, on an annuall...  \n",
       "3     Sub-servicer executes controls and quality ass...  \n",
       "4     Sub-servicer executes controls and quality ass...  \n",
       "...                                                 ...  \n",
       "3279  The collection and recovery department must de...  \n",
       "3280  The capital markets department must regularly ...  \n",
       "3281  A credit manager must recommend purchase of cr...  \n",
       "3282  The life insurance department must provide the...  \n",
       "3283  The compliance department shall pay the OCC a ...  \n",
       "\n",
       "[3284 rows x 5 columns]"
      ]
     },
     "execution_count": 14,
     "metadata": {},
     "output_type": "execute_result"
    }
   ],
   "source": [
    "data.drop(['control_type','control_maturity', 'control_status', 'control_level','control_effectiveness'], axis = 1, inplace = True)\n",
    "data"
   ]
  },
  {
   "cell_type": "code",
   "execution_count": 15,
   "id": "1e4181d9",
   "metadata": {},
   "outputs": [
    {
     "data": {
      "text/plain": [
       "1"
      ]
     },
     "execution_count": 15,
     "metadata": {},
     "output_type": "execute_result"
    }
   ],
   "source": [
    "data['control_description'].isnull().values.any().sum()\n",
    "## since there only 1 nan value found, could be ignored"
   ]
  },
  {
   "cell_type": "code",
   "execution_count": 16,
   "id": "9357fac4",
   "metadata": {},
   "outputs": [
    {
     "name": "stdout",
     "output_type": "stream",
     "text": [
      " Count of \"manual\" in \"control_description\" : 21.0\n"
     ]
    }
   ],
   "source": [
    "#data.dropna(subset=['control_description'])\n",
    "count_manual = data['control_description'].str.count('manual').sum() \n",
    "print(f' Count of \"manual\" in \"control_description\" : {count_manual}')"
   ]
  },
  {
   "cell_type": "code",
   "execution_count": 17,
   "id": "d353d4c9",
   "metadata": {},
   "outputs": [
    {
     "name": "stdout",
     "output_type": "stream",
     "text": [
      " Count of \"manually\" in \"control_description\" : 14.0\n"
     ]
    }
   ],
   "source": [
    "count_manually = data['control_description'].str.count('manually').sum() \n",
    "print(f' Count of \"manually\" in \"control_description\" : {count_manually}')"
   ]
  },
  {
   "cell_type": "code",
   "execution_count": 18,
   "id": "d5dc8fc8",
   "metadata": {},
   "outputs": [],
   "source": [
    "manual= np.sum([count_manual, count_manually])"
   ]
  },
  {
   "cell_type": "code",
   "execution_count": 155,
   "id": "3189d4fa",
   "metadata": {},
   "outputs": [
    {
     "data": {
      "text/plain": [
       "35.0"
      ]
     },
     "execution_count": 155,
     "metadata": {},
     "output_type": "execute_result"
    }
   ],
   "source": [
    "manual"
   ]
  },
  {
   "cell_type": "code",
   "execution_count": 156,
   "id": "949f704f",
   "metadata": {},
   "outputs": [
    {
     "name": "stdout",
     "output_type": "stream",
     "text": [
      "Count of \"automatically\" in \"control_description\": 7.0\n"
     ]
    }
   ],
   "source": [
    "count_automatically = data['control_description'].str.count('automatically').sum()\n",
    "print(f'Count of \"automatically\" in \"control_description\": {count_automatically}')"
   ]
  },
  {
   "cell_type": "code",
   "execution_count": 157,
   "id": "a5f4e146",
   "metadata": {},
   "outputs": [
    {
     "name": "stdout",
     "output_type": "stream",
     "text": [
      "Count of \"automated\" in \"control_description\": 1.0\n"
     ]
    }
   ],
   "source": [
    "count_automated = data['control_description'].str.count('automated').sum()\n",
    "print(f'Count of \"automated\" in \"control_description\": {count_automated}')"
   ]
  },
  {
   "cell_type": "code",
   "execution_count": 158,
   "id": "5b7ddced",
   "metadata": {},
   "outputs": [],
   "source": [
    "automate= np.sum([count_automatically, count_automated])"
   ]
  },
  {
   "cell_type": "code",
   "execution_count": 159,
   "id": "2c102fdf",
   "metadata": {},
   "outputs": [
    {
     "data": {
      "text/plain": [
       "8.0"
      ]
     },
     "execution_count": 159,
     "metadata": {},
     "output_type": "execute_result"
    }
   ],
   "source": [
    "automate"
   ]
  },
  {
   "cell_type": "code",
   "execution_count": 117,
   "id": "c083cac1",
   "metadata": {},
   "outputs": [],
   "source": [
    "#data= pd.read_excel('C:\\\\Users\\\\LZ575NE\\OneDrive - EY\\\\Desktop\\\\project\\\\Nexus4R\\\\control.xlsx', usecols =['control_description'])\n",
    "#data.loc[:,\"control_description\"]"
   ]
  },
  {
   "cell_type": "code",
   "execution_count": 47,
   "id": "56352c8c",
   "metadata": {},
   "outputs": [
    {
     "name": "stderr",
     "output_type": "stream",
     "text": [
      "<>:4: SyntaxWarning: list indices must be integers or slices, not list; perhaps you missed a comma?\n",
      "<>:4: SyntaxWarning: list indices must be integers or slices, not list; perhaps you missed a comma?\n",
      "C:\\Users\\LZ575NE\\AppData\\Local\\Temp\\ipykernel_25084\\1696619736.py:4: SyntaxWarning: list indices must be integers or slices, not list; perhaps you missed a comma?\n",
      "  control_map= pd.merge(data['Process-Test-Control_MAP']),data(['Control'][['control_id','control_description']],on='control_id',how='inner')\n",
      "C:\\Users\\LZ575NE\\AppData\\Local\\Temp\\ipykernel_25084\\1696619736.py:4: SyntaxWarning: list indices must be integers or slices, not list; perhaps you missed a comma?\n",
      "  control_map= pd.merge(data['Process-Test-Control_MAP']),data(['Control'][['control_id','control_description']],on='control_id',how='inner')\n",
      "C:\\Users\\LZ575NE\\AppData\\Local\\Temp\\ipykernel_25084\\1696619736.py:4: SyntaxWarning: list indices must be integers or slices, not list; perhaps you missed a comma?\n",
      "  control_map= pd.merge(data['Process-Test-Control_MAP']),data(['Control'][['control_id','control_description']],on='control_id',how='inner')\n",
      "C:\\Users\\LZ575NE\\AppData\\Local\\Temp\\ipykernel_25084\\1696619736.py:4: SyntaxWarning: list indices must be integers or slices, not list; perhaps you missed a comma?\n",
      "  control_map= pd.merge(data['Process-Test-Control_MAP']),data(['Control'][['control_id','control_description']],on='control_id',how='inner')\n"
     ]
    },
    {
     "ename": "KeyError",
     "evalue": "'Process-Test-Control_MAP'",
     "output_type": "error",
     "traceback": [
      "\u001b[1;31m---------------------------------------------------------------------------\u001b[0m",
      "\u001b[1;31mKeyError\u001b[0m                                  Traceback (most recent call last)",
      "File \u001b[1;32m~\\Anaconda3\\lib\\site-packages\\pandas\\core\\indexes\\base.py:3621\u001b[0m, in \u001b[0;36mIndex.get_loc\u001b[1;34m(self, key, method, tolerance)\u001b[0m\n\u001b[0;32m   3620\u001b[0m \u001b[38;5;28;01mtry\u001b[39;00m:\n\u001b[1;32m-> 3621\u001b[0m     \u001b[38;5;28;01mreturn\u001b[39;00m \u001b[38;5;28;43mself\u001b[39;49m\u001b[38;5;241;43m.\u001b[39;49m\u001b[43m_engine\u001b[49m\u001b[38;5;241;43m.\u001b[39;49m\u001b[43mget_loc\u001b[49m\u001b[43m(\u001b[49m\u001b[43mcasted_key\u001b[49m\u001b[43m)\u001b[49m\n\u001b[0;32m   3622\u001b[0m \u001b[38;5;28;01mexcept\u001b[39;00m \u001b[38;5;167;01mKeyError\u001b[39;00m \u001b[38;5;28;01mas\u001b[39;00m err:\n",
      "File \u001b[1;32m~\\Anaconda3\\lib\\site-packages\\pandas\\_libs\\index.pyx:136\u001b[0m, in \u001b[0;36mpandas._libs.index.IndexEngine.get_loc\u001b[1;34m()\u001b[0m\n",
      "File \u001b[1;32m~\\Anaconda3\\lib\\site-packages\\pandas\\_libs\\index.pyx:163\u001b[0m, in \u001b[0;36mpandas._libs.index.IndexEngine.get_loc\u001b[1;34m()\u001b[0m\n",
      "File \u001b[1;32mpandas\\_libs\\hashtable_class_helper.pxi:5198\u001b[0m, in \u001b[0;36mpandas._libs.hashtable.PyObjectHashTable.get_item\u001b[1;34m()\u001b[0m\n",
      "File \u001b[1;32mpandas\\_libs\\hashtable_class_helper.pxi:5206\u001b[0m, in \u001b[0;36mpandas._libs.hashtable.PyObjectHashTable.get_item\u001b[1;34m()\u001b[0m\n",
      "\u001b[1;31mKeyError\u001b[0m: 'Process-Test-Control_MAP'",
      "\nThe above exception was the direct cause of the following exception:\n",
      "\u001b[1;31mKeyError\u001b[0m                                  Traceback (most recent call last)",
      "Input \u001b[1;32mIn [47]\u001b[0m, in \u001b[0;36m<cell line: 4>\u001b[1;34m()\u001b[0m\n\u001b[0;32m      1\u001b[0m \u001b[38;5;66;03m#mapping with BU, Process, control, risk\u001b[39;00m\n\u001b[0;32m      2\u001b[0m \u001b[38;5;66;03m#control_map = pd.read_excel('C://Users//LZ575NE//OneDrive - EY//Desktop//control.xlsx',sheet_name='Control')\u001b[39;00m\n\u001b[0;32m      3\u001b[0m \u001b[38;5;66;03m#data['Process-Activity-Risk_Ctrl_MAP']\u001b[39;00m\n\u001b[1;32m----> 4\u001b[0m control_map\u001b[38;5;241m=\u001b[39m pd\u001b[38;5;241m.\u001b[39mmerge(\u001b[43mdata\u001b[49m\u001b[43m[\u001b[49m\u001b[38;5;124;43m'\u001b[39;49m\u001b[38;5;124;43mProcess-Test-Control_MAP\u001b[39;49m\u001b[38;5;124;43m'\u001b[39;49m\u001b[43m]\u001b[49m),data([\u001b[38;5;124m'\u001b[39m\u001b[38;5;124mControl\u001b[39m\u001b[38;5;124m'\u001b[39m][[\u001b[38;5;124m'\u001b[39m\u001b[38;5;124mcontrol_id\u001b[39m\u001b[38;5;124m'\u001b[39m,\u001b[38;5;124m'\u001b[39m\u001b[38;5;124mcontrol_description\u001b[39m\u001b[38;5;124m'\u001b[39m]],on\u001b[38;5;241m=\u001b[39m\u001b[38;5;124m'\u001b[39m\u001b[38;5;124mcontrol_id\u001b[39m\u001b[38;5;124m'\u001b[39m,how\u001b[38;5;241m=\u001b[39m\u001b[38;5;124m'\u001b[39m\u001b[38;5;124minner\u001b[39m\u001b[38;5;124m'\u001b[39m)\n\u001b[0;32m      5\u001b[0m data\u001b[38;5;241m.\u001b[39mcolumns \u001b[38;5;241m=\u001b[39m data\u001b[38;5;241m.\u001b[39mcolumns\u001b[38;5;241m.\u001b[39mstr\u001b[38;5;241m.\u001b[39mstrip()\n",
      "File \u001b[1;32m~\\Anaconda3\\lib\\site-packages\\pandas\\core\\frame.py:3505\u001b[0m, in \u001b[0;36mDataFrame.__getitem__\u001b[1;34m(self, key)\u001b[0m\n\u001b[0;32m   3503\u001b[0m \u001b[38;5;28;01mif\u001b[39;00m \u001b[38;5;28mself\u001b[39m\u001b[38;5;241m.\u001b[39mcolumns\u001b[38;5;241m.\u001b[39mnlevels \u001b[38;5;241m>\u001b[39m \u001b[38;5;241m1\u001b[39m:\n\u001b[0;32m   3504\u001b[0m     \u001b[38;5;28;01mreturn\u001b[39;00m \u001b[38;5;28mself\u001b[39m\u001b[38;5;241m.\u001b[39m_getitem_multilevel(key)\n\u001b[1;32m-> 3505\u001b[0m indexer \u001b[38;5;241m=\u001b[39m \u001b[38;5;28;43mself\u001b[39;49m\u001b[38;5;241;43m.\u001b[39;49m\u001b[43mcolumns\u001b[49m\u001b[38;5;241;43m.\u001b[39;49m\u001b[43mget_loc\u001b[49m\u001b[43m(\u001b[49m\u001b[43mkey\u001b[49m\u001b[43m)\u001b[49m\n\u001b[0;32m   3506\u001b[0m \u001b[38;5;28;01mif\u001b[39;00m is_integer(indexer):\n\u001b[0;32m   3507\u001b[0m     indexer \u001b[38;5;241m=\u001b[39m [indexer]\n",
      "File \u001b[1;32m~\\Anaconda3\\lib\\site-packages\\pandas\\core\\indexes\\base.py:3623\u001b[0m, in \u001b[0;36mIndex.get_loc\u001b[1;34m(self, key, method, tolerance)\u001b[0m\n\u001b[0;32m   3621\u001b[0m     \u001b[38;5;28;01mreturn\u001b[39;00m \u001b[38;5;28mself\u001b[39m\u001b[38;5;241m.\u001b[39m_engine\u001b[38;5;241m.\u001b[39mget_loc(casted_key)\n\u001b[0;32m   3622\u001b[0m \u001b[38;5;28;01mexcept\u001b[39;00m \u001b[38;5;167;01mKeyError\u001b[39;00m \u001b[38;5;28;01mas\u001b[39;00m err:\n\u001b[1;32m-> 3623\u001b[0m     \u001b[38;5;28;01mraise\u001b[39;00m \u001b[38;5;167;01mKeyError\u001b[39;00m(key) \u001b[38;5;28;01mfrom\u001b[39;00m \u001b[38;5;21;01merr\u001b[39;00m\n\u001b[0;32m   3624\u001b[0m \u001b[38;5;28;01mexcept\u001b[39;00m \u001b[38;5;167;01mTypeError\u001b[39;00m:\n\u001b[0;32m   3625\u001b[0m     \u001b[38;5;66;03m# If we have a listlike key, _check_indexing_error will raise\u001b[39;00m\n\u001b[0;32m   3626\u001b[0m     \u001b[38;5;66;03m#  InvalidIndexError. Otherwise we fall through and re-raise\u001b[39;00m\n\u001b[0;32m   3627\u001b[0m     \u001b[38;5;66;03m#  the TypeError.\u001b[39;00m\n\u001b[0;32m   3628\u001b[0m     \u001b[38;5;28mself\u001b[39m\u001b[38;5;241m.\u001b[39m_check_indexing_error(key)\n",
      "\u001b[1;31mKeyError\u001b[0m: 'Process-Test-Control_MAP'"
     ]
    }
   ],
   "source": [
    "#mapping with BU, Process, control, risk\n",
    "#control_map = pd.read_excel('C://Users//LZ575NE//OneDrive - EY//Desktop//control.xlsx',sheet_name='Control')\n",
    "#data['Process-Activity-Risk_Ctrl_MAP']\n",
    "control_map= pd.merge(data['Process-Test-Control_MAP']),data(['Control'][['control_id','control_description']],on='control_id',how='inner')\n",
    "data.columns = data.columns.str.strip() "
   ]
  },
  {
   "cell_type": "code",
   "execution_count": null,
   "id": "f83a8452",
   "metadata": {},
   "outputs": [],
   "source": [
    "data[]"
   ]
  },
  {
   "cell_type": "code",
   "execution_count": 44,
   "id": "1c979249",
   "metadata": {},
   "outputs": [],
   "source": [
    "## Calculate percentage of controls that are Manual vs Automated"
   ]
  },
  {
   "cell_type": "code",
   "execution_count": 122,
   "id": "6889e281",
   "metadata": {},
   "outputs": [
    {
     "name": "stdout",
     "output_type": "stream",
     "text": [
      "  control_description  word_count\n",
      "0              manual           1\n"
     ]
    }
   ],
   "source": [
    "# create a sample dataframe\n",
    "#df = pd.DataFrame({'control_description': ['manual']})\n",
    "\n",
    "# define a function to count the number of words in a text string\n",
    "#def count_words(text):\n",
    " #   return len(text.split())\n",
    "\n",
    "# apply the count_words function to the text_column\n",
    "#df['word_count'] = df['control_description'].apply(count_words)\n",
    "\n",
    "# print the result\n",
    "#print(df)"
   ]
  },
  {
   "cell_type": "code",
   "execution_count": null,
   "id": "68709e09",
   "metadata": {},
   "outputs": [],
   "source": [
    "#if data['control_description'].contains('manual').any():\n",
    "    \n",
    " #   def count_occurrence(data, word_to_count):\n",
    "  #      count = 0\n",
    "   # for word in data:\n",
    "    #    if word == word_to_count:\n",
    "     #       count = count + 1\n",
    "          # update counter variable        \n",
    "      #      return count\n",
    "    \n",
    "#    c=0\n",
    "#for i, row in data.iterrows():\n",
    " #      for j in range(i+1, len(data)-1):\n",
    "  #           if row['control_description']==data.iloc[j,4]:\n",
    "   #                 c+=1\n",
    "    #                print(data.iloc[j,4])\n",
    "     #               print(j,i)                    \n",
    "\n",
    "#print(c)                                        "
   ]
  }
 ],
 "metadata": {
  "kernelspec": {
   "display_name": "Python 3 (ipykernel)",
   "language": "python",
   "name": "python3"
  },
  "language_info": {
   "codemirror_mode": {
    "name": "ipython",
    "version": 3
   },
   "file_extension": ".py",
   "mimetype": "text/x-python",
   "name": "python",
   "nbconvert_exporter": "python",
   "pygments_lexer": "ipython3",
   "version": "3.9.12"
  }
 },
 "nbformat": 4,
 "nbformat_minor": 5
}
