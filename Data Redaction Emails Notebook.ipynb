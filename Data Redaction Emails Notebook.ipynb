{
 "cells": [
  {
   "cell_type": "code",
   "execution_count": 0,
   "metadata": {
    "application/vnd.databricks.v1+cell": {
     "inputWidgets": {},
     "nuid": "63a36652-c495-4ab9-beb2-d2f153290360",
     "showTitle": true,
     "title": "Installing tesseract-ocr"
    }
   },
   "outputs": [
    {
     "data": {
      "text/html": [
       "<style scoped>\n",
       "  .ansiout {\n",
       "    display: block;\n",
       "    unicode-bidi: embed;\n",
       "    white-space: pre-wrap;\n",
       "    word-wrap: break-word;\n",
       "    word-break: break-all;\n",
       "    font-family: \"Source Code Pro\", \"Menlo\", monospace;;\n",
       "    font-size: 13px;\n",
       "    color: #555;\n",
       "    margin-left: 4px;\n",
       "    line-height: 19px;\n",
       "  }\n",
       "</style>\n",
       "<div class=\"ansiout\">Reading package lists...\n",
       "Building dependency tree...\n",
       "Reading state information...\n",
       "tesseract-ocr is already the newest version (4.1.1-2build2).\n",
       "0 upgraded, 0 newly installed, 0 to remove and 54 not upgraded.\n",
       "</div>"
      ]
     },
     "metadata": {
      "application/vnd.databricks.v1+output": {
       "addedWidgets": {},
       "arguments": {},
       "data": "<div class=\"ansiout\">Reading package lists...\nBuilding dependency tree...\nReading state information...\ntesseract-ocr is already the newest version (4.1.1-2build2).\n0 upgraded, 0 newly installed, 0 to remove and 54 not upgraded.\n</div>",
       "datasetInfos": [],
       "metadata": {},
       "removedWidgets": [],
       "type": "html"
      }
     },
     "output_type": "display_data"
    }
   ],
   "source": [
    "%sh apt-get -f -y install tesseract-ocr "
   ]
  },
  {
   "cell_type": "code",
   "execution_count": 0,
   "metadata": {
    "application/vnd.databricks.v1+cell": {
     "inputWidgets": {},
     "nuid": "c00eddc5-fc54-493f-beaa-c51f8d7320b7",
     "showTitle": false,
     "title": ""
    }
   },
   "outputs": [
    {
     "data": {
      "text/html": [
       "<style scoped>\n",
       "  .ansiout {\n",
       "    display: block;\n",
       "    unicode-bidi: embed;\n",
       "    white-space: pre-wrap;\n",
       "    word-wrap: break-word;\n",
       "    word-break: break-all;\n",
       "    font-family: \"Source Code Pro\", \"Menlo\", monospace;;\n",
       "    font-size: 13px;\n",
       "    color: #555;\n",
       "    margin-left: 4px;\n",
       "    line-height: 19px;\n",
       "  }\n",
       "</style>\n",
       "<div class=\"ansiout\">Out[87]: [MountInfo(mountPoint=&#39;/databricks-datasets&#39;, source=&#39;databricks-datasets&#39;, encryptionType=&#39;&#39;),\n",
       " MountInfo(mountPoint=&#39;/mnt/insurancedump&#39;, source=&#39;wasbs://insurancedump@[REDACTED].blob.core.windows.net/&#39;, encryptionType=&#39;&#39;),\n",
       " MountInfo(mountPoint=&#39;/databricks/mlflow-tracking&#39;, source=&#39;databricks/mlflow-tracking&#39;, encryptionType=&#39;&#39;),\n",
       " MountInfo(mountPoint=&#39;/databricks-results&#39;, source=&#39;databricks-results&#39;, encryptionType=&#39;&#39;),\n",
       " MountInfo(mountPoint=&#39;/databricks/mlflow-registry&#39;, source=&#39;databricks/mlflow-registry&#39;, encryptionType=&#39;&#39;),\n",
       " MountInfo(mountPoint=&#39;/mnt/scanAndRedactMntTarget&#39;, source=&#39;wasbs://sourceimage-demo@[REDACTED].blob.core.windows.net&#39;, encryptionType=&#39;&#39;),\n",
       " MountInfo(mountPoint=&#39;/mnt/test&#39;, source=&#39;wasbs://test@[REDACTED].blob.core.windows.net/&#39;, encryptionType=&#39;&#39;),\n",
       " MountInfo(mountPoint=&#39;/mnt/insurancetest&#39;, source=&#39;wasbs://insurancetest@[REDACTED].blob.core.windows.net/&#39;, encryptionType=&#39;&#39;),\n",
       " MountInfo(mountPoint=&#39;/mnt/sourceimage-demo&#39;, source=&#39;wasbs://sourceimage-demo@[REDACTED].blob.core.windows.net/&#39;, encryptionType=&#39;&#39;),\n",
       " MountInfo(mountPoint=&#39;/mnt/scanAndRedactMnt&#39;, source=&#39;wasbs://sourceimage-demo@[REDACTED].blob.core.windows.net&#39;, encryptionType=&#39;&#39;),\n",
       " MountInfo(mountPoint=&#39;/&#39;, source=&#39;DatabricksRoot&#39;, encryptionType=&#39;&#39;)]</div>"
      ]
     },
     "metadata": {
      "application/vnd.databricks.v1+output": {
       "addedWidgets": {},
       "arguments": {},
       "data": "<div class=\"ansiout\">Out[87]: [MountInfo(mountPoint=&#39;/databricks-datasets&#39;, source=&#39;databricks-datasets&#39;, encryptionType=&#39;&#39;),\n MountInfo(mountPoint=&#39;/mnt/insurancedump&#39;, source=&#39;wasbs://insurancedump@[REDACTED].blob.core.windows.net/&#39;, encryptionType=&#39;&#39;),\n MountInfo(mountPoint=&#39;/databricks/mlflow-tracking&#39;, source=&#39;databricks/mlflow-tracking&#39;, encryptionType=&#39;&#39;),\n MountInfo(mountPoint=&#39;/databricks-results&#39;, source=&#39;databricks-results&#39;, encryptionType=&#39;&#39;),\n MountInfo(mountPoint=&#39;/databricks/mlflow-registry&#39;, source=&#39;databricks/mlflow-registry&#39;, encryptionType=&#39;&#39;),\n MountInfo(mountPoint=&#39;/mnt/scanAndRedactMntTarget&#39;, source=&#39;wasbs://sourceimage-demo@[REDACTED].blob.core.windows.net&#39;, encryptionType=&#39;&#39;),\n MountInfo(mountPoint=&#39;/mnt/test&#39;, source=&#39;wasbs://test@[REDACTED].blob.core.windows.net/&#39;, encryptionType=&#39;&#39;),\n MountInfo(mountPoint=&#39;/mnt/insurancetest&#39;, source=&#39;wasbs://insurancetest@[REDACTED].blob.core.windows.net/&#39;, encryptionType=&#39;&#39;),\n MountInfo(mountPoint=&#39;/mnt/sourceimage-demo&#39;, source=&#39;wasbs://sourceimage-demo@[REDACTED].blob.core.windows.net/&#39;, encryptionType=&#39;&#39;),\n MountInfo(mountPoint=&#39;/mnt/scanAndRedactMnt&#39;, source=&#39;wasbs://sourceimage-demo@[REDACTED].blob.core.windows.net&#39;, encryptionType=&#39;&#39;),\n MountInfo(mountPoint=&#39;/&#39;, source=&#39;DatabricksRoot&#39;, encryptionType=&#39;&#39;)]</div>",
       "datasetInfos": [],
       "metadata": {},
       "removedWidgets": [],
       "type": "html"
      }
     },
     "output_type": "display_data"
    }
   ],
   "source": [
    "dbutils.fs.mounts()"
   ]
  },
  {
   "cell_type": "code",
   "execution_count": 1,
   "metadata": {
    "application/vnd.databricks.v1+cell": {
     "inputWidgets": {},
     "nuid": "18181e1a-e1d5-4b89-8af9-79b562210f01",
     "showTitle": true,
     "title": "Installing extract-msg, PyMuPDF, presidio_image_redactor and languages for spacy"
    }
   },
   "outputs": [
    {
     "name": "stdout",
     "output_type": "stream",
     "text": [
      "Collecting extract-msg\n",
      "  Downloading extract_msg-0.36.4-py2.py3-none-any.whl (160 kB)\n",
      "Collecting ebcdic>=1.1.1\n",
      "  Downloading ebcdic-1.1.1-py2.py3-none-any.whl (128 kB)\n",
      "Collecting imapclient>=2.1.0\n",
      "Note: you may need to restart the kernel to use updated packages.  Downloading IMAPClient-2.3.1-py2.py3-none-any.whl (181 kB)\n",
      "\n",
      "Collecting compressed-rtf>=1.0.6\n",
      "  Downloading compressed_rtf-1.0.6.tar.gz (5.8 kB)\n",
      "Collecting tzlocal>=4.2"
     ]
    },
    {
     "name": "stderr",
     "output_type": "stream",
     "text": [
      "ERROR: pip's dependency resolver does not currently take into account all the packages that are installed. This behaviour is the source of the following dependency conflicts.\n",
      "jupyter-server 1.13.5 requires pywinpty<2; os_name == \"nt\", but you have pywinpty 2.0.2 which is incompatible.\n"
     ]
    },
    {
     "name": "stdout",
     "output_type": "stream",
     "text": [
      "\n",
      "  Downloading tzlocal-4.2-py3-none-any.whl (19 kB)\n",
      "Requirement already satisfied: chardet>=4.0.0 in c:\\users\\lz575ne\\anaconda3\\lib\\site-packages (from extract-msg) (4.0.0)\n",
      "Requirement already satisfied: olefile>=0.46 in c:\\users\\lz575ne\\anaconda3\\lib\\site-packages (from extract-msg) (0.46)\n",
      "Requirement already satisfied: beautifulsoup4>=4.11.1 in c:\\users\\lz575ne\\anaconda3\\lib\\site-packages (from extract-msg) (4.11.1)\n",
      "Collecting RTFDE>=0.0.2\n",
      "  Downloading RTFDE-0.0.2-py3-none-any.whl (34 kB)\n",
      "Requirement already satisfied: soupsieve>1.2 in c:\\users\\lz575ne\\anaconda3\\lib\\site-packages (from beautifulsoup4>=4.11.1->extract-msg) (2.3.1)\n",
      "Requirement already satisfied: six in c:\\users\\lz575ne\\anaconda3\\lib\\site-packages (from imapclient>=2.1.0->extract-msg) (1.16.0)\n",
      "Collecting lark-parser>=0.11\n",
      "  Downloading lark_parser-0.12.0-py2.py3-none-any.whl (103 kB)\n",
      "Collecting oletools>=0.56\n",
      "  Downloading oletools-0.60.1-py2.py3-none-any.whl (977 kB)\n",
      "Collecting pyparsing<3,>=2.1.0\n",
      "  Downloading pyparsing-2.4.7-py2.py3-none-any.whl (67 kB)\n",
      "Collecting colorclass\n",
      "  Downloading colorclass-2.2.2-py2.py3-none-any.whl (18 kB)\n",
      "Collecting pcodedmp>=1.2.5\n",
      "  Downloading pcodedmp-1.2.6-py2.py3-none-any.whl (30 kB)\n",
      "Collecting easygui\n",
      "  Downloading easygui-0.98.3-py2.py3-none-any.whl (92 kB)\n",
      "Collecting msoffcrypto-tool\n",
      "  Downloading msoffcrypto_tool-5.0.0-py3-none-any.whl (33 kB)\n",
      "Requirement already satisfied: win-unicode-console in c:\\users\\lz575ne\\anaconda3\\lib\\site-packages (from pcodedmp>=1.2.5->oletools>=0.56->RTFDE>=0.0.2->extract-msg) (0.5)\n",
      "Collecting pytz-deprecation-shim\n",
      "  Downloading pytz_deprecation_shim-0.1.0.post0-py2.py3-none-any.whl (15 kB)\n",
      "Collecting tzdata\n",
      "  Downloading tzdata-2022.6-py2.py3-none-any.whl (338 kB)\n",
      "Requirement already satisfied: cryptography>=2.3 in c:\\users\\lz575ne\\anaconda3\\lib\\site-packages (from msoffcrypto-tool->oletools>=0.56->RTFDE>=0.0.2->extract-msg) (3.4.8)\n",
      "Requirement already satisfied: cffi>=1.12 in c:\\users\\lz575ne\\anaconda3\\lib\\site-packages (from cryptography>=2.3->msoffcrypto-tool->oletools>=0.56->RTFDE>=0.0.2->extract-msg) (1.15.0)\n",
      "Requirement already satisfied: pycparser in c:\\users\\lz575ne\\anaconda3\\lib\\site-packages (from cffi>=1.12->cryptography>=2.3->msoffcrypto-tool->oletools>=0.56->RTFDE>=0.0.2->extract-msg) (2.21)\n",
      "Building wheels for collected packages: compressed-rtf\n",
      "  Building wheel for compressed-rtf (setup.py): started\n",
      "  Building wheel for compressed-rtf (setup.py): finished with status 'done'\n",
      "  Created wheel for compressed-rtf: filename=compressed_rtf-1.0.6-py3-none-any.whl size=6204 sha256=cbda250eb0c7140dee9d4674cd680aa4b860130b68bcdb2ac6f14b76a7cb33eb\n",
      "  Stored in directory: c:\\users\\lz575ne\\appdata\\local\\pip\\cache\\wheels\\e4\\67\\e4\\ba2159853bdd0fe99330aa1e384915108143a5370686ea446f\n",
      "Successfully built compressed-rtf\n",
      "Installing collected packages: tzdata, pyparsing, pcodedmp, msoffcrypto-tool, easygui, colorclass, pytz-deprecation-shim, oletools, lark-parser, tzlocal, RTFDE, imapclient, ebcdic, compressed-rtf, extract-msg\n",
      "  Attempting uninstall: pyparsing\n",
      "    Found existing installation: pyparsing 3.0.4\n",
      "    Uninstalling pyparsing-3.0.4:\n",
      "      Successfully uninstalled pyparsing-3.0.4\n",
      "Successfully installed RTFDE-0.0.2 colorclass-2.2.2 compressed-rtf-1.0.6 easygui-0.98.3 ebcdic-1.1.1 extract-msg-0.36.4 imapclient-2.3.1 lark-parser-0.12.0 msoffcrypto-tool-5.0.0 oletools-0.60.1 pcodedmp-1.2.6 pyparsing-2.4.7 pytz-deprecation-shim-0.1.0.post0 tzdata-2022.6 tzlocal-4.2\n",
      "Requirement already satisfied: pytesseract in c:\\users\\lz575ne\\anaconda3\\lib\\site-packages (0.3.10)\n",
      "Requirement already satisfied: packaging>=21.3 in c:\\users\\lz575ne\\anaconda3\\lib\\site-packages (from pytesseract) (21.3)\n",
      "Requirement already satisfied: Pillow>=8.0.0 in c:\\users\\lz575ne\\anaconda3\\lib\\site-packages (from pytesseract) (9.0.1)\n",
      "Requirement already satisfied: pyparsing!=3.0.5,>=2.0.2 in c:\\users\\lz575ne\\anaconda3\\lib\\site-packages (from packaging>=21.3->pytesseract) (2.4.7)\n",
      "Note: you may need to restart the kernel to use updated packages.\n",
      "Collecting PyMuPDF\n",
      "  Downloading PyMuPDF-1.20.2-cp39-cp39-win_amd64.whl (6.6 MB)\n",
      "Installing collected packages: PyMuPDF\n",
      "Successfully installed PyMuPDF-1.20.2\n",
      "Note: you may need to restart the kernel to use updated packages.\n",
      "Collecting presidio_image_redactor\n",
      "  Downloading presidio_image_redactor-0.0.44-py3-none-any.whl (10.0 kB)\n",
      "Requirement already satisfied: pillow in c:\\users\\lz575ne\\anaconda3\\lib\\site-packages (from presidio_image_redactor) (9.0.1)\n",
      "Collecting pytesseract==0.3.7\n",
      "  Downloading pytesseract-0.3.7.tar.gz (13 kB)\n",
      "Collecting matplotlib==3.3.4\n",
      "  Downloading matplotlib-3.3.4-cp39-cp39-win_amd64.whl (8.5 MB)\n",
      "Collecting pydantic==1.7.4\n",
      "  Downloading pydantic-1.7.4-cp39-cp39-win_amd64.whl (1.8 MB)\n",
      "Collecting presidio-analyzer>=1.9.0\n",
      "  Downloading presidio_analyzer-2.2.30-py3-none-any.whl (75 kB)\n",
      "Requirement already satisfied: kiwisolver>=1.0.1 in c:\\users\\lz575ne\\anaconda3\\lib\\site-packages (from matplotlib==3.3.4->presidio_image_redactor) (1.3.2)\n",
      "Requirement already satisfied: numpy>=1.15 in c:\\users\\lz575ne\\anaconda3\\lib\\site-packages (from matplotlib==3.3.4->presidio_image_redactor) (1.21.5)\n",
      "Requirement already satisfied: cycler>=0.10 in c:\\users\\lz575ne\\anaconda3\\lib\\site-packages (from matplotlib==3.3.4->presidio_image_redactor) (0.11.0)\n",
      "Requirement already satisfied: pyparsing!=2.0.4,!=2.1.2,!=2.1.6,>=2.0.3 in c:\\users\\lz575ne\\anaconda3\\lib\\site-packages (from matplotlib==3.3.4->presidio_image_redactor) (2.4.7)\n",
      "Requirement already satisfied: python-dateutil>=2.1 in c:\\users\\lz575ne\\anaconda3\\lib\\site-packages (from matplotlib==3.3.4->presidio_image_redactor) (2.8.2)\n",
      "Requirement already satisfied: regex in c:\\users\\lz575ne\\anaconda3\\lib\\site-packages (from presidio-analyzer>=1.9.0->presidio_image_redactor) (2022.3.15)\n",
      "Collecting phonenumbers>=8.12\n",
      "  Downloading phonenumbers-8.12.57-py2.py3-none-any.whl (2.6 MB)\n",
      "Requirement already satisfied: pyyaml in c:\\users\\lz575ne\\anaconda3\\lib\\site-packages (from presidio-analyzer>=1.9.0->presidio_image_redactor) (6.0)\n",
      "Requirement already satisfied: tldextract in c:\\users\\lz575ne\\anaconda3\\lib\\site-packages (from presidio-analyzer>=1.9.0->presidio_image_redactor) (3.2.0)\n",
      "Collecting spacy>=3.2.0\n",
      "  Downloading spacy-3.4.2-cp39-cp39-win_amd64.whl (11.9 MB)\n",
      "Requirement already satisfied: six>=1.5 in c:\\users\\lz575ne\\anaconda3\\lib\\site-packages (from python-dateutil>=2.1->matplotlib==3.3.4->presidio_image_redactor) (1.16.0)\n",
      "Collecting langcodes<4.0.0,>=3.2.0\n",
      "  Downloading langcodes-3.3.0-py3-none-any.whl (181 kB)\n",
      "Requirement already satisfied: setuptools in c:\\users\\lz575ne\\anaconda3\\lib\\site-packages (from spacy>=3.2.0->presidio-analyzer>=1.9.0->presidio_image_redactor) (61.2.0)\n",
      "Collecting srsly<3.0.0,>=2.4.3\n",
      "  Downloading srsly-2.4.5-cp39-cp39-win_amd64.whl (481 kB)\n",
      "Requirement already satisfied: packaging>=20.0 in c:\\users\\lz575ne\\anaconda3\\lib\\site-packages (from spacy>=3.2.0->presidio-analyzer>=1.9.0->presidio_image_redactor) (21.3)\n",
      "Requirement already satisfied: jinja2 in c:\\users\\lz575ne\\anaconda3\\lib\\site-packages (from spacy>=3.2.0->presidio-analyzer>=1.9.0->presidio_image_redactor) (2.11.3)\n",
      "Collecting wasabi<1.1.0,>=0.9.1\n",
      "  Downloading wasabi-0.10.1-py3-none-any.whl (26 kB)\n",
      "Collecting pathy>=0.3.5\n",
      "  Downloading pathy-0.6.2-py3-none-any.whl (42 kB)\n",
      "Requirement already satisfied: tqdm<5.0.0,>=4.38.0 in c:\\users\\lz575ne\\anaconda3\\lib\\site-packages (from spacy>=3.2.0->presidio-analyzer>=1.9.0->presidio_image_redactor) (4.64.0)\n",
      "Collecting catalogue<2.1.0,>=2.0.6\n",
      "  Downloading catalogue-2.0.8-py3-none-any.whl (17 kB)\n",
      "Collecting preshed<3.1.0,>=3.0.2\n",
      "  Downloading preshed-3.0.8-cp39-cp39-win_amd64.whl (96 kB)\n",
      "Collecting murmurhash<1.1.0,>=0.28.0\n",
      "  Downloading murmurhash-1.0.9-cp39-cp39-win_amd64.whl (18 kB)\n",
      "Collecting cymem<2.1.0,>=2.0.2\n",
      "  Downloading cymem-2.0.7-cp39-cp39-win_amd64.whl (30 kB)\n",
      "Requirement already satisfied: requests<3.0.0,>=2.13.0 in c:\\users\\lz575ne\\anaconda3\\lib\\site-packages (from spacy>=3.2.0->presidio-analyzer>=1.9.0->presidio_image_redactor) (2.27.1)\n",
      "Collecting spacy-legacy<3.1.0,>=3.0.10\n",
      "  Downloading spacy_legacy-3.0.10-py2.py3-none-any.whl (21 kB)\n",
      "Collecting spacy-loggers<2.0.0,>=1.0.0\n",
      "  Downloading spacy_loggers-1.0.3-py3-none-any.whl (9.3 kB)\n",
      "Collecting thinc<8.2.0,>=8.1.0\n",
      "  Downloading thinc-8.1.5-cp39-cp39-win_amd64.whl (1.3 MB)\n",
      "Collecting typer<0.5.0,>=0.3.0\n",
      "  Downloading typer-0.4.2-py3-none-any.whl (27 kB)\n",
      "Collecting smart-open<6.0.0,>=5.2.1\n",
      "  Downloading smart_open-5.2.1-py3-none-any.whl (58 kB)\n",
      "Requirement already satisfied: idna<4,>=2.5 in c:\\users\\lz575ne\\anaconda3\\lib\\site-packages (from requests<3.0.0,>=2.13.0->spacy>=3.2.0->presidio-analyzer>=1.9.0->presidio_image_redactor) (3.3)\n",
      "Requirement already satisfied: certifi>=2017.4.17 in c:\\users\\lz575ne\\anaconda3\\lib\\site-packages (from requests<3.0.0,>=2.13.0->spacy>=3.2.0->presidio-analyzer>=1.9.0->presidio_image_redactor) (2021.10.8)\n",
      "Requirement already satisfied: urllib3<1.27,>=1.21.1 in c:\\users\\lz575ne\\anaconda3\\lib\\site-packages (from requests<3.0.0,>=2.13.0->spacy>=3.2.0->presidio-analyzer>=1.9.0->presidio_image_redactor) (1.26.9)\n",
      "Requirement already satisfied: charset-normalizer~=2.0.0 in c:\\users\\lz575ne\\anaconda3\\lib\\site-packages (from requests<3.0.0,>=2.13.0->spacy>=3.2.0->presidio-analyzer>=1.9.0->presidio_image_redactor) (2.0.4)\n",
      "Collecting confection<1.0.0,>=0.0.1\n",
      "  Downloading confection-0.0.3-py3-none-any.whl (32 kB)\n",
      "Collecting blis<0.8.0,>=0.7.8\n",
      "  Downloading blis-0.7.9-cp39-cp39-win_amd64.whl (7.0 MB)\n",
      "Requirement already satisfied: colorama in c:\\users\\lz575ne\\anaconda3\\lib\\site-packages (from tqdm<5.0.0,>=4.38.0->spacy>=3.2.0->presidio-analyzer>=1.9.0->presidio_image_redactor) (0.4.4)\n",
      "Requirement already satisfied: click<9.0.0,>=7.1.1 in c:\\users\\lz575ne\\anaconda3\\lib\\site-packages (from typer<0.5.0,>=0.3.0->spacy>=3.2.0->presidio-analyzer>=1.9.0->presidio_image_redactor) (8.0.4)\n",
      "Requirement already satisfied: MarkupSafe>=0.23 in c:\\users\\lz575ne\\anaconda3\\lib\\site-packages (from jinja2->spacy>=3.2.0->presidio-analyzer>=1.9.0->presidio_image_redactor) (2.0.1)\n",
      "Requirement already satisfied: requests-file>=1.4 in c:\\users\\lz575ne\\anaconda3\\lib\\site-packages (from tldextract->presidio-analyzer>=1.9.0->presidio_image_redactor) (1.5.1)\n",
      "Requirement already satisfied: filelock>=3.0.8 in c:\\users\\lz575ne\\anaconda3\\lib\\site-packages (from tldextract->presidio-analyzer>=1.9.0->presidio_image_redactor) (3.6.0)\n",
      "Building wheels for collected packages: pytesseract\n",
      "  Building wheel for pytesseract (setup.py): started\n",
      "  Building wheel for pytesseract (setup.py): finished with status 'done'\n",
      "  Created wheel for pytesseract: filename=pytesseract-0.3.7-py2.py3-none-any.whl size=13952 sha256=f776623e1f361686a0b24326c0170385b9cd9fe737e6447edcece2563f18486aNote: you may need to restart the kernel to use updated packages.\n",
      "\n",
      "  Stored in directory: c:\\users\\lz575ne\\appdata\\local\\pip\\cache\\wheels\\e5\\22\\c8\\c633fb88695e51343e8a57ea85995bd3c4fd02f110c2d4ac91\n",
      "Successfully built pytesseract\n",
      "Installing collected packages: catalogue, srsly, pydantic, murmurhash, cymem, wasabi, typer, smart-open, preshed, confection, blis, thinc, spacy-loggers, spacy-legacy, pathy, langcodes, spacy, phonenumbers, pytesseract, presidio-analyzer, matplotlib, presidio-image-redactor\n",
      "  Attempting uninstall: smart-open\n",
      "    Found existing installation: smart-open 5.1.0\n",
      "    Uninstalling smart-open-5.1.0:\n",
      "      Successfully uninstalled smart-open-5.1.0\n",
      "  Attempting uninstall: pytesseract\n",
      "    Found existing installation: pytesseract 0.3.10\n"
     ]
    },
    {
     "name": "stdout",
     "output_type": "stream",
     "text": [
      "    Uninstalling pytesseract-0.3.10:\n",
      "      Successfully uninstalled pytesseract-0.3.10\n",
      "  Attempting uninstall: matplotlib\n",
      "    Found existing installation: matplotlib 3.5.1\n",
      "    Uninstalling matplotlib-3.5.1:\n",
      "      Successfully uninstalled matplotlib-3.5.1\n",
      "Successfully installed blis-0.7.9 catalogue-2.0.8 confection-0.0.3 cymem-2.0.7 langcodes-3.3.0 matplotlib-3.3.4 murmurhash-1.0.9 pathy-0.6.2 phonenumbers-8.12.57 preshed-3.0.8 presidio-analyzer-2.2.30 presidio-image-redactor-0.0.44 pydantic-1.7.4 pytesseract-0.3.7 smart-open-5.2.1 spacy-3.4.2 spacy-legacy-3.0.10 spacy-loggers-1.0.3 srsly-2.4.5 thinc-8.1.5 typer-0.4.2 wasabi-0.10.1\n",
      "Collecting en-core-web-lg==3.4.1\n",
      "  Downloading https://github.com/explosion/spacy-models/releases/download/en_core_web_lg-3.4.1/en_core_web_lg-3.4.1-py3-none-any.whl (587.7 MB)\n",
      "Requirement already satisfied: spacy<3.5.0,>=3.4.0 in c:\\users\\lz575ne\\anaconda3\\lib\\site-packages (from en-core-web-lg==3.4.1) (3.4.2)\n",
      "Requirement already satisfied: thinc<8.2.0,>=8.1.0 in c:\\users\\lz575ne\\anaconda3\\lib\\site-packages (from spacy<3.5.0,>=3.4.0->en-core-web-lg==3.4.1) (8.1.5)\n",
      "Requirement already satisfied: preshed<3.1.0,>=3.0.2 in c:\\users\\lz575ne\\anaconda3\\lib\\site-packages (from spacy<3.5.0,>=3.4.0->en-core-web-lg==3.4.1) (3.0.8)\n",
      "Requirement already satisfied: numpy>=1.15.0 in c:\\users\\lz575ne\\anaconda3\\lib\\site-packages (from spacy<3.5.0,>=3.4.0->en-core-web-lg==3.4.1) (1.21.5)\n",
      "Requirement already satisfied: setuptools in c:\\users\\lz575ne\\anaconda3\\lib\\site-packages (from spacy<3.5.0,>=3.4.0->en-core-web-lg==3.4.1) (61.2.0)\n",
      "Requirement already satisfied: requests<3.0.0,>=2.13.0 in c:\\users\\lz575ne\\anaconda3\\lib\\site-packages (from spacy<3.5.0,>=3.4.0->en-core-web-lg==3.4.1) (2.27.1)\n",
      "Requirement already satisfied: catalogue<2.1.0,>=2.0.6 in c:\\users\\lz575ne\\anaconda3\\lib\\site-packages (from spacy<3.5.0,>=3.4.0->en-core-web-lg==3.4.1) (2.0.8)\n",
      "Requirement already satisfied: tqdm<5.0.0,>=4.38.0 in c:\\users\\lz575ne\\anaconda3\\lib\\site-packages (from spacy<3.5.0,>=3.4.0->en-core-web-lg==3.4.1) (4.64.0)\n",
      "Requirement already satisfied: pydantic!=1.8,!=1.8.1,<1.11.0,>=1.7.4 in c:\\users\\lz575ne\\anaconda3\\lib\\site-packages (from spacy<3.5.0,>=3.4.0->en-core-web-lg==3.4.1) (1.7.4)\n",
      "Requirement already satisfied: murmurhash<1.1.0,>=0.28.0 in c:\\users\\lz575ne\\anaconda3\\lib\\site-packages (from spacy<3.5.0,>=3.4.0->en-core-web-lg==3.4.1) (1.0.9)\n",
      "Requirement already satisfied: cymem<2.1.0,>=2.0.2 in c:\\users\\lz575ne\\anaconda3\\lib\\site-packages (from spacy<3.5.0,>=3.4.0->en-core-web-lg==3.4.1) (2.0.7)\n",
      "Requirement already satisfied: typer<0.5.0,>=0.3.0 in c:\\users\\lz575ne\\anaconda3\\lib\\site-packages (from spacy<3.5.0,>=3.4.0->en-core-web-lg==3.4.1) (0.4.2)\n",
      "Requirement already satisfied: wasabi<1.1.0,>=0.9.1 in c:\\users\\lz575ne\\anaconda3\\lib\\site-packages (from spacy<3.5.0,>=3.4.0->en-core-web-lg==3.4.1) (0.10.1)\n",
      "Requirement already satisfied: spacy-loggers<2.0.0,>=1.0.0 in c:\\users\\lz575ne\\anaconda3\\lib\\site-packages (from spacy<3.5.0,>=3.4.0->en-core-web-lg==3.4.1) (1.0.3)\n",
      "Requirement already satisfied: spacy-legacy<3.1.0,>=3.0.10 in c:\\users\\lz575ne\\anaconda3\\lib\\site-packages (from spacy<3.5.0,>=3.4.0->en-core-web-lg==3.4.1) (3.0.10)\n",
      "Requirement already satisfied: jinja2 in c:\\users\\lz575ne\\anaconda3\\lib\\site-packages (from spacy<3.5.0,>=3.4.0->en-core-web-lg==3.4.1) (2.11.3)\n",
      "Requirement already satisfied: langcodes<4.0.0,>=3.2.0 in c:\\users\\lz575ne\\anaconda3\\lib\\site-packages (from spacy<3.5.0,>=3.4.0->en-core-web-lg==3.4.1) (3.3.0)\n",
      "Requirement already satisfied: srsly<3.0.0,>=2.4.3 in c:\\users\\lz575ne\\anaconda3\\lib\\site-packages (from spacy<3.5.0,>=3.4.0->en-core-web-lg==3.4.1) (2.4.5)\n",
      "Requirement already satisfied: packaging>=20.0 in c:\\users\\lz575ne\\anaconda3\\lib\\site-packages (from spacy<3.5.0,>=3.4.0->en-core-web-lg==3.4.1) (21.3)\n",
      "Requirement already satisfied: pathy>=0.3.5 in c:\\users\\lz575ne\\anaconda3\\lib\\site-packages (from spacy<3.5.0,>=3.4.0->en-core-web-lg==3.4.1) (0.6.2)\n",
      "Requirement already satisfied: pyparsing!=3.0.5,>=2.0.2 in c:\\users\\lz575ne\\anaconda3\\lib\\site-packages (from packaging>=20.0->spacy<3.5.0,>=3.4.0->en-core-web-lg==3.4.1) (2.4.7)\n",
      "Requirement already satisfied: smart-open<6.0.0,>=5.2.1 in c:\\users\\lz575ne\\anaconda3\\lib\\site-packages (from pathy>=0.3.5->spacy<3.5.0,>=3.4.0->en-core-web-lg==3.4.1) (5.2.1)\n",
      "Requirement already satisfied: charset-normalizer~=2.0.0 in c:\\users\\lz575ne\\anaconda3\\lib\\site-packages (from requests<3.0.0,>=2.13.0->spacy<3.5.0,>=3.4.0->en-core-web-lg==3.4.1) (2.0.4)\n",
      "Requirement already satisfied: urllib3<1.27,>=1.21.1 in c:\\users\\lz575ne\\anaconda3\\lib\\site-packages (from requests<3.0.0,>=2.13.0->spacy<3.5.0,>=3.4.0->en-core-web-lg==3.4.1) (1.26.9)\n",
      "Requirement already satisfied: certifi>=2017.4.17 in c:\\users\\lz575ne\\anaconda3\\lib\\site-packages (from requests<3.0.0,>=2.13.0->spacy<3.5.0,>=3.4.0->en-core-web-lg==3.4.1) (2021.10.8)\n",
      "Requirement already satisfied: idna<4,>=2.5 in c:\\users\\lz575ne\\anaconda3\\lib\\site-packages (from requests<3.0.0,>=2.13.0->spacy<3.5.0,>=3.4.0->en-core-web-lg==3.4.1) (3.3)\n",
      "Requirement already satisfied: confection<1.0.0,>=0.0.1 in c:\\users\\lz575ne\\anaconda3\\lib\\site-packages (from thinc<8.2.0,>=8.1.0->spacy<3.5.0,>=3.4.0->en-core-web-lg==3.4.1) (0.0.3)\n",
      "Requirement already satisfied: blis<0.8.0,>=0.7.8 in c:\\users\\lz575ne\\anaconda3\\lib\\site-packages (from thinc<8.2.0,>=8.1.0->spacy<3.5.0,>=3.4.0->en-core-web-lg==3.4.1) (0.7.9)\n",
      "Requirement already satisfied: colorama in c:\\users\\lz575ne\\anaconda3\\lib\\site-packages (from tqdm<5.0.0,>=4.38.0->spacy<3.5.0,>=3.4.0->en-core-web-lg==3.4.1) (0.4.4)\n",
      "Requirement already satisfied: click<9.0.0,>=7.1.1 in c:\\users\\lz575ne\\anaconda3\\lib\\site-packages (from typer<0.5.0,>=0.3.0->spacy<3.5.0,>=3.4.0->en-core-web-lg==3.4.1) (8.0.4)\n",
      "Requirement already satisfied: MarkupSafe>=0.23 in c:\\users\\lz575ne\\anaconda3\\lib\\site-packages (from jinja2->spacy<3.5.0,>=3.4.0->en-core-web-lg==3.4.1) (2.0.1)\n",
      "Installing collected packages: en-core-web-lg\n",
      "Successfully installed en-core-web-lg-3.4.1\n",
      "[+] Download and installation successful\n",
      "You can now load the package via spacy.load('en_core_web_lg')\n",
      "Collecting en-core-web-sm==3.4.1\n",
      "  Downloading https://github.com/explosion/spacy-models/releases/download/en_core_web_sm-3.4.1/en_core_web_sm-3.4.1-py3-none-any.whl (12.8 MB)\n",
      "Requirement already satisfied: spacy<3.5.0,>=3.4.0 in c:\\users\\lz575ne\\anaconda3\\lib\\site-packages (from en-core-web-sm==3.4.1) (3.4.2)\n",
      "Requirement already satisfied: preshed<3.1.0,>=3.0.2 in c:\\users\\lz575ne\\anaconda3\\lib\\site-packages (from spacy<3.5.0,>=3.4.0->en-core-web-sm==3.4.1) (3.0.8)\n",
      "Requirement already satisfied: requests<3.0.0,>=2.13.0 in c:\\users\\lz575ne\\anaconda3\\lib\\site-packages (from spacy<3.5.0,>=3.4.0->en-core-web-sm==3.4.1) (2.27.1)\n",
      "Requirement already satisfied: setuptools in c:\\users\\lz575ne\\anaconda3\\lib\\site-packages (from spacy<3.5.0,>=3.4.0->en-core-web-sm==3.4.1) (61.2.0)\n",
      "Requirement already satisfied: spacy-legacy<3.1.0,>=3.0.10 in c:\\users\\lz575ne\\anaconda3\\lib\\site-packages (from spacy<3.5.0,>=3.4.0->en-core-web-sm==3.4.1) (3.0.10)\n",
      "Requirement already satisfied: spacy-loggers<2.0.0,>=1.0.0 in c:\\users\\lz575ne\\anaconda3\\lib\\site-packages (from spacy<3.5.0,>=3.4.0->en-core-web-sm==3.4.1) (1.0.3)\n",
      "Requirement already satisfied: langcodes<4.0.0,>=3.2.0 in c:\\users\\lz575ne\\anaconda3\\lib\\site-packages (from spacy<3.5.0,>=3.4.0->en-core-web-sm==3.4.1) (3.3.0)\n",
      "Requirement already satisfied: catalogue<2.1.0,>=2.0.6 in c:\\users\\lz575ne\\anaconda3\\lib\\site-packages (from spacy<3.5.0,>=3.4.0->en-core-web-sm==3.4.1) (2.0.8)\n",
      "Requirement already satisfied: pydantic!=1.8,!=1.8.1,<1.11.0,>=1.7.4 in c:\\users\\lz575ne\\anaconda3\\lib\\site-packages (from spacy<3.5.0,>=3.4.0->en-core-web-sm==3.4.1) (1.7.4)\n",
      "Requirement already satisfied: murmurhash<1.1.0,>=0.28.0 in c:\\users\\lz575ne\\anaconda3\\lib\\site-packages (from spacy<3.5.0,>=3.4.0->en-core-web-sm==3.4.1) (1.0.9)\n",
      "Requirement already satisfied: srsly<3.0.0,>=2.4.3 in c:\\users\\lz575ne\\anaconda3\\lib\\site-packages (from spacy<3.5.0,>=3.4.0->en-core-web-sm==3.4.1) (2.4.5)\n",
      "Requirement already satisfied: pathy>=0.3.5 in c:\\users\\lz575ne\\anaconda3\\lib\\site-packages (from spacy<3.5.0,>=3.4.0->en-core-web-sm==3.4.1) (0.6.2)\n",
      "Requirement already satisfied: wasabi<1.1.0,>=0.9.1 in c:\\users\\lz575ne\\anaconda3\\lib\\site-packages (from spacy<3.5.0,>=3.4.0->en-core-web-sm==3.4.1) (0.10.1)\n",
      "Requirement already satisfied: packaging>=20.0 in c:\\users\\lz575ne\\anaconda3\\lib\\site-packages (from spacy<3.5.0,>=3.4.0->en-core-web-sm==3.4.1) (21.3)\n",
      "Requirement already satisfied: tqdm<5.0.0,>=4.38.0 in c:\\users\\lz575ne\\anaconda3\\lib\\site-packages (from spacy<3.5.0,>=3.4.0->en-core-web-sm==3.4.1) (4.64.0)\n",
      "Requirement already satisfied: typer<0.5.0,>=0.3.0 in c:\\users\\lz575ne\\anaconda3\\lib\\site-packages (from spacy<3.5.0,>=3.4.0->en-core-web-sm==3.4.1) (0.4.2)\n",
      "Requirement already satisfied: jinja2 in c:\\users\\lz575ne\\anaconda3\\lib\\site-packages (from spacy<3.5.0,>=3.4.0->en-core-web-sm==3.4.1) (2.11.3)\n",
      "Requirement already satisfied: numpy>=1.15.0 in c:\\users\\lz575ne\\anaconda3\\lib\\site-packages (from spacy<3.5.0,>=3.4.0->en-core-web-sm==3.4.1) (1.21.5)\n",
      "Requirement already satisfied: cymem<2.1.0,>=2.0.2 in c:\\users\\lz575ne\\anaconda3\\lib\\site-packages (from spacy<3.5.0,>=3.4.0->en-core-web-sm==3.4.1) (2.0.7)\n",
      "Requirement already satisfied: thinc<8.2.0,>=8.1.0 in c:\\users\\lz575ne\\anaconda3\\lib\\site-packages (from spacy<3.5.0,>=3.4.0->en-core-web-sm==3.4.1) (8.1.5)\n",
      "Requirement already satisfied: pyparsing!=3.0.5,>=2.0.2 in c:\\users\\lz575ne\\anaconda3\\lib\\site-packages (from packaging>=20.0->spacy<3.5.0,>=3.4.0->en-core-web-sm==3.4.1) (2.4.7)\n",
      "Requirement already satisfied: smart-open<6.0.0,>=5.2.1 in c:\\users\\lz575ne\\anaconda3\\lib\\site-packages (from pathy>=0.3.5->spacy<3.5.0,>=3.4.0->en-core-web-sm==3.4.1) (5.2.1)\n",
      "Requirement already satisfied: urllib3<1.27,>=1.21.1 in c:\\users\\lz575ne\\anaconda3\\lib\\site-packages (from requests<3.0.0,>=2.13.0->spacy<3.5.0,>=3.4.0->en-core-web-sm==3.4.1) (1.26.9)\n",
      "Requirement already satisfied: charset-normalizer~=2.0.0 in c:\\users\\lz575ne\\anaconda3\\lib\\site-packages (from requests<3.0.0,>=2.13.0->spacy<3.5.0,>=3.4.0->en-core-web-sm==3.4.1) (2.0.4)\n",
      "Requirement already satisfied: idna<4,>=2.5 in c:\\users\\lz575ne\\anaconda3\\lib\\site-packages (from requests<3.0.0,>=2.13.0->spacy<3.5.0,>=3.4.0->en-core-web-sm==3.4.1) (3.3)\n",
      "Requirement already satisfied: certifi>=2017.4.17 in c:\\users\\lz575ne\\anaconda3\\lib\\site-packages (from requests<3.0.0,>=2.13.0->spacy<3.5.0,>=3.4.0->en-core-web-sm==3.4.1) (2021.10.8)\n",
      "Requirement already satisfied: confection<1.0.0,>=0.0.1 in c:\\users\\lz575ne\\anaconda3\\lib\\site-packages (from thinc<8.2.0,>=8.1.0->spacy<3.5.0,>=3.4.0->en-core-web-sm==3.4.1) (0.0.3)\n",
      "Requirement already satisfied: blis<0.8.0,>=0.7.8 in c:\\users\\lz575ne\\anaconda3\\lib\\site-packages (from thinc<8.2.0,>=8.1.0->spacy<3.5.0,>=3.4.0->en-core-web-sm==3.4.1) (0.7.9)\n",
      "Requirement already satisfied: colorama in c:\\users\\lz575ne\\anaconda3\\lib\\site-packages (from tqdm<5.0.0,>=4.38.0->spacy<3.5.0,>=3.4.0->en-core-web-sm==3.4.1) (0.4.4)\n",
      "Requirement already satisfied: click<9.0.0,>=7.1.1 in c:\\users\\lz575ne\\anaconda3\\lib\\site-packages (from typer<0.5.0,>=0.3.0->spacy<3.5.0,>=3.4.0->en-core-web-sm==3.4.1) (8.0.4)\n",
      "Requirement already satisfied: MarkupSafe>=0.23 in c:\\users\\lz575ne\\anaconda3\\lib\\site-packages (from jinja2->spacy<3.5.0,>=3.4.0->en-core-web-sm==3.4.1) (2.0.1)\n",
      "Installing collected packages: en-core-web-sm\n",
      "Successfully installed en-core-web-sm-3.4.1\n",
      "[+] Download and installation successful\n",
      "You can now load the package via spacy.load('en_core_web_sm')\n"
     ]
    }
   ],
   "source": [
    "%pip install extract-msg\n",
    "%pip install pytesseract\n",
    "#%pip install en_core_web_sm\n",
    "%pip install PyMuPDF\n",
    "%pip install presidio_image_redactor\n",
    "!python -m spacy download en_core_web_lg\n",
    "!python -m spacy download en_core_web_sm"
   ]
  },
  {
   "cell_type": "code",
   "execution_count": 0,
   "metadata": {
    "application/vnd.databricks.v1+cell": {
     "inputWidgets": {},
     "nuid": "9ef0b90c-fe98-4cee-ad80-c4fa93d22bd2",
     "showTitle": false,
     "title": ""
    }
   },
   "outputs": [
    {
     "data": {
      "text/html": [
       "<style scoped>\n",
       "  .ansiout {\n",
       "    display: block;\n",
       "    unicode-bidi: embed;\n",
       "    white-space: pre-wrap;\n",
       "    word-wrap: break-word;\n",
       "    word-break: break-all;\n",
       "    font-family: \"Source Code Pro\", \"Menlo\", monospace;;\n",
       "    font-size: 13px;\n",
       "    color: #555;\n",
       "    margin-left: 4px;\n",
       "    line-height: 19px;\n",
       "  }\n",
       "</style>\n",
       "<div class=\"ansiout\">pip 21.0.1\n",
       "zict 2.2.0\n",
       "yarl 1.8.1\n",
       "xlrd 2.0.1\n",
       "widgetsnbextension 3.5.1\n",
       "wheel 0.36.2\n",
       "webencodings 0.5.1\n",
       "wcwidth 0.2.5\n",
       "wasabi 0.10.1\n",
       "urllib3 1.25.11\n",
       "uamqp 1.6.0\n",
       "tzlocal 4.2\n",
       "tzdata 2022.2\n",
       "typing-extensions 4.3.0\n",
       "typer 0.4.2\n",
       "traitlets 5.0.5\n",
       "tqdm 4.64.1\n",
       "tornado 6.1\n",
       "toolz 0.12.0\n",
       "tldextract 3.3.1\n",
       "threadpoolctl 2.1.0\n",
       "thinc 8.0.17\n",
       "testpath 0.4.4\n",
       "terminado 0.9.4\n",
       "tenacity 8.0.1\n",
       "tblib 1.7.0\n",
       "statsmodels 0.12.2\n",
       "srsly 2.4.4\n",
       "spacy 3.3.1\n",
       "spacy-loggers 1.0.3\n",
       "spacy-legacy 3.0.10\n",
       "soupsieve 2.3.2.post1\n",
       "sortedcontainers 2.4.0\n",
       "smart-open 5.2.1\n",
       "six 1.15.0\n",
       "Send2Trash 1.5.0\n",
       "seaborn 0.11.1\n",
       "scipy 1.6.2\n",
       "scikit-learn 0.24.1\n",
       "s3transfer 0.3.7\n",
       "RTFDE 0.0.2\n",
       "requests 2.25.1\n",
       "requests-oauthlib 1.3.1\n",
       "requests-file 1.5.1\n",
       "regex 2022.9.11\n",
       "pyzmq 20.0.0\n",
       "PyYAML 6.0\n",
       "pytz 2020.5\n",
       "pytz-deprecation-shim 0.1.0.post0\n",
       "python-socketio 5.4.1\n",
       "python-engineio 4.3.0\n",
       "python-dateutil 2.8.1\n",
       "pytesseract 0.3.7\n",
       "pyrsistent 0.17.3\n",
       "pyparsing 2.4.7\n",
       "pyodbc 4.0.34\n",
       "PyMuPDF 1.19.6\n",
       "pymssql 2.2.5\n",
       "PyJWT 2.4.0\n",
       "Pygments 2.8.1\n",
       "pydantic 1.7.4\n",
       "pycparser 2.20\n",
       "pyarrow 4.0.0\n",
       "pyapacheatlas 0.14.0\n",
       "ptyprocess 0.7.0\n",
       "psycopg2 2.8.5\n",
       "psutil 5.9.2\n",
       "protobuf 3.17.2\n",
       "prompt-toolkit 3.0.17\n",
       "prometheus-client 0.10.1\n",
       "presidio-image-redactor 0.0.44\n",
       "presidio-analyzer 2.2.29\n",
       "preshed 3.0.7\n",
       "portalocker 2.5.1\n",
       "plotly 5.5.0\n",
       "Pillow 8.2.0\n",
       "pickleshare 0.7.5\n",
       "phonenumbers 8.12.55\n",
       "pexpect 4.8.0\n",
       "pcodedmp 1.2.6\n",
       "patsy 0.5.1\n",
       "pathy 0.6.2\n",
       "partd 1.3.0\n",
       "parso 0.7.0\n",
       "pandocfilters 1.4.3\n",
       "pandas 1.2.4\n",
       "packaging 20.9\n",
       "openpyxl 3.0.10\n",
       "oletools 0.60.1\n",
       "olefile 0.46\n",
       "oauthlib 3.2.1\n",
       "numpy 1.20.1\n",
       "notebook 6.3.0\n",
       "nest-asyncio 1.5.1\n",
       "nbformat 5.1.3\n",
       "nbconvert 6.0.7\n",
       "nbclient 0.5.3\n",
       "murmurhash 1.0.8\n",
       "multidict 6.0.2\n",
       "msrest 0.7.1\n",
       "msoffcrypto-tool 5.0.0\n",
       "msgpack 1.0.4\n",
       "msal 1.18.0\n",
       "msal-extensions 1.0.0\n",
       "mistune 0.8.4\n",
       "matplotlib 3.3.4\n",
       "MarkupSafe 2.0.1\n",
       "locket 1.0.0\n",
       "lark-parser 0.12.0\n",
       "langcodes 3.3.0\n",
       "koalas 1.8.2\n",
       "kiwisolver 1.3.1\n",
       "jupyterlab-widgets 1.0.0\n",
       "jupyterlab-pygments 0.1.2\n",
       "jupyter-core 4.7.1\n",
       "jupyter-client 6.1.12\n",
       "jsonschema 3.2.0\n",
       "joblib 1.0.1\n",
       "jmespath 0.10.0\n",
       "Jinja2 2.11.3\n",
       "jedi 0.17.2\n",
       "isodate 0.6.1\n",
       "ipywidgets 7.6.3\n",
       "ipython 7.22.0\n",
       "ipython-genutils 0.2.0\n",
       "ipykernel 5.3.4\n",
       "IMAPClient 2.3.1\n",
       "idna 2.10\n",
       "HeapDict 1.0.1\n",
       "fsspec 2022.8.2\n",
       "frozenlist 1.3.1\n",
       "facets-overview 1.0.0\n",
       "extract-msg 0.36.3\n",
       "et-xmlfile 1.1.0\n",
       "entrypoints 0.3\n",
       "en-core-web-sm 3.3.0\n",
       "en-core-web-lg 3.3.0\n",
       "ebcdic 1.1.1\n",
       "easygui 0.98.3\n",
       "distributed 2022.9.0\n",
       "defusedxml 0.7.1\n",
       "decorator 5.0.6\n",
       "dask 2022.9.0\n",
       "Cython 0.29.23\n",
       "cymem 2.0.6\n",
       "cycler 0.10.0\n",
       "cryptography 38.0.1\n",
       "confection 0.0.1\n",
       "compressed-rtf 1.0.6\n",
       "colorclass 2.2.2\n",
       "cloudpickle 2.2.0\n",
       "click 8.1.3\n",
       "charset-normalizer 2.1.1\n",
       "chardet 4.0.0\n",
       "cffi 1.14.5\n",
       "certifi 2020.12.5\n",
       "catalogue 2.0.8\n",
       "botocore 1.19.7\n",
       "boto3 1.16.7\n",
       "bokeh 2.4.3\n",
       "blis 0.7.8\n",
       "bleach 3.3.0\n",
       "bidict 0.21.4\n",
       "beautifulsoup4 4.11.1\n",
       "backports.zoneinfo 0.2.1\n",
       "backcall 0.2.0\n",
       "azure-storage-file 2.1.0\n",
       "azure-storage-file-datalake 12.8.0\n",
       "azure-storage-common 2.1.0\n",
       "azure-storage-blob 12.13.1\n",
       "azure-schemaregistry 1.1.0\n",
       "azure-identity 1.10.0\n",
       "azure-eventhub 5.10.0\n",
       "azure-datalake-store 0.0.52\n",
       "azure-core 1.25.1\n",
       "azure-common 1.1.28\n",
       "attrs 20.3.0\n",
       "async-timeout 4.0.2\n",
       "async-generator 1.10\n",
       "argon2-cffi 20.1.0\n",
       "aiosignal 1.2.0\n",
       "aiohttp 3.8.1\n",
       "adlfs 2022.9.1\n",
       "adal 1.2.7\n",
       "virtualenv 20.4.1\n",
       "setuptools 52.0.0\n",
       "filelock 3.6.0\n",
       "distlib 0.3.4\n",
       "appdirs 1.4.4\n",
       "unattended-upgrades 0.1\n",
       "ssh-import-id 5.10\n",
       "requests-unixsocket 0.2.0\n",
       "python-apt 2.0.0+ubuntu0.20.4.7\n",
       "PyGObject 3.36.0\n",
       "distro 1.4.0\n",
       "distro-info 0.23ubuntu1\n",
       "dbus-python 1.2.16\n",
       "</div>"
      ]
     },
     "metadata": {
      "application/vnd.databricks.v1+output": {
       "addedWidgets": {},
       "arguments": {},
       "data": "<div class=\"ansiout\">pip 21.0.1\nzict 2.2.0\nyarl 1.8.1\nxlrd 2.0.1\nwidgetsnbextension 3.5.1\nwheel 0.36.2\nwebencodings 0.5.1\nwcwidth 0.2.5\nwasabi 0.10.1\nurllib3 1.25.11\nuamqp 1.6.0\ntzlocal 4.2\ntzdata 2022.2\ntyping-extensions 4.3.0\ntyper 0.4.2\ntraitlets 5.0.5\ntqdm 4.64.1\ntornado 6.1\ntoolz 0.12.0\ntldextract 3.3.1\nthreadpoolctl 2.1.0\nthinc 8.0.17\ntestpath 0.4.4\nterminado 0.9.4\ntenacity 8.0.1\ntblib 1.7.0\nstatsmodels 0.12.2\nsrsly 2.4.4\nspacy 3.3.1\nspacy-loggers 1.0.3\nspacy-legacy 3.0.10\nsoupsieve 2.3.2.post1\nsortedcontainers 2.4.0\nsmart-open 5.2.1\nsix 1.15.0\nSend2Trash 1.5.0\nseaborn 0.11.1\nscipy 1.6.2\nscikit-learn 0.24.1\ns3transfer 0.3.7\nRTFDE 0.0.2\nrequests 2.25.1\nrequests-oauthlib 1.3.1\nrequests-file 1.5.1\nregex 2022.9.11\npyzmq 20.0.0\nPyYAML 6.0\npytz 2020.5\npytz-deprecation-shim 0.1.0.post0\npython-socketio 5.4.1\npython-engineio 4.3.0\npython-dateutil 2.8.1\npytesseract 0.3.7\npyrsistent 0.17.3\npyparsing 2.4.7\npyodbc 4.0.34\nPyMuPDF 1.19.6\npymssql 2.2.5\nPyJWT 2.4.0\nPygments 2.8.1\npydantic 1.7.4\npycparser 2.20\npyarrow 4.0.0\npyapacheatlas 0.14.0\nptyprocess 0.7.0\npsycopg2 2.8.5\npsutil 5.9.2\nprotobuf 3.17.2\nprompt-toolkit 3.0.17\nprometheus-client 0.10.1\npresidio-image-redactor 0.0.44\npresidio-analyzer 2.2.29\npreshed 3.0.7\nportalocker 2.5.1\nplotly 5.5.0\nPillow 8.2.0\npickleshare 0.7.5\nphonenumbers 8.12.55\npexpect 4.8.0\npcodedmp 1.2.6\npatsy 0.5.1\npathy 0.6.2\npartd 1.3.0\nparso 0.7.0\npandocfilters 1.4.3\npandas 1.2.4\npackaging 20.9\nopenpyxl 3.0.10\noletools 0.60.1\nolefile 0.46\noauthlib 3.2.1\nnumpy 1.20.1\nnotebook 6.3.0\nnest-asyncio 1.5.1\nnbformat 5.1.3\nnbconvert 6.0.7\nnbclient 0.5.3\nmurmurhash 1.0.8\nmultidict 6.0.2\nmsrest 0.7.1\nmsoffcrypto-tool 5.0.0\nmsgpack 1.0.4\nmsal 1.18.0\nmsal-extensions 1.0.0\nmistune 0.8.4\nmatplotlib 3.3.4\nMarkupSafe 2.0.1\nlocket 1.0.0\nlark-parser 0.12.0\nlangcodes 3.3.0\nkoalas 1.8.2\nkiwisolver 1.3.1\njupyterlab-widgets 1.0.0\njupyterlab-pygments 0.1.2\njupyter-core 4.7.1\njupyter-client 6.1.12\njsonschema 3.2.0\njoblib 1.0.1\njmespath 0.10.0\nJinja2 2.11.3\njedi 0.17.2\nisodate 0.6.1\nipywidgets 7.6.3\nipython 7.22.0\nipython-genutils 0.2.0\nipykernel 5.3.4\nIMAPClient 2.3.1\nidna 2.10\nHeapDict 1.0.1\nfsspec 2022.8.2\nfrozenlist 1.3.1\nfacets-overview 1.0.0\nextract-msg 0.36.3\net-xmlfile 1.1.0\nentrypoints 0.3\nen-core-web-sm 3.3.0\nen-core-web-lg 3.3.0\nebcdic 1.1.1\neasygui 0.98.3\ndistributed 2022.9.0\ndefusedxml 0.7.1\ndecorator 5.0.6\ndask 2022.9.0\nCython 0.29.23\ncymem 2.0.6\ncycler 0.10.0\ncryptography 38.0.1\nconfection 0.0.1\ncompressed-rtf 1.0.6\ncolorclass 2.2.2\ncloudpickle 2.2.0\nclick 8.1.3\ncharset-normalizer 2.1.1\nchardet 4.0.0\ncffi 1.14.5\ncertifi 2020.12.5\ncatalogue 2.0.8\nbotocore 1.19.7\nboto3 1.16.7\nbokeh 2.4.3\nblis 0.7.8\nbleach 3.3.0\nbidict 0.21.4\nbeautifulsoup4 4.11.1\nbackports.zoneinfo 0.2.1\nbackcall 0.2.0\nazure-storage-file 2.1.0\nazure-storage-file-datalake 12.8.0\nazure-storage-common 2.1.0\nazure-storage-blob 12.13.1\nazure-schemaregistry 1.1.0\nazure-identity 1.10.0\nazure-eventhub 5.10.0\nazure-datalake-store 0.0.52\nazure-core 1.25.1\nazure-common 1.1.28\nattrs 20.3.0\nasync-timeout 4.0.2\nasync-generator 1.10\nargon2-cffi 20.1.0\naiosignal 1.2.0\naiohttp 3.8.1\nadlfs 2022.9.1\nadal 1.2.7\nvirtualenv 20.4.1\nsetuptools 52.0.0\nfilelock 3.6.0\ndistlib 0.3.4\nappdirs 1.4.4\nunattended-upgrades 0.1\nssh-import-id 5.10\nrequests-unixsocket 0.2.0\npython-apt 2.0.0+ubuntu0.20.4.7\nPyGObject 3.36.0\ndistro 1.4.0\ndistro-info 0.23ubuntu1\ndbus-python 1.2.16\n</div>",
       "datasetInfos": [],
       "metadata": {},
       "removedWidgets": [],
       "type": "html"
      }
     },
     "output_type": "display_data"
    }
   ],
   "source": [
    "import pkg_resources\n",
    "for d in pkg_resources.working_set:\n",
    "     print(d)"
   ]
  },
  {
   "cell_type": "code",
   "execution_count": 0,
   "metadata": {
    "application/vnd.databricks.v1+cell": {
     "inputWidgets": {},
     "nuid": "31edeff7-e12f-456c-bd58-6b30452b1651",
     "showTitle": false,
     "title": ""
    }
   },
   "outputs": [
    {
     "data": {
      "text/html": [
       "<style scoped>\n",
       "  .ansiout {\n",
       "    display: block;\n",
       "    unicode-bidi: embed;\n",
       "    white-space: pre-wrap;\n",
       "    word-wrap: break-word;\n",
       "    word-break: break-all;\n",
       "    font-family: \"Source Code Pro\", \"Menlo\", monospace;;\n",
       "    font-size: 13px;\n",
       "    color: #555;\n",
       "    margin-left: 4px;\n",
       "    line-height: 19px;\n",
       "  }\n",
       "</style>\n",
       "<div class=\"ansiout\"></div>"
      ]
     },
     "metadata": {
      "application/vnd.databricks.v1+output": {
       "addedWidgets": {},
       "arguments": {},
       "data": "<div class=\"ansiout\"></div>",
       "datasetInfos": [],
       "metadata": {},
       "removedWidgets": [],
       "type": "html"
      }
     },
     "output_type": "display_data"
    }
   ],
   "source": [
    "dbutils.widgets.text(\"SourceID\", \"1\") \n",
    "dbutils.widgets.text(\"TargetID\", \"1\") \n",
    "dbutils.widgets.text(\"JobRunID\", \"1\")\n",
    "dbutils.widgets.text(\"JobID\", \"1\")\n",
    "#change as per requirement\n",
    "srcStr = dbutils.widgets.get(\"SourceID\")\n",
    "targetStr = dbutils.widgets.get(\"TargetID\")\n",
    "runIDStr = dbutils.widgets.get(\"JobRunID\")\n",
    "jobIDStr = dbutils.widgets.get(\"JobID\")\n",
    "srcID = int(srcStr)\n",
    "trgtID = int(targetStr)\n",
    "runID = int(runIDStr)\n",
    "jobID = int(jobIDStr)"
   ]
  },
  {
   "cell_type": "code",
   "execution_count": 0,
   "metadata": {
    "application/vnd.databricks.v1+cell": {
     "inputWidgets": {},
     "nuid": "5160b6df-cfd3-4b99-a65d-4111ac8cb6b1",
     "showTitle": true,
     "title": "Include the common utilities notebook functions"
    }
   },
   "outputs": [
    {
     "data": {
      "text/html": [
       "<style scoped>\n",
       "  .ansiout {\n",
       "    display: block;\n",
       "    unicode-bidi: embed;\n",
       "    white-space: pre-wrap;\n",
       "    word-wrap: break-word;\n",
       "    word-break: break-all;\n",
       "    font-family: \"Source Code Pro\", \"Menlo\", monospace;;\n",
       "    font-size: 13px;\n",
       "    color: #555;\n",
       "    margin-left: 4px;\n",
       "    line-height: 19px;\n",
       "  }\n",
       "</style>\n",
       "<div class=\"ansiout\"></div>"
      ]
     },
     "metadata": {
      "application/vnd.databricks.v1+output": {
       "addedWidgets": {},
       "arguments": {},
       "data": "<div class=\"ansiout\"></div>",
       "datasetInfos": [],
       "metadata": {},
       "removedWidgets": [],
       "type": "html"
      }
     },
     "output_type": "display_data"
    },
    {
     "data": {
      "text/html": [
       "<style scoped>\n",
       "  .ansiout {\n",
       "    display: block;\n",
       "    unicode-bidi: embed;\n",
       "    white-space: pre-wrap;\n",
       "    word-wrap: break-word;\n",
       "    word-break: break-all;\n",
       "    font-family: \"Source Code Pro\", \"Menlo\", monospace;;\n",
       "    font-size: 13px;\n",
       "    color: #555;\n",
       "    margin-left: 4px;\n",
       "    line-height: 19px;\n",
       "  }\n",
       "</style>\n",
       "<div class=\"ansiout\"></div>"
      ]
     },
     "metadata": {
      "application/vnd.databricks.v1+output": {
       "addedWidgets": {},
       "arguments": {},
       "data": "<div class=\"ansiout\"></div>",
       "datasetInfos": [],
       "metadata": {},
       "removedWidgets": [],
       "type": "html"
      }
     },
     "output_type": "display_data"
    },
    {
     "data": {
      "text/html": [
       "<style scoped>\n",
       "  .ansiout {\n",
       "    display: block;\n",
       "    unicode-bidi: embed;\n",
       "    white-space: pre-wrap;\n",
       "    word-wrap: break-word;\n",
       "    word-break: break-all;\n",
       "    font-family: \"Source Code Pro\", \"Menlo\", monospace;;\n",
       "    font-size: 13px;\n",
       "    color: #555;\n",
       "    margin-left: 4px;\n",
       "    line-height: 19px;\n",
       "  }\n",
       "</style>\n",
       "<div class=\"ansiout\"></div>"
      ]
     },
     "metadata": {
      "application/vnd.databricks.v1+output": {
       "addedWidgets": {},
       "arguments": {},
       "data": "<div class=\"ansiout\"></div>",
       "datasetInfos": [],
       "metadata": {},
       "removedWidgets": [],
       "type": "html"
      }
     },
     "output_type": "display_data"
    },
    {
     "data": {
      "text/html": [
       "<style scoped>\n",
       "  .ansiout {\n",
       "    display: block;\n",
       "    unicode-bidi: embed;\n",
       "    white-space: pre-wrap;\n",
       "    word-wrap: break-word;\n",
       "    word-break: break-all;\n",
       "    font-family: \"Source Code Pro\", \"Menlo\", monospace;;\n",
       "    font-size: 13px;\n",
       "    color: #555;\n",
       "    margin-left: 4px;\n",
       "    line-height: 19px;\n",
       "  }\n",
       "</style>\n",
       "<div class=\"ansiout\"></div>"
      ]
     },
     "metadata": {
      "application/vnd.databricks.v1+output": {
       "addedWidgets": {},
       "arguments": {},
       "data": "<div class=\"ansiout\"></div>",
       "datasetInfos": [],
       "metadata": {},
       "removedWidgets": [],
       "type": "html"
      }
     },
     "output_type": "display_data"
    },
    {
     "data": {
      "text/html": [
       "<style scoped>\n",
       "  .ansiout {\n",
       "    display: block;\n",
       "    unicode-bidi: embed;\n",
       "    white-space: pre-wrap;\n",
       "    word-wrap: break-word;\n",
       "    word-break: break-all;\n",
       "    font-family: \"Source Code Pro\", \"Menlo\", monospace;;\n",
       "    font-size: 13px;\n",
       "    color: #555;\n",
       "    margin-left: 4px;\n",
       "    line-height: 19px;\n",
       "  }\n",
       "</style>\n",
       "<div class=\"ansiout\"></div>"
      ]
     },
     "metadata": {
      "application/vnd.databricks.v1+output": {
       "addedWidgets": {},
       "arguments": {},
       "data": "<div class=\"ansiout\"></div>",
       "datasetInfos": [],
       "metadata": {},
       "removedWidgets": [],
       "type": "html"
      }
     },
     "output_type": "display_data"
    },
    {
     "data": {
      "text/html": [
       "<style scoped>\n",
       "  .ansiout {\n",
       "    display: block;\n",
       "    unicode-bidi: embed;\n",
       "    white-space: pre-wrap;\n",
       "    word-wrap: break-word;\n",
       "    word-break: break-all;\n",
       "    font-family: \"Source Code Pro\", \"Menlo\", monospace;;\n",
       "    font-size: 13px;\n",
       "    color: #555;\n",
       "    margin-left: 4px;\n",
       "    line-height: 19px;\n",
       "  }\n",
       "</style>\n",
       "<div class=\"ansiout\"></div>"
      ]
     },
     "metadata": {
      "application/vnd.databricks.v1+output": {
       "addedWidgets": {},
       "arguments": {},
       "data": "<div class=\"ansiout\"></div>",
       "datasetInfos": [],
       "metadata": {},
       "removedWidgets": [],
       "type": "html"
      }
     },
     "output_type": "display_data"
    },
    {
     "data": {
      "text/html": [
       "<style scoped>\n",
       "  .ansiout {\n",
       "    display: block;\n",
       "    unicode-bidi: embed;\n",
       "    white-space: pre-wrap;\n",
       "    word-wrap: break-word;\n",
       "    word-break: break-all;\n",
       "    font-family: \"Source Code Pro\", \"Menlo\", monospace;;\n",
       "    font-size: 13px;\n",
       "    color: #555;\n",
       "    margin-left: 4px;\n",
       "    line-height: 19px;\n",
       "  }\n",
       "</style>\n",
       "<div class=\"ansiout\"></div>"
      ]
     },
     "metadata": {
      "application/vnd.databricks.v1+output": {
       "addedWidgets": {},
       "arguments": {},
       "data": "<div class=\"ansiout\"></div>",
       "datasetInfos": [],
       "metadata": {},
       "removedWidgets": [],
       "type": "html"
      }
     },
     "output_type": "display_data"
    },
    {
     "data": {
      "text/html": [
       "<style scoped>\n",
       "  .ansiout {\n",
       "    display: block;\n",
       "    unicode-bidi: embed;\n",
       "    white-space: pre-wrap;\n",
       "    word-wrap: break-word;\n",
       "    word-break: break-all;\n",
       "    font-family: \"Source Code Pro\", \"Menlo\", monospace;;\n",
       "    font-size: 13px;\n",
       "    color: #555;\n",
       "    margin-left: 4px;\n",
       "    line-height: 19px;\n",
       "  }\n",
       "</style>\n",
       "<div class=\"ansiout\"></div>"
      ]
     },
     "metadata": {
      "application/vnd.databricks.v1+output": {
       "addedWidgets": {},
       "arguments": {},
       "data": "<div class=\"ansiout\"></div>",
       "datasetInfos": [],
       "metadata": {},
       "removedWidgets": [],
       "type": "html"
      }
     },
     "output_type": "display_data"
    },
    {
     "data": {
      "text/html": [
       "<style scoped>\n",
       "  .ansiout {\n",
       "    display: block;\n",
       "    unicode-bidi: embed;\n",
       "    white-space: pre-wrap;\n",
       "    word-wrap: break-word;\n",
       "    word-break: break-all;\n",
       "    font-family: \"Source Code Pro\", \"Menlo\", monospace;;\n",
       "    font-size: 13px;\n",
       "    color: #555;\n",
       "    margin-left: 4px;\n",
       "    line-height: 19px;\n",
       "  }\n",
       "</style>\n",
       "<div class=\"ansiout\"></div>"
      ]
     },
     "metadata": {
      "application/vnd.databricks.v1+output": {
       "addedWidgets": {},
       "arguments": {},
       "data": "<div class=\"ansiout\"></div>",
       "datasetInfos": [],
       "metadata": {},
       "removedWidgets": [],
       "type": "html"
      }
     },
     "output_type": "display_data"
    },
    {
     "data": {
      "text/html": [
       "<style scoped>\n",
       "  .ansiout {\n",
       "    display: block;\n",
       "    unicode-bidi: embed;\n",
       "    white-space: pre-wrap;\n",
       "    word-wrap: break-word;\n",
       "    word-break: break-all;\n",
       "    font-family: \"Source Code Pro\", \"Menlo\", monospace;;\n",
       "    font-size: 13px;\n",
       "    color: #555;\n",
       "    margin-left: 4px;\n",
       "    line-height: 19px;\n",
       "  }\n",
       "</style>\n",
       "<div class=\"ansiout\"></div>"
      ]
     },
     "metadata": {
      "application/vnd.databricks.v1+output": {
       "addedWidgets": {},
       "arguments": {},
       "data": "<div class=\"ansiout\"></div>",
       "datasetInfos": [],
       "metadata": {},
       "removedWidgets": [],
       "type": "html"
      }
     },
     "output_type": "display_data"
    },
    {
     "data": {
      "text/html": [
       "<style scoped>\n",
       "  .ansiout {\n",
       "    display: block;\n",
       "    unicode-bidi: embed;\n",
       "    white-space: pre-wrap;\n",
       "    word-wrap: break-word;\n",
       "    word-break: break-all;\n",
       "    font-family: \"Source Code Pro\", \"Menlo\", monospace;;\n",
       "    font-size: 13px;\n",
       "    color: #555;\n",
       "    margin-left: 4px;\n",
       "    line-height: 19px;\n",
       "  }\n",
       "</style>\n",
       "<div class=\"ansiout\"></div>"
      ]
     },
     "metadata": {
      "application/vnd.databricks.v1+output": {
       "addedWidgets": {},
       "arguments": {},
       "data": "<div class=\"ansiout\"></div>",
       "datasetInfos": [],
       "metadata": {},
       "removedWidgets": [],
       "type": "html"
      }
     },
     "output_type": "display_data"
    },
    {
     "data": {
      "text/html": [
       "<style scoped>\n",
       "  .ansiout {\n",
       "    display: block;\n",
       "    unicode-bidi: embed;\n",
       "    white-space: pre-wrap;\n",
       "    word-wrap: break-word;\n",
       "    word-break: break-all;\n",
       "    font-family: \"Source Code Pro\", \"Menlo\", monospace;;\n",
       "    font-size: 13px;\n",
       "    color: #555;\n",
       "    margin-left: 4px;\n",
       "    line-height: 19px;\n",
       "  }\n",
       "</style>\n",
       "<div class=\"ansiout\"></div>"
      ]
     },
     "metadata": {
      "application/vnd.databricks.v1+output": {
       "addedWidgets": {},
       "arguments": {},
       "data": "<div class=\"ansiout\"></div>",
       "datasetInfos": [],
       "metadata": {},
       "removedWidgets": [],
       "type": "html"
      }
     },
     "output_type": "display_data"
    },
    {
     "data": {
      "text/html": [
       "<style scoped>\n",
       "  .ansiout {\n",
       "    display: block;\n",
       "    unicode-bidi: embed;\n",
       "    white-space: pre-wrap;\n",
       "    word-wrap: break-word;\n",
       "    word-break: break-all;\n",
       "    font-family: \"Source Code Pro\", \"Menlo\", monospace;;\n",
       "    font-size: 13px;\n",
       "    color: #555;\n",
       "    margin-left: 4px;\n",
       "    line-height: 19px;\n",
       "  }\n",
       "</style>\n",
       "<div class=\"ansiout\"></div>"
      ]
     },
     "metadata": {
      "application/vnd.databricks.v1+output": {
       "addedWidgets": {},
       "arguments": {},
       "data": "<div class=\"ansiout\"></div>",
       "datasetInfos": [],
       "metadata": {},
       "removedWidgets": [],
       "type": "html"
      }
     },
     "output_type": "display_data"
    },
    {
     "data": {
      "text/html": [
       "<style scoped>\n",
       "  .ansiout {\n",
       "    display: block;\n",
       "    unicode-bidi: embed;\n",
       "    white-space: pre-wrap;\n",
       "    word-wrap: break-word;\n",
       "    word-break: break-all;\n",
       "    font-family: \"Source Code Pro\", \"Menlo\", monospace;;\n",
       "    font-size: 13px;\n",
       "    color: #555;\n",
       "    margin-left: 4px;\n",
       "    line-height: 19px;\n",
       "  }\n",
       "</style>\n",
       "<div class=\"ansiout\"></div>"
      ]
     },
     "metadata": {
      "application/vnd.databricks.v1+output": {
       "addedWidgets": {},
       "arguments": {},
       "data": "<div class=\"ansiout\"></div>",
       "datasetInfos": [],
       "metadata": {},
       "removedWidgets": [],
       "type": "html"
      }
     },
     "output_type": "display_data"
    },
    {
     "data": {
      "text/html": [
       "<style scoped>\n",
       "  .ansiout {\n",
       "    display: block;\n",
       "    unicode-bidi: embed;\n",
       "    white-space: pre-wrap;\n",
       "    word-wrap: break-word;\n",
       "    word-break: break-all;\n",
       "    font-family: \"Source Code Pro\", \"Menlo\", monospace;;\n",
       "    font-size: 13px;\n",
       "    color: #555;\n",
       "    margin-left: 4px;\n",
       "    line-height: 19px;\n",
       "  }\n",
       "</style>\n",
       "<div class=\"ansiout\"></div>"
      ]
     },
     "metadata": {
      "application/vnd.databricks.v1+output": {
       "addedWidgets": {},
       "arguments": {},
       "data": "<div class=\"ansiout\"></div>",
       "datasetInfos": [],
       "metadata": {},
       "removedWidgets": [],
       "type": "html"
      }
     },
     "output_type": "display_data"
    },
    {
     "data": {
      "text/html": [
       "<style scoped>\n",
       "  .ansiout {\n",
       "    display: block;\n",
       "    unicode-bidi: embed;\n",
       "    white-space: pre-wrap;\n",
       "    word-wrap: break-word;\n",
       "    word-break: break-all;\n",
       "    font-family: \"Source Code Pro\", \"Menlo\", monospace;;\n",
       "    font-size: 13px;\n",
       "    color: #555;\n",
       "    margin-left: 4px;\n",
       "    line-height: 19px;\n",
       "  }\n",
       "</style>\n",
       "<div class=\"ansiout\"></div>"
      ]
     },
     "metadata": {
      "application/vnd.databricks.v1+output": {
       "addedWidgets": {},
       "arguments": {},
       "data": "<div class=\"ansiout\"></div>",
       "datasetInfos": [],
       "metadata": {},
       "removedWidgets": [],
       "type": "html"
      }
     },
     "output_type": "display_data"
    },
    {
     "data": {
      "text/html": [
       "<style scoped>\n",
       "  .ansiout {\n",
       "    display: block;\n",
       "    unicode-bidi: embed;\n",
       "    white-space: pre-wrap;\n",
       "    word-wrap: break-word;\n",
       "    word-break: break-all;\n",
       "    font-family: \"Source Code Pro\", \"Menlo\", monospace;;\n",
       "    font-size: 13px;\n",
       "    color: #555;\n",
       "    margin-left: 4px;\n",
       "    line-height: 19px;\n",
       "  }\n",
       "</style>\n",
       "<div class=\"ansiout\"></div>"
      ]
     },
     "metadata": {
      "application/vnd.databricks.v1+output": {
       "addedWidgets": {},
       "arguments": {},
       "data": "<div class=\"ansiout\"></div>",
       "datasetInfos": [],
       "metadata": {},
       "removedWidgets": [],
       "type": "html"
      }
     },
     "output_type": "display_data"
    },
    {
     "data": {
      "text/html": [
       "<style scoped>\n",
       "  .ansiout {\n",
       "    display: block;\n",
       "    unicode-bidi: embed;\n",
       "    white-space: pre-wrap;\n",
       "    word-wrap: break-word;\n",
       "    word-break: break-all;\n",
       "    font-family: \"Source Code Pro\", \"Menlo\", monospace;;\n",
       "    font-size: 13px;\n",
       "    color: #555;\n",
       "    margin-left: 4px;\n",
       "    line-height: 19px;\n",
       "  }\n",
       "</style>\n",
       "<div class=\"ansiout\"></div>"
      ]
     },
     "metadata": {
      "application/vnd.databricks.v1+output": {
       "addedWidgets": {},
       "arguments": {},
       "data": "<div class=\"ansiout\"></div>",
       "datasetInfos": [],
       "metadata": {},
       "removedWidgets": [],
       "type": "html"
      }
     },
     "output_type": "display_data"
    },
    {
     "data": {
      "text/html": [
       "<style scoped>\n",
       "  .ansiout {\n",
       "    display: block;\n",
       "    unicode-bidi: embed;\n",
       "    white-space: pre-wrap;\n",
       "    word-wrap: break-word;\n",
       "    word-break: break-all;\n",
       "    font-family: \"Source Code Pro\", \"Menlo\", monospace;;\n",
       "    font-size: 13px;\n",
       "    color: #555;\n",
       "    margin-left: 4px;\n",
       "    line-height: 19px;\n",
       "  }\n",
       "</style>\n",
       "<div class=\"ansiout\"></div>"
      ]
     },
     "metadata": {
      "application/vnd.databricks.v1+output": {
       "addedWidgets": {},
       "arguments": {},
       "data": "<div class=\"ansiout\"></div>",
       "datasetInfos": [],
       "metadata": {},
       "removedWidgets": [],
       "type": "html"
      }
     },
     "output_type": "display_data"
    },
    {
     "data": {
      "text/html": [
       "<style scoped>\n",
       "  .ansiout {\n",
       "    display: block;\n",
       "    unicode-bidi: embed;\n",
       "    white-space: pre-wrap;\n",
       "    word-wrap: break-word;\n",
       "    word-break: break-all;\n",
       "    font-family: \"Source Code Pro\", \"Menlo\", monospace;;\n",
       "    font-size: 13px;\n",
       "    color: #555;\n",
       "    margin-left: 4px;\n",
       "    line-height: 19px;\n",
       "  }\n",
       "</style>\n",
       "<div class=\"ansiout\"></div>"
      ]
     },
     "metadata": {
      "application/vnd.databricks.v1+output": {
       "addedWidgets": {},
       "arguments": {},
       "data": "<div class=\"ansiout\"></div>",
       "datasetInfos": [],
       "metadata": {},
       "removedWidgets": [],
       "type": "html"
      }
     },
     "output_type": "display_data"
    },
    {
     "data": {
      "text/html": [
       "<style scoped>\n",
       "  .ansiout {\n",
       "    display: block;\n",
       "    unicode-bidi: embed;\n",
       "    white-space: pre-wrap;\n",
       "    word-wrap: break-word;\n",
       "    word-break: break-all;\n",
       "    font-family: \"Source Code Pro\", \"Menlo\", monospace;;\n",
       "    font-size: 13px;\n",
       "    color: #555;\n",
       "    margin-left: 4px;\n",
       "    line-height: 19px;\n",
       "  }\n",
       "</style>\n",
       "<div class=\"ansiout\"></div>"
      ]
     },
     "metadata": {
      "application/vnd.databricks.v1+output": {
       "addedWidgets": {},
       "arguments": {},
       "data": "<div class=\"ansiout\"></div>",
       "datasetInfos": [],
       "metadata": {},
       "removedWidgets": [],
       "type": "html"
      }
     },
     "output_type": "display_data"
    },
    {
     "data": {
      "text/html": [
       "<style scoped>\n",
       "  .ansiout {\n",
       "    display: block;\n",
       "    unicode-bidi: embed;\n",
       "    white-space: pre-wrap;\n",
       "    word-wrap: break-word;\n",
       "    word-break: break-all;\n",
       "    font-family: \"Source Code Pro\", \"Menlo\", monospace;;\n",
       "    font-size: 13px;\n",
       "    color: #555;\n",
       "    margin-left: 4px;\n",
       "    line-height: 19px;\n",
       "  }\n",
       "</style>\n",
       "<div class=\"ansiout\"></div>"
      ]
     },
     "metadata": {
      "application/vnd.databricks.v1+output": {
       "addedWidgets": {},
       "arguments": {},
       "data": "<div class=\"ansiout\"></div>",
       "datasetInfos": [],
       "metadata": {},
       "removedWidgets": [],
       "type": "html"
      }
     },
     "output_type": "display_data"
    },
    {
     "data": {
      "text/html": [
       "<style scoped>\n",
       "  .ansiout {\n",
       "    display: block;\n",
       "    unicode-bidi: embed;\n",
       "    white-space: pre-wrap;\n",
       "    word-wrap: break-word;\n",
       "    word-break: break-all;\n",
       "    font-family: \"Source Code Pro\", \"Menlo\", monospace;;\n",
       "    font-size: 13px;\n",
       "    color: #555;\n",
       "    margin-left: 4px;\n",
       "    line-height: 19px;\n",
       "  }\n",
       "</style>\n",
       "<div class=\"ansiout\"></div>"
      ]
     },
     "metadata": {
      "application/vnd.databricks.v1+output": {
       "addedWidgets": {},
       "arguments": {},
       "data": "<div class=\"ansiout\"></div>",
       "datasetInfos": [],
       "metadata": {},
       "removedWidgets": [],
       "type": "html"
      }
     },
     "output_type": "display_data"
    },
    {
     "data": {
      "text/html": [
       "<style scoped>\n",
       "  .ansiout {\n",
       "    display: block;\n",
       "    unicode-bidi: embed;\n",
       "    white-space: pre-wrap;\n",
       "    word-wrap: break-word;\n",
       "    word-break: break-all;\n",
       "    font-family: \"Source Code Pro\", \"Menlo\", monospace;;\n",
       "    font-size: 13px;\n",
       "    color: #555;\n",
       "    margin-left: 4px;\n",
       "    line-height: 19px;\n",
       "  }\n",
       "</style>\n",
       "<div class=\"ansiout\"></div>"
      ]
     },
     "metadata": {
      "application/vnd.databricks.v1+output": {
       "addedWidgets": {},
       "arguments": {},
       "data": "<div class=\"ansiout\"></div>",
       "datasetInfos": [],
       "metadata": {},
       "removedWidgets": [],
       "type": "html"
      }
     },
     "output_type": "display_data"
    },
    {
     "data": {
      "text/html": [
       "<style scoped>\n",
       "  .ansiout {\n",
       "    display: block;\n",
       "    unicode-bidi: embed;\n",
       "    white-space: pre-wrap;\n",
       "    word-wrap: break-word;\n",
       "    word-break: break-all;\n",
       "    font-family: \"Source Code Pro\", \"Menlo\", monospace;;\n",
       "    font-size: 13px;\n",
       "    color: #555;\n",
       "    margin-left: 4px;\n",
       "    line-height: 19px;\n",
       "  }\n",
       "</style>\n",
       "<div class=\"ansiout\"></div>"
      ]
     },
     "metadata": {
      "application/vnd.databricks.v1+output": {
       "addedWidgets": {},
       "arguments": {},
       "data": "<div class=\"ansiout\"></div>",
       "datasetInfos": [],
       "metadata": {},
       "removedWidgets": [],
       "type": "html"
      }
     },
     "output_type": "display_data"
    },
    {
     "data": {
      "text/html": [
       "<style scoped>\n",
       "  .ansiout {\n",
       "    display: block;\n",
       "    unicode-bidi: embed;\n",
       "    white-space: pre-wrap;\n",
       "    word-wrap: break-word;\n",
       "    word-break: break-all;\n",
       "    font-family: \"Source Code Pro\", \"Menlo\", monospace;;\n",
       "    font-size: 13px;\n",
       "    color: #555;\n",
       "    margin-left: 4px;\n",
       "    line-height: 19px;\n",
       "  }\n",
       "</style>\n",
       "<div class=\"ansiout\"></div>"
      ]
     },
     "metadata": {
      "application/vnd.databricks.v1+output": {
       "addedWidgets": {},
       "arguments": {},
       "data": "<div class=\"ansiout\"></div>",
       "datasetInfos": [],
       "metadata": {},
       "removedWidgets": [],
       "type": "html"
      }
     },
     "output_type": "display_data"
    },
    {
     "data": {
      "text/html": [
       "<style scoped>\n",
       "  .ansiout {\n",
       "    display: block;\n",
       "    unicode-bidi: embed;\n",
       "    white-space: pre-wrap;\n",
       "    word-wrap: break-word;\n",
       "    word-break: break-all;\n",
       "    font-family: \"Source Code Pro\", \"Menlo\", monospace;;\n",
       "    font-size: 13px;\n",
       "    color: #555;\n",
       "    margin-left: 4px;\n",
       "    line-height: 19px;\n",
       "  }\n",
       "</style>\n",
       "<div class=\"ansiout\"></div>"
      ]
     },
     "metadata": {
      "application/vnd.databricks.v1+output": {
       "addedWidgets": {},
       "arguments": {},
       "data": "<div class=\"ansiout\"></div>",
       "datasetInfos": [],
       "metadata": {},
       "removedWidgets": [],
       "type": "html"
      }
     },
     "output_type": "display_data"
    },
    {
     "data": {
      "text/html": [
       "<style scoped>\n",
       "  .ansiout {\n",
       "    display: block;\n",
       "    unicode-bidi: embed;\n",
       "    white-space: pre-wrap;\n",
       "    word-wrap: break-word;\n",
       "    word-break: break-all;\n",
       "    font-family: \"Source Code Pro\", \"Menlo\", monospace;;\n",
       "    font-size: 13px;\n",
       "    color: #555;\n",
       "    margin-left: 4px;\n",
       "    line-height: 19px;\n",
       "  }\n",
       "</style>\n",
       "<div class=\"ansiout\"></div>"
      ]
     },
     "metadata": {
      "application/vnd.databricks.v1+output": {
       "addedWidgets": {},
       "arguments": {},
       "data": "<div class=\"ansiout\"></div>",
       "datasetInfos": [],
       "metadata": {},
       "removedWidgets": [],
       "type": "html"
      }
     },
     "output_type": "display_data"
    },
    {
     "data": {
      "text/html": [
       "<style scoped>\n",
       "  .ansiout {\n",
       "    display: block;\n",
       "    unicode-bidi: embed;\n",
       "    white-space: pre-wrap;\n",
       "    word-wrap: break-word;\n",
       "    word-break: break-all;\n",
       "    font-family: \"Source Code Pro\", \"Menlo\", monospace;;\n",
       "    font-size: 13px;\n",
       "    color: #555;\n",
       "    margin-left: 4px;\n",
       "    line-height: 19px;\n",
       "  }\n",
       "</style>\n",
       "<div class=\"ansiout\"></div>"
      ]
     },
     "metadata": {
      "application/vnd.databricks.v1+output": {
       "addedWidgets": {},
       "arguments": {},
       "data": "<div class=\"ansiout\"></div>",
       "datasetInfos": [],
       "metadata": {},
       "removedWidgets": [],
       "type": "html"
      }
     },
     "output_type": "display_data"
    },
    {
     "data": {
      "text/html": [
       "<style scoped>\n",
       "  .ansiout {\n",
       "    display: block;\n",
       "    unicode-bidi: embed;\n",
       "    white-space: pre-wrap;\n",
       "    word-wrap: break-word;\n",
       "    word-break: break-all;\n",
       "    font-family: \"Source Code Pro\", \"Menlo\", monospace;;\n",
       "    font-size: 13px;\n",
       "    color: #555;\n",
       "    margin-left: 4px;\n",
       "    line-height: 19px;\n",
       "  }\n",
       "</style>\n",
       "<div class=\"ansiout\"></div>"
      ]
     },
     "metadata": {
      "application/vnd.databricks.v1+output": {
       "addedWidgets": {},
       "arguments": {},
       "data": "<div class=\"ansiout\"></div>",
       "datasetInfos": [],
       "metadata": {},
       "removedWidgets": [],
       "type": "html"
      }
     },
     "output_type": "display_data"
    },
    {
     "data": {
      "text/html": [
       "<style scoped>\n",
       "  .ansiout {\n",
       "    display: block;\n",
       "    unicode-bidi: embed;\n",
       "    white-space: pre-wrap;\n",
       "    word-wrap: break-word;\n",
       "    word-break: break-all;\n",
       "    font-family: \"Source Code Pro\", \"Menlo\", monospace;;\n",
       "    font-size: 13px;\n",
       "    color: #555;\n",
       "    margin-left: 4px;\n",
       "    line-height: 19px;\n",
       "  }\n",
       "</style>\n",
       "<div class=\"ansiout\"></div>"
      ]
     },
     "metadata": {
      "application/vnd.databricks.v1+output": {
       "addedWidgets": {},
       "arguments": {},
       "data": "<div class=\"ansiout\"></div>",
       "datasetInfos": [],
       "metadata": {},
       "removedWidgets": [],
       "type": "html"
      }
     },
     "output_type": "display_data"
    },
    {
     "data": {
      "text/html": [
       "<style scoped>\n",
       "  .ansiout {\n",
       "    display: block;\n",
       "    unicode-bidi: embed;\n",
       "    white-space: pre-wrap;\n",
       "    word-wrap: break-word;\n",
       "    word-break: break-all;\n",
       "    font-family: \"Source Code Pro\", \"Menlo\", monospace;;\n",
       "    font-size: 13px;\n",
       "    color: #555;\n",
       "    margin-left: 4px;\n",
       "    line-height: 19px;\n",
       "  }\n",
       "</style>\n",
       "<div class=\"ansiout\"></div>"
      ]
     },
     "metadata": {
      "application/vnd.databricks.v1+output": {
       "addedWidgets": {},
       "arguments": {},
       "data": "<div class=\"ansiout\"></div>",
       "datasetInfos": [],
       "metadata": {},
       "removedWidgets": [],
       "type": "html"
      }
     },
     "output_type": "display_data"
    },
    {
     "data": {
      "text/html": [
       "<style scoped>\n",
       "  .ansiout {\n",
       "    display: block;\n",
       "    unicode-bidi: embed;\n",
       "    white-space: pre-wrap;\n",
       "    word-wrap: break-word;\n",
       "    word-break: break-all;\n",
       "    font-family: \"Source Code Pro\", \"Menlo\", monospace;;\n",
       "    font-size: 13px;\n",
       "    color: #555;\n",
       "    margin-left: 4px;\n",
       "    line-height: 19px;\n",
       "  }\n",
       "</style>\n",
       "<div class=\"ansiout\"></div>"
      ]
     },
     "metadata": {
      "application/vnd.databricks.v1+output": {
       "addedWidgets": {},
       "arguments": {},
       "data": "<div class=\"ansiout\"></div>",
       "datasetInfos": [],
       "metadata": {},
       "removedWidgets": [],
       "type": "html"
      }
     },
     "output_type": "display_data"
    },
    {
     "data": {
      "text/html": [
       "<style scoped>\n",
       "  .ansiout {\n",
       "    display: block;\n",
       "    unicode-bidi: embed;\n",
       "    white-space: pre-wrap;\n",
       "    word-wrap: break-word;\n",
       "    word-break: break-all;\n",
       "    font-family: \"Source Code Pro\", \"Menlo\", monospace;;\n",
       "    font-size: 13px;\n",
       "    color: #555;\n",
       "    margin-left: 4px;\n",
       "    line-height: 19px;\n",
       "  }\n",
       "</style>\n",
       "<div class=\"ansiout\"></div>"
      ]
     },
     "metadata": {
      "application/vnd.databricks.v1+output": {
       "addedWidgets": {},
       "arguments": {},
       "data": "<div class=\"ansiout\"></div>",
       "datasetInfos": [],
       "metadata": {},
       "removedWidgets": [],
       "type": "html"
      }
     },
     "output_type": "display_data"
    },
    {
     "data": {
      "text/html": [
       "<style scoped>\n",
       "  .ansiout {\n",
       "    display: block;\n",
       "    unicode-bidi: embed;\n",
       "    white-space: pre-wrap;\n",
       "    word-wrap: break-word;\n",
       "    word-break: break-all;\n",
       "    font-family: \"Source Code Pro\", \"Menlo\", monospace;;\n",
       "    font-size: 13px;\n",
       "    color: #555;\n",
       "    margin-left: 4px;\n",
       "    line-height: 19px;\n",
       "  }\n",
       "</style>\n",
       "<div class=\"ansiout\"></div>"
      ]
     },
     "metadata": {
      "application/vnd.databricks.v1+output": {
       "addedWidgets": {},
       "arguments": {},
       "data": "<div class=\"ansiout\"></div>",
       "datasetInfos": [],
       "metadata": {},
       "removedWidgets": [],
       "type": "html"
      }
     },
     "output_type": "display_data"
    },
    {
     "data": {
      "text/html": [
       "<style scoped>\n",
       "  .ansiout {\n",
       "    display: block;\n",
       "    unicode-bidi: embed;\n",
       "    white-space: pre-wrap;\n",
       "    word-wrap: break-word;\n",
       "    word-break: break-all;\n",
       "    font-family: \"Source Code Pro\", \"Menlo\", monospace;;\n",
       "    font-size: 13px;\n",
       "    color: #555;\n",
       "    margin-left: 4px;\n",
       "    line-height: 19px;\n",
       "  }\n",
       "</style>\n",
       "<div class=\"ansiout\"></div>"
      ]
     },
     "metadata": {
      "application/vnd.databricks.v1+output": {
       "addedWidgets": {},
       "arguments": {},
       "data": "<div class=\"ansiout\"></div>",
       "datasetInfos": [],
       "metadata": {},
       "removedWidgets": [],
       "type": "html"
      }
     },
     "output_type": "display_data"
    },
    {
     "data": {
      "text/html": [
       "<style scoped>\n",
       "  .ansiout {\n",
       "    display: block;\n",
       "    unicode-bidi: embed;\n",
       "    white-space: pre-wrap;\n",
       "    word-wrap: break-word;\n",
       "    word-break: break-all;\n",
       "    font-family: \"Source Code Pro\", \"Menlo\", monospace;;\n",
       "    font-size: 13px;\n",
       "    color: #555;\n",
       "    margin-left: 4px;\n",
       "    line-height: 19px;\n",
       "  }\n",
       "</style>\n",
       "<div class=\"ansiout\"></div>"
      ]
     },
     "metadata": {
      "application/vnd.databricks.v1+output": {
       "addedWidgets": {},
       "arguments": {},
       "data": "<div class=\"ansiout\"></div>",
       "datasetInfos": [],
       "metadata": {},
       "removedWidgets": [],
       "type": "html"
      }
     },
     "output_type": "display_data"
    },
    {
     "data": {
      "text/html": [
       "<style scoped>\n",
       "  .ansiout {\n",
       "    display: block;\n",
       "    unicode-bidi: embed;\n",
       "    white-space: pre-wrap;\n",
       "    word-wrap: break-word;\n",
       "    word-break: break-all;\n",
       "    font-family: \"Source Code Pro\", \"Menlo\", monospace;;\n",
       "    font-size: 13px;\n",
       "    color: #555;\n",
       "    margin-left: 4px;\n",
       "    line-height: 19px;\n",
       "  }\n",
       "</style>\n",
       "<div class=\"ansiout\"></div>"
      ]
     },
     "metadata": {
      "application/vnd.databricks.v1+output": {
       "addedWidgets": {},
       "arguments": {},
       "data": "<div class=\"ansiout\"></div>",
       "datasetInfos": [],
       "metadata": {},
       "removedWidgets": [],
       "type": "html"
      }
     },
     "output_type": "display_data"
    },
    {
     "data": {
      "text/html": [
       "<style scoped>\n",
       "  .ansiout {\n",
       "    display: block;\n",
       "    unicode-bidi: embed;\n",
       "    white-space: pre-wrap;\n",
       "    word-wrap: break-word;\n",
       "    word-break: break-all;\n",
       "    font-family: \"Source Code Pro\", \"Menlo\", monospace;;\n",
       "    font-size: 13px;\n",
       "    color: #555;\n",
       "    margin-left: 4px;\n",
       "    line-height: 19px;\n",
       "  }\n",
       "</style>\n",
       "<div class=\"ansiout\"></div>"
      ]
     },
     "metadata": {
      "application/vnd.databricks.v1+output": {
       "addedWidgets": {},
       "arguments": {},
       "data": "<div class=\"ansiout\"></div>",
       "datasetInfos": [],
       "metadata": {},
       "removedWidgets": [],
       "type": "html"
      }
     },
     "output_type": "display_data"
    },
    {
     "data": {
      "text/html": [
       "<style scoped>\n",
       "  .ansiout {\n",
       "    display: block;\n",
       "    unicode-bidi: embed;\n",
       "    white-space: pre-wrap;\n",
       "    word-wrap: break-word;\n",
       "    word-break: break-all;\n",
       "    font-family: \"Source Code Pro\", \"Menlo\", monospace;;\n",
       "    font-size: 13px;\n",
       "    color: #555;\n",
       "    margin-left: 4px;\n",
       "    line-height: 19px;\n",
       "  }\n",
       "</style>\n",
       "<div class=\"ansiout\"></div>"
      ]
     },
     "metadata": {
      "application/vnd.databricks.v1+output": {
       "addedWidgets": {},
       "arguments": {},
       "data": "<div class=\"ansiout\"></div>",
       "datasetInfos": [],
       "metadata": {},
       "removedWidgets": [],
       "type": "html"
      }
     },
     "output_type": "display_data"
    },
    {
     "data": {
      "text/html": [
       "<style scoped>\n",
       "  .ansiout {\n",
       "    display: block;\n",
       "    unicode-bidi: embed;\n",
       "    white-space: pre-wrap;\n",
       "    word-wrap: break-word;\n",
       "    word-break: break-all;\n",
       "    font-family: \"Source Code Pro\", \"Menlo\", monospace;;\n",
       "    font-size: 13px;\n",
       "    color: #555;\n",
       "    margin-left: 4px;\n",
       "    line-height: 19px;\n",
       "  }\n",
       "</style>\n",
       "<div class=\"ansiout\"></div>"
      ]
     },
     "metadata": {
      "application/vnd.databricks.v1+output": {
       "addedWidgets": {},
       "arguments": {},
       "data": "<div class=\"ansiout\"></div>",
       "datasetInfos": [],
       "metadata": {},
       "removedWidgets": [],
       "type": "html"
      }
     },
     "output_type": "display_data"
    },
    {
     "data": {
      "text/html": [
       "<style scoped>\n",
       "  .ansiout {\n",
       "    display: block;\n",
       "    unicode-bidi: embed;\n",
       "    white-space: pre-wrap;\n",
       "    word-wrap: break-word;\n",
       "    word-break: break-all;\n",
       "    font-family: \"Source Code Pro\", \"Menlo\", monospace;;\n",
       "    font-size: 13px;\n",
       "    color: #555;\n",
       "    margin-left: 4px;\n",
       "    line-height: 19px;\n",
       "  }\n",
       "</style>\n",
       "<div class=\"ansiout\"></div>"
      ]
     },
     "metadata": {
      "application/vnd.databricks.v1+output": {
       "addedWidgets": {},
       "arguments": {},
       "data": "<div class=\"ansiout\"></div>",
       "datasetInfos": [],
       "metadata": {},
       "removedWidgets": [],
       "type": "html"
      }
     },
     "output_type": "display_data"
    }
   ],
   "source": [
    "%run ./CommonUtilitiesNoteBook"
   ]
  },
  {
   "cell_type": "code",
   "execution_count": 0,
   "metadata": {
    "application/vnd.databricks.v1+cell": {
     "inputWidgets": {},
     "nuid": "3d6d3b56-451e-4922-8a1e-8cf91f6f87dd",
     "showTitle": true,
     "title": "Include the helper notebook functions"
    }
   },
   "outputs": [
    {
     "data": {
      "text/html": [
       "<style scoped>\n",
       "  .ansiout {\n",
       "    display: block;\n",
       "    unicode-bidi: embed;\n",
       "    white-space: pre-wrap;\n",
       "    word-wrap: break-word;\n",
       "    word-break: break-all;\n",
       "    font-family: \"Source Code Pro\", \"Menlo\", monospace;;\n",
       "    font-size: 13px;\n",
       "    color: #555;\n",
       "    margin-left: 4px;\n",
       "    line-height: 19px;\n",
       "  }\n",
       "</style>\n",
       "<div class=\"ansiout\"></div>"
      ]
     },
     "metadata": {
      "application/vnd.databricks.v1+output": {
       "addedWidgets": {},
       "arguments": {},
       "data": "<div class=\"ansiout\"></div>",
       "datasetInfos": [],
       "metadata": {},
       "removedWidgets": [],
       "type": "html"
      }
     },
     "output_type": "display_data"
    },
    {
     "data": {
      "text/html": [
       "<style scoped>\n",
       "  .ansiout {\n",
       "    display: block;\n",
       "    unicode-bidi: embed;\n",
       "    white-space: pre-wrap;\n",
       "    word-wrap: break-word;\n",
       "    word-break: break-all;\n",
       "    font-family: \"Source Code Pro\", \"Menlo\", monospace;;\n",
       "    font-size: 13px;\n",
       "    color: #555;\n",
       "    margin-left: 4px;\n",
       "    line-height: 19px;\n",
       "  }\n",
       "</style>\n",
       "<div class=\"ansiout\"></div>"
      ]
     },
     "metadata": {
      "application/vnd.databricks.v1+output": {
       "addedWidgets": {},
       "arguments": {},
       "data": "<div class=\"ansiout\"></div>",
       "datasetInfos": [],
       "metadata": {},
       "removedWidgets": [],
       "type": "html"
      }
     },
     "output_type": "display_data"
    },
    {
     "data": {
      "text/html": [
       "<style scoped>\n",
       "  .ansiout {\n",
       "    display: block;\n",
       "    unicode-bidi: embed;\n",
       "    white-space: pre-wrap;\n",
       "    word-wrap: break-word;\n",
       "    word-break: break-all;\n",
       "    font-family: \"Source Code Pro\", \"Menlo\", monospace;;\n",
       "    font-size: 13px;\n",
       "    color: #555;\n",
       "    margin-left: 4px;\n",
       "    line-height: 19px;\n",
       "  }\n",
       "</style>\n",
       "<div class=\"ansiout\"></div>"
      ]
     },
     "metadata": {
      "application/vnd.databricks.v1+output": {
       "addedWidgets": {},
       "arguments": {},
       "data": "<div class=\"ansiout\"></div>",
       "datasetInfos": [],
       "metadata": {},
       "removedWidgets": [],
       "type": "html"
      }
     },
     "output_type": "display_data"
    },
    {
     "data": {
      "text/html": [
       "<style scoped>\n",
       "  .ansiout {\n",
       "    display: block;\n",
       "    unicode-bidi: embed;\n",
       "    white-space: pre-wrap;\n",
       "    word-wrap: break-word;\n",
       "    word-break: break-all;\n",
       "    font-family: \"Source Code Pro\", \"Menlo\", monospace;;\n",
       "    font-size: 13px;\n",
       "    color: #555;\n",
       "    margin-left: 4px;\n",
       "    line-height: 19px;\n",
       "  }\n",
       "</style>\n",
       "<div class=\"ansiout\"></div>"
      ]
     },
     "metadata": {
      "application/vnd.databricks.v1+output": {
       "addedWidgets": {},
       "arguments": {},
       "data": "<div class=\"ansiout\"></div>",
       "datasetInfos": [],
       "metadata": {},
       "removedWidgets": [],
       "type": "html"
      }
     },
     "output_type": "display_data"
    },
    {
     "data": {
      "text/html": [
       "<style scoped>\n",
       "  .ansiout {\n",
       "    display: block;\n",
       "    unicode-bidi: embed;\n",
       "    white-space: pre-wrap;\n",
       "    word-wrap: break-word;\n",
       "    word-break: break-all;\n",
       "    font-family: \"Source Code Pro\", \"Menlo\", monospace;;\n",
       "    font-size: 13px;\n",
       "    color: #555;\n",
       "    margin-left: 4px;\n",
       "    line-height: 19px;\n",
       "  }\n",
       "</style>\n",
       "<div class=\"ansiout\"></div>"
      ]
     },
     "metadata": {
      "application/vnd.databricks.v1+output": {
       "addedWidgets": {},
       "arguments": {},
       "data": "<div class=\"ansiout\"></div>",
       "datasetInfos": [],
       "metadata": {},
       "removedWidgets": [],
       "type": "html"
      }
     },
     "output_type": "display_data"
    },
    {
     "data": {
      "text/html": [
       "<style scoped>\n",
       "  .ansiout {\n",
       "    display: block;\n",
       "    unicode-bidi: embed;\n",
       "    white-space: pre-wrap;\n",
       "    word-wrap: break-word;\n",
       "    word-break: break-all;\n",
       "    font-family: \"Source Code Pro\", \"Menlo\", monospace;;\n",
       "    font-size: 13px;\n",
       "    color: #555;\n",
       "    margin-left: 4px;\n",
       "    line-height: 19px;\n",
       "  }\n",
       "</style>\n",
       "<div class=\"ansiout\"></div>"
      ]
     },
     "metadata": {
      "application/vnd.databricks.v1+output": {
       "addedWidgets": {},
       "arguments": {},
       "data": "<div class=\"ansiout\"></div>",
       "datasetInfos": [],
       "metadata": {},
       "removedWidgets": [],
       "type": "html"
      }
     },
     "output_type": "display_data"
    },
    {
     "data": {
      "text/html": [
       "<style scoped>\n",
       "  .ansiout {\n",
       "    display: block;\n",
       "    unicode-bidi: embed;\n",
       "    white-space: pre-wrap;\n",
       "    word-wrap: break-word;\n",
       "    word-break: break-all;\n",
       "    font-family: \"Source Code Pro\", \"Menlo\", monospace;;\n",
       "    font-size: 13px;\n",
       "    color: #555;\n",
       "    margin-left: 4px;\n",
       "    line-height: 19px;\n",
       "  }\n",
       "</style>\n",
       "<div class=\"ansiout\"></div>"
      ]
     },
     "metadata": {
      "application/vnd.databricks.v1+output": {
       "addedWidgets": {},
       "arguments": {},
       "data": "<div class=\"ansiout\"></div>",
       "datasetInfos": [],
       "metadata": {},
       "removedWidgets": [],
       "type": "html"
      }
     },
     "output_type": "display_data"
    },
    {
     "data": {
      "text/html": [
       "<style scoped>\n",
       "  .ansiout {\n",
       "    display: block;\n",
       "    unicode-bidi: embed;\n",
       "    white-space: pre-wrap;\n",
       "    word-wrap: break-word;\n",
       "    word-break: break-all;\n",
       "    font-family: \"Source Code Pro\", \"Menlo\", monospace;;\n",
       "    font-size: 13px;\n",
       "    color: #555;\n",
       "    margin-left: 4px;\n",
       "    line-height: 19px;\n",
       "  }\n",
       "</style>\n",
       "<div class=\"ansiout\"></div>"
      ]
     },
     "metadata": {
      "application/vnd.databricks.v1+output": {
       "addedWidgets": {},
       "arguments": {},
       "data": "<div class=\"ansiout\"></div>",
       "datasetInfos": [],
       "metadata": {},
       "removedWidgets": [],
       "type": "html"
      }
     },
     "output_type": "display_data"
    },
    {
     "data": {
      "text/html": [
       "<style scoped>\n",
       "  .ansiout {\n",
       "    display: block;\n",
       "    unicode-bidi: embed;\n",
       "    white-space: pre-wrap;\n",
       "    word-wrap: break-word;\n",
       "    word-break: break-all;\n",
       "    font-family: \"Source Code Pro\", \"Menlo\", monospace;;\n",
       "    font-size: 13px;\n",
       "    color: #555;\n",
       "    margin-left: 4px;\n",
       "    line-height: 19px;\n",
       "  }\n",
       "</style>\n",
       "<div class=\"ansiout\"></div>"
      ]
     },
     "metadata": {
      "application/vnd.databricks.v1+output": {
       "addedWidgets": {},
       "arguments": {},
       "data": "<div class=\"ansiout\"></div>",
       "datasetInfos": [],
       "metadata": {},
       "removedWidgets": [],
       "type": "html"
      }
     },
     "output_type": "display_data"
    },
    {
     "data": {
      "text/html": [
       "<style scoped>\n",
       "  .ansiout {\n",
       "    display: block;\n",
       "    unicode-bidi: embed;\n",
       "    white-space: pre-wrap;\n",
       "    word-wrap: break-word;\n",
       "    word-break: break-all;\n",
       "    font-family: \"Source Code Pro\", \"Menlo\", monospace;;\n",
       "    font-size: 13px;\n",
       "    color: #555;\n",
       "    margin-left: 4px;\n",
       "    line-height: 19px;\n",
       "  }\n",
       "</style>\n",
       "<div class=\"ansiout\"></div>"
      ]
     },
     "metadata": {
      "application/vnd.databricks.v1+output": {
       "addedWidgets": {},
       "arguments": {},
       "data": "<div class=\"ansiout\"></div>",
       "datasetInfos": [],
       "metadata": {},
       "removedWidgets": [],
       "type": "html"
      }
     },
     "output_type": "display_data"
    },
    {
     "data": {
      "text/html": [
       "<style scoped>\n",
       "  .ansiout {\n",
       "    display: block;\n",
       "    unicode-bidi: embed;\n",
       "    white-space: pre-wrap;\n",
       "    word-wrap: break-word;\n",
       "    word-break: break-all;\n",
       "    font-family: \"Source Code Pro\", \"Menlo\", monospace;;\n",
       "    font-size: 13px;\n",
       "    color: #555;\n",
       "    margin-left: 4px;\n",
       "    line-height: 19px;\n",
       "  }\n",
       "</style>\n",
       "<div class=\"ansiout\"></div>"
      ]
     },
     "metadata": {
      "application/vnd.databricks.v1+output": {
       "addedWidgets": {},
       "arguments": {},
       "data": "<div class=\"ansiout\"></div>",
       "datasetInfos": [],
       "metadata": {},
       "removedWidgets": [],
       "type": "html"
      }
     },
     "output_type": "display_data"
    },
    {
     "data": {
      "text/html": [
       "<style scoped>\n",
       "  .ansiout {\n",
       "    display: block;\n",
       "    unicode-bidi: embed;\n",
       "    white-space: pre-wrap;\n",
       "    word-wrap: break-word;\n",
       "    word-break: break-all;\n",
       "    font-family: \"Source Code Pro\", \"Menlo\", monospace;;\n",
       "    font-size: 13px;\n",
       "    color: #555;\n",
       "    margin-left: 4px;\n",
       "    line-height: 19px;\n",
       "  }\n",
       "</style>\n",
       "<div class=\"ansiout\"></div>"
      ]
     },
     "metadata": {
      "application/vnd.databricks.v1+output": {
       "addedWidgets": {},
       "arguments": {},
       "data": "<div class=\"ansiout\"></div>",
       "datasetInfos": [],
       "metadata": {},
       "removedWidgets": [],
       "type": "html"
      }
     },
     "output_type": "display_data"
    },
    {
     "data": {
      "text/html": [
       "<style scoped>\n",
       "  .ansiout {\n",
       "    display: block;\n",
       "    unicode-bidi: embed;\n",
       "    white-space: pre-wrap;\n",
       "    word-wrap: break-word;\n",
       "    word-break: break-all;\n",
       "    font-family: \"Source Code Pro\", \"Menlo\", monospace;;\n",
       "    font-size: 13px;\n",
       "    color: #555;\n",
       "    margin-left: 4px;\n",
       "    line-height: 19px;\n",
       "  }\n",
       "</style>\n",
       "<div class=\"ansiout\"></div>"
      ]
     },
     "metadata": {
      "application/vnd.databricks.v1+output": {
       "addedWidgets": {},
       "arguments": {},
       "data": "<div class=\"ansiout\"></div>",
       "datasetInfos": [],
       "metadata": {},
       "removedWidgets": [],
       "type": "html"
      }
     },
     "output_type": "display_data"
    },
    {
     "data": {
      "text/html": [
       "<style scoped>\n",
       "  .ansiout {\n",
       "    display: block;\n",
       "    unicode-bidi: embed;\n",
       "    white-space: pre-wrap;\n",
       "    word-wrap: break-word;\n",
       "    word-break: break-all;\n",
       "    font-family: \"Source Code Pro\", \"Menlo\", monospace;;\n",
       "    font-size: 13px;\n",
       "    color: #555;\n",
       "    margin-left: 4px;\n",
       "    line-height: 19px;\n",
       "  }\n",
       "</style>\n",
       "<div class=\"ansiout\"></div>"
      ]
     },
     "metadata": {
      "application/vnd.databricks.v1+output": {
       "addedWidgets": {},
       "arguments": {},
       "data": "<div class=\"ansiout\"></div>",
       "datasetInfos": [],
       "metadata": {},
       "removedWidgets": [],
       "type": "html"
      }
     },
     "output_type": "display_data"
    },
    {
     "data": {
      "text/html": [
       "<style scoped>\n",
       "  .ansiout {\n",
       "    display: block;\n",
       "    unicode-bidi: embed;\n",
       "    white-space: pre-wrap;\n",
       "    word-wrap: break-word;\n",
       "    word-break: break-all;\n",
       "    font-family: \"Source Code Pro\", \"Menlo\", monospace;;\n",
       "    font-size: 13px;\n",
       "    color: #555;\n",
       "    margin-left: 4px;\n",
       "    line-height: 19px;\n",
       "  }\n",
       "</style>\n",
       "<div class=\"ansiout\"></div>"
      ]
     },
     "metadata": {
      "application/vnd.databricks.v1+output": {
       "addedWidgets": {},
       "arguments": {},
       "data": "<div class=\"ansiout\"></div>",
       "datasetInfos": [],
       "metadata": {},
       "removedWidgets": [],
       "type": "html"
      }
     },
     "output_type": "display_data"
    },
    {
     "data": {
      "text/html": [
       "<style scoped>\n",
       "  .ansiout {\n",
       "    display: block;\n",
       "    unicode-bidi: embed;\n",
       "    white-space: pre-wrap;\n",
       "    word-wrap: break-word;\n",
       "    word-break: break-all;\n",
       "    font-family: \"Source Code Pro\", \"Menlo\", monospace;;\n",
       "    font-size: 13px;\n",
       "    color: #555;\n",
       "    margin-left: 4px;\n",
       "    line-height: 19px;\n",
       "  }\n",
       "</style>\n",
       "<div class=\"ansiout\"></div>"
      ]
     },
     "metadata": {
      "application/vnd.databricks.v1+output": {
       "addedWidgets": {},
       "arguments": {},
       "data": "<div class=\"ansiout\"></div>",
       "datasetInfos": [],
       "metadata": {},
       "removedWidgets": [],
       "type": "html"
      }
     },
     "output_type": "display_data"
    },
    {
     "data": {
      "text/html": [
       "<style scoped>\n",
       "  .ansiout {\n",
       "    display: block;\n",
       "    unicode-bidi: embed;\n",
       "    white-space: pre-wrap;\n",
       "    word-wrap: break-word;\n",
       "    word-break: break-all;\n",
       "    font-family: \"Source Code Pro\", \"Menlo\", monospace;;\n",
       "    font-size: 13px;\n",
       "    color: #555;\n",
       "    margin-left: 4px;\n",
       "    line-height: 19px;\n",
       "  }\n",
       "</style>\n",
       "<div class=\"ansiout\"></div>"
      ]
     },
     "metadata": {
      "application/vnd.databricks.v1+output": {
       "addedWidgets": {},
       "arguments": {},
       "data": "<div class=\"ansiout\"></div>",
       "datasetInfos": [],
       "metadata": {},
       "removedWidgets": [],
       "type": "html"
      }
     },
     "output_type": "display_data"
    },
    {
     "data": {
      "text/html": [
       "<style scoped>\n",
       "  .ansiout {\n",
       "    display: block;\n",
       "    unicode-bidi: embed;\n",
       "    white-space: pre-wrap;\n",
       "    word-wrap: break-word;\n",
       "    word-break: break-all;\n",
       "    font-family: \"Source Code Pro\", \"Menlo\", monospace;;\n",
       "    font-size: 13px;\n",
       "    color: #555;\n",
       "    margin-left: 4px;\n",
       "    line-height: 19px;\n",
       "  }\n",
       "</style>\n",
       "<div class=\"ansiout\"></div>"
      ]
     },
     "metadata": {
      "application/vnd.databricks.v1+output": {
       "addedWidgets": {},
       "arguments": {},
       "data": "<div class=\"ansiout\"></div>",
       "datasetInfos": [],
       "metadata": {},
       "removedWidgets": [],
       "type": "html"
      }
     },
     "output_type": "display_data"
    }
   ],
   "source": [
    "%run ./helpers"
   ]
  },
  {
   "cell_type": "code",
   "execution_count": 1,
   "metadata": {
    "application/vnd.databricks.v1+cell": {
     "inputWidgets": {},
     "nuid": "ba124548-e196-4aff-ab2d-08b15447b882",
     "showTitle": true,
     "title": "Imports required for the Job run"
    }
   },
   "outputs": [
    {
     "ename": "ModuleNotFoundError",
     "evalue": "No module named 'pyspark'",
     "output_type": "error",
     "traceback": [
      "\u001b[1;31m---------------------------------------------------------------------------\u001b[0m",
      "\u001b[1;31mModuleNotFoundError\u001b[0m                       Traceback (most recent call last)",
      "Input \u001b[1;32mIn [1]\u001b[0m, in \u001b[0;36m<cell line: 1>\u001b[1;34m()\u001b[0m\n\u001b[1;32m----> 1\u001b[0m \u001b[38;5;28;01mfrom\u001b[39;00m \u001b[38;5;21;01mpyspark\u001b[39;00m\u001b[38;5;21;01m.\u001b[39;00m\u001b[38;5;21;01msql\u001b[39;00m\u001b[38;5;21;01m.\u001b[39;00m\u001b[38;5;21;01mdataframe\u001b[39;00m \u001b[38;5;28;01mimport\u001b[39;00m DataFrame\n\u001b[0;32m      2\u001b[0m \u001b[38;5;28;01mfrom\u001b[39;00m \u001b[38;5;21;01mpyspark\u001b[39;00m\u001b[38;5;21;01m.\u001b[39;00m\u001b[38;5;21;01msql\u001b[39;00m\u001b[38;5;21;01m.\u001b[39;00m\u001b[38;5;21;01mfunctions\u001b[39;00m \u001b[38;5;28;01mimport\u001b[39;00m col, lit, sha2, when, create_map, regexp_replace\n\u001b[0;32m      3\u001b[0m \u001b[38;5;28;01mfrom\u001b[39;00m \u001b[38;5;21;01mpyspark\u001b[39;00m\u001b[38;5;21;01m.\u001b[39;00m\u001b[38;5;21;01msql\u001b[39;00m\u001b[38;5;21;01m.\u001b[39;00m\u001b[38;5;21;01mtypes\u001b[39;00m \u001b[38;5;28;01mimport\u001b[39;00m TimestampType\n",
      "\u001b[1;31mModuleNotFoundError\u001b[0m: No module named 'pyspark'"
     ]
    }
   ],
   "source": [
    "from pyspark.sql.dataframe import DataFrame\n",
    "from pyspark.sql.functions import col, lit, sha2, when, create_map, regexp_replace\n",
    "from pyspark.sql.types import TimestampType\n",
    "from itertools import chain\n",
    "from typing import List\n",
    "from datetime import datetime\n",
    "import extract_msg\n",
    "import fitz\n",
    "import re\n",
    "import spacy\n",
    "from PIL import Image\n",
    "from presidio_image_redactor import ImageRedactorEngine#, ImageAnalyzerEngine\n",
    "from spacy import displacy"
   ]
  },
  {
   "cell_type": "code",
   "execution_count": 0,
   "metadata": {
    "application/vnd.databricks.v1+cell": {
     "inputWidgets": {},
     "nuid": "3f42ea83-a5cc-4358-875a-2b8da49d8c17",
     "showTitle": true,
     "title": "Get the metadata type "
    }
   },
   "outputs": [
    {
     "data": {
      "text/html": [
       "<style scoped>\n",
       "  .ansiout {\n",
       "    display: block;\n",
       "    unicode-bidi: embed;\n",
       "    white-space: pre-wrap;\n",
       "    word-wrap: break-word;\n",
       "    word-break: break-all;\n",
       "    font-family: \"Source Code Pro\", \"Menlo\", monospace;;\n",
       "    font-size: 13px;\n",
       "    color: #555;\n",
       "    margin-left: 4px;\n",
       "    line-height: 19px;\n",
       "  }\n",
       "</style>\n",
       "<div class=\"ansiout\">storage_account_name:  [REDACTED]\n",
       "[REDACTED]\n",
       "</div>"
      ]
     },
     "metadata": {
      "application/vnd.databricks.v1+output": {
       "addedWidgets": {},
       "arguments": {},
       "data": "<div class=\"ansiout\">storage_account_name:  [REDACTED]\n[REDACTED]\n</div>",
       "datasetInfos": [],
       "metadata": {},
       "removedWidgets": [],
       "type": "html"
      }
     },
     "output_type": "display_data"
    }
   ],
   "source": [
    "## get the metadata db type from the key vault and based on the value of the metadata db type form the connection url appropriately\n",
    "\n",
    "metadataDBType = dbutils.secrets.get(scope=\"key-vault\",key=\"idp-metadata-db-type\")\n",
    "metadataURL = ''\n",
    "tmpDir = ''\n",
    "if (metadataDBType == 'synapse'):\n",
    "    metadataURL = getMetadataDBURLForSynapse()\n",
    "    tmpDir = getTempDirforMetadata()\n",
    "\n",
    "#print(metadataURL)\n",
    "#print(tmpDir)"
   ]
  },
  {
   "cell_type": "code",
   "execution_count": 0,
   "metadata": {
    "application/vnd.databricks.v1+cell": {
     "inputWidgets": {},
     "nuid": "ab7ede7f-8055-499b-ae78-027d43de2317",
     "showTitle": false,
     "title": ""
    }
   },
   "outputs": [
    {
     "data": {
      "text/html": [
       "<style scoped>\n",
       "  .ansiout {\n",
       "    display: block;\n",
       "    unicode-bidi: embed;\n",
       "    white-space: pre-wrap;\n",
       "    word-wrap: break-word;\n",
       "    word-break: break-all;\n",
       "    font-family: \"Source Code Pro\", \"Menlo\", monospace;;\n",
       "    font-size: 13px;\n",
       "    color: #555;\n",
       "    margin-left: 4px;\n",
       "    line-height: 19px;\n",
       "  }\n",
       "</style>\n",
       "<div class=\"ansiout\">storage_account_name:  [REDACTED]\n",
       "[REDACTED]\n",
       "select src.SRC_ID,src.SRC_NAME, src.SRC_TYPE,src.SRC_FORMAT from idpportalschema.SOURCE_TARGET_CONFIG_MASTER src where src.SRC_ID=92 and src.ENABLE_FLAG=1\n",
       "select props.Property_key,props.Property_value from idpportalschema.SOURCE_TARGET_CONFIG_PROPERTIES props where props.SRC_ID=92\n",
       "[92, &#39;Confidential_Info_With_Attachments.msg&#39;, &#39;StorageAccountFile&#39;, &#39;msg&#39;]\n",
       "[{&#39;Property_key&#39;: &#39;FileName&#39;, &#39;Property_value&#39;: &#39;Confidential_Info_With_Attachments.msg&#39;}, {&#39;Property_key&#39;: &#39;FilePath&#39;, &#39;Property_value&#39;: &#39;scan-redact&#39;}, {&#39;Property_key&#39;: &#39;StorageAccountName&#39;, &#39;Property_value&#39;: &#39;[REDACTED]&#39;}, {&#39;Property_key&#39;: &#39;ContainerName&#39;, &#39;Property_value&#39;: &#39;sourceimage-demo&#39;}]\n",
       "</div>"
      ]
     },
     "metadata": {
      "application/vnd.databricks.v1+output": {
       "addedWidgets": {},
       "arguments": {},
       "data": "<div class=\"ansiout\">storage_account_name:  [REDACTED]\n[REDACTED]\nselect src.SRC_ID,src.SRC_NAME, src.SRC_TYPE,src.SRC_FORMAT from idpportalschema.SOURCE_TARGET_CONFIG_MASTER src where src.SRC_ID=92 and src.ENABLE_FLAG=1\nselect props.Property_key,props.Property_value from idpportalschema.SOURCE_TARGET_CONFIG_PROPERTIES props where props.SRC_ID=92\n[92, &#39;Confidential_Info_With_Attachments.msg&#39;, &#39;StorageAccountFile&#39;, &#39;msg&#39;]\n[{&#39;Property_key&#39;: &#39;FileName&#39;, &#39;Property_value&#39;: &#39;Confidential_Info_With_Attachments.msg&#39;}, {&#39;Property_key&#39;: &#39;FilePath&#39;, &#39;Property_value&#39;: &#39;scan-redact&#39;}, {&#39;Property_key&#39;: &#39;StorageAccountName&#39;, &#39;Property_value&#39;: &#39;[REDACTED]&#39;}, {&#39;Property_key&#39;: &#39;ContainerName&#39;, &#39;Property_value&#39;: &#39;sourceimage-demo&#39;}]\n</div>",
       "datasetInfos": [],
       "metadata": {},
       "removedWidgets": [],
       "type": "html"
      }
     },
     "output_type": "display_data"
    }
   ],
   "source": [
    "srcDetails, srcProperties = retrieveSourceDetails(srcID)\n",
    "print(srcDetails)\n",
    "print(srcProperties)\n",
    "srcStorageAccount = None\n",
    "srcContainerName = None\n",
    "srcFilePath =  None\n",
    "srcFileName =None\n",
    "\n",
    "for srcProperty in srcProperties:\n",
    "    proeprtyName = srcProperty['Property_key']\n",
    "    if('StorageAccountName' == proeprtyName):\n",
    "        srcStorageAccount = srcProperty['Property_value']\n",
    "    elif('ContainerName' == proeprtyName):\n",
    "        srcContainerName = srcProperty['Property_value']\n",
    "    elif ('FilePath' == proeprtyName):\n",
    "        srcFilePath = srcProperty['Property_value']\n",
    "    elif('FileName' == proeprtyName):\n",
    "        srcFileName = srcProperty['Property_value']\n",
    "    "
   ]
  },
  {
   "cell_type": "code",
   "execution_count": 0,
   "metadata": {
    "application/vnd.databricks.v1+cell": {
     "inputWidgets": {},
     "nuid": "3f2a5afe-aa64-4a6c-b70e-da8e813a5604",
     "showTitle": false,
     "title": ""
    }
   },
   "outputs": [
    {
     "data": {
      "text/html": [
       "<style scoped>\n",
       "  .ansiout {\n",
       "    display: block;\n",
       "    unicode-bidi: embed;\n",
       "    white-space: pre-wrap;\n",
       "    word-wrap: break-word;\n",
       "    word-break: break-all;\n",
       "    font-family: \"Source Code Pro\", \"Menlo\", monospace;;\n",
       "    font-size: 13px;\n",
       "    color: #555;\n",
       "    margin-left: 4px;\n",
       "    line-height: 19px;\n",
       "  }\n",
       "</style>\n",
       "<div class=\"ansiout\">storage_account_name:  [REDACTED]\n",
       "[REDACTED]\n",
       "select src.SRC_ID,src.SRC_NAME, src.SRC_TYPE,src.SRC_FORMAT from idpportalschema.SOURCE_TARGET_CONFIG_MASTER src where src.SRC_ID=93 and src.ENABLE_FLAG=1\n",
       "select props.Property_key,props.Property_value from idpportalschema.SOURCE_TARGET_CONFIG_PROPERTIES props where props.SRC_ID=93\n",
       "[93, &#39;Redacted Email Attachments&#39;, &#39;StorageAccountFile&#39;, &#39;*&#39;]\n",
       "[{&#39;Property_key&#39;: &#39;StorageAccountName&#39;, &#39;Property_value&#39;: &#39;[REDACTED]&#39;}, {&#39;Property_key&#39;: &#39;ContainerName&#39;, &#39;Property_value&#39;: &#39;sourceimage-demo&#39;}, {&#39;Property_key&#39;: &#39;FilePath&#39;, &#39;Property_value&#39;: &#39;scan-redact/Target/&#39;}]\n",
       "</div>"
      ]
     },
     "metadata": {
      "application/vnd.databricks.v1+output": {
       "addedWidgets": {},
       "arguments": {},
       "data": "<div class=\"ansiout\">storage_account_name:  [REDACTED]\n[REDACTED]\nselect src.SRC_ID,src.SRC_NAME, src.SRC_TYPE,src.SRC_FORMAT from idpportalschema.SOURCE_TARGET_CONFIG_MASTER src where src.SRC_ID=93 and src.ENABLE_FLAG=1\nselect props.Property_key,props.Property_value from idpportalschema.SOURCE_TARGET_CONFIG_PROPERTIES props where props.SRC_ID=93\n[93, &#39;Redacted Email Attachments&#39;, &#39;StorageAccountFile&#39;, &#39;*&#39;]\n[{&#39;Property_key&#39;: &#39;StorageAccountName&#39;, &#39;Property_value&#39;: &#39;[REDACTED]&#39;}, {&#39;Property_key&#39;: &#39;ContainerName&#39;, &#39;Property_value&#39;: &#39;sourceimage-demo&#39;}, {&#39;Property_key&#39;: &#39;FilePath&#39;, &#39;Property_value&#39;: &#39;scan-redact/Target/&#39;}]\n</div>",
       "datasetInfos": [],
       "metadata": {},
       "removedWidgets": [],
       "type": "html"
      }
     },
     "output_type": "display_data"
    }
   ],
   "source": [
    "tgtDetails, tgtProperties = retrieveSourceDetails(trgtID)\n",
    "print(tgtDetails)\n",
    "print(tgtProperties)\n",
    "tgtStorageAccount = None\n",
    "tgtContainerName = None\n",
    "tgtFilePath =  None\n",
    "\n",
    "for tgtProperty in tgtProperties:\n",
    "    proeprtyName = tgtProperty['Property_key']\n",
    "    if('StorageAccountName' == proeprtyName):\n",
    "        tgtStorageAccount = tgtProperty['Property_value']\n",
    "    elif('ContainerName' == proeprtyName):\n",
    "        tgtContainerName = tgtProperty['Property_value']\n",
    "    elif ('FilePath' == proeprtyName):\n",
    "        tgtFilePath = tgtProperty['Property_value']\n",
    "   "
   ]
  },
  {
   "cell_type": "code",
   "execution_count": 0,
   "metadata": {
    "application/vnd.databricks.v1+cell": {
     "inputWidgets": {},
     "nuid": "c6867d47-0d57-4bb3-b770-6edf533dd2be",
     "showTitle": false,
     "title": ""
    }
   },
   "outputs": [
    {
     "data": {
      "text/html": [
       "<style scoped>\n",
       "  .ansiout {\n",
       "    display: block;\n",
       "    unicode-bidi: embed;\n",
       "    white-space: pre-wrap;\n",
       "    word-wrap: break-word;\n",
       "    word-break: break-all;\n",
       "    font-family: \"Source Code Pro\", \"Menlo\", monospace;;\n",
       "    font-size: 13px;\n",
       "    color: #555;\n",
       "    margin-left: 4px;\n",
       "    line-height: 19px;\n",
       "  }\n",
       "</style>\n",
       "<div class=\"ansiout\">CameHere=[REDACTED]\n",
       "</div>"
      ]
     },
     "metadata": {
      "application/vnd.databricks.v1+output": {
       "addedWidgets": {},
       "arguments": {},
       "data": "<div class=\"ansiout\">CameHere=[REDACTED]\n</div>",
       "datasetInfos": [],
       "metadata": {},
       "removedWidgets": [],
       "type": "html"
      }
     },
     "output_type": "display_data"
    }
   ],
   "source": [
    "srcFilePathComplete = f\"abfss://{srcContainerName}@{srcStorageAccount}.dfs.core.windows.net/{srcFilePath}/{srcFileName}\"\n",
    "tgtFilePathComplete = f\"abfss://{tgtContainerName}@{tgtStorageAccount}.dfs.core.windows.net/{tgtFilePath}/\"\n",
    "print(\"CameHere=\"+srcStorageAccount)\n",
    "srcMntPointPath = \"/mnt/scanAndRedactMnt\"\n",
    "tgtMntPointPath = \"/mnt/scanAndRedactMntTarget\"\n",
    "tgtFullPath = tgtMntPointPath+\"/\"+tgtFilePath\n",
    "tempPath = \"/dbfs\"+srcMntPointPath+\"/\"+srcFilePath+\"/Temp\"\n",
    "tempPathMntPoint = srcMntPointPath+\"/\"+srcFilePath+\"/Temp\"\n",
    "tempProcessingPath= srcMntPointPath+\"/\"+srcFilePath+\"/Temp/Processing\"\n",
    "totalCount = 0\n",
    "processedCount = 0"
   ]
  },
  {
   "cell_type": "code",
   "execution_count": 0,
   "metadata": {
    "application/vnd.databricks.v1+cell": {
     "inputWidgets": {},
     "nuid": "d68efee7-b458-4527-982b-1d3d0c8155ee",
     "showTitle": false,
     "title": ""
    }
   },
   "outputs": [
    {
     "data": {
      "text/html": [
       "<style scoped>\n",
       "  .ansiout {\n",
       "    display: block;\n",
       "    unicode-bidi: embed;\n",
       "    white-space: pre-wrap;\n",
       "    word-wrap: break-word;\n",
       "    word-break: break-all;\n",
       "    font-family: \"Source Code Pro\", \"Menlo\", monospace;;\n",
       "    font-size: 13px;\n",
       "    color: #555;\n",
       "    margin-left: 4px;\n",
       "    line-height: 19px;\n",
       "  }\n",
       "</style>\n",
       "<div class=\"ansiout\"></div>"
      ]
     },
     "metadata": {
      "application/vnd.databricks.v1+output": {
       "addedWidgets": {},
       "arguments": {},
       "data": "<div class=\"ansiout\"></div>",
       "datasetInfos": [],
       "metadata": {},
       "removedWidgets": [],
       "type": "html"
      }
     },
     "output_type": "display_data"
    }
   ],
   "source": [
    "mountPoints = dbutils.fs.mounts()\n",
    "mpnames = [x.mountPoint for x in mountPoints]"
   ]
  },
  {
   "cell_type": "code",
   "execution_count": 0,
   "metadata": {
    "application/vnd.databricks.v1+cell": {
     "inputWidgets": {},
     "nuid": "5811e8a6-2096-4f16-8d8d-873a9ff07890",
     "showTitle": false,
     "title": ""
    }
   },
   "outputs": [
    {
     "data": {
      "text/html": [
       "<style scoped>\n",
       "  .ansiout {\n",
       "    display: block;\n",
       "    unicode-bidi: embed;\n",
       "    white-space: pre-wrap;\n",
       "    word-wrap: break-word;\n",
       "    word-break: break-all;\n",
       "    font-family: \"Source Code Pro\", \"Menlo\", monospace;;\n",
       "    font-size: 13px;\n",
       "    color: #555;\n",
       "    margin-left: 4px;\n",
       "    line-height: 19px;\n",
       "  }\n",
       "</style>\n",
       "<div class=\"ansiout\"></div>"
      ]
     },
     "metadata": {
      "application/vnd.databricks.v1+output": {
       "addedWidgets": {},
       "arguments": {},
       "data": "<div class=\"ansiout\"></div>",
       "datasetInfos": [],
       "metadata": {},
       "removedWidgets": [],
       "type": "html"
      }
     },
     "output_type": "display_data"
    }
   ],
   "source": [
    "storageKey = dbutils.secrets.get(scope = \"key-vault\", key = \"icdp-storage-key\")\n",
    "if srcMntPointPath not in mpnames:\n",
    "    dbutils.fs.mount(\n",
    "     source = \"wasbs://{0}@{1}.blob.core.windows.net\".format(srcContainerName, srcStorageAccount),\n",
    "     mount_point = srcMntPointPath,\n",
    "     extra_configs = {\"fs.azure.account.key.{0}.blob.core.windows.net\".format(srcStorageAccount): storageKey}\n",
    "    )\n",
    "\n",
    "if tgtMntPointPath not in mpnames:\n",
    "    dbutils.fs.mount(\n",
    "     source = \"wasbs://{0}@{1}.blob.core.windows.net\".format(tgtContainerName, tgtStorageAccount),\n",
    "     mount_point = tgtMntPointPath,\n",
    "     extra_configs = {\"fs.azure.account.key.{0}.blob.core.windows.net\".format(tgtStorageAccount): storageKey}\n",
    "    )\n"
   ]
  },
  {
   "cell_type": "code",
   "execution_count": 0,
   "metadata": {
    "application/vnd.databricks.v1+cell": {
     "inputWidgets": {},
     "nuid": "8f3c7bc5-9956-4f89-a7d1-2b4f84a9cfe1",
     "showTitle": false,
     "title": ""
    }
   },
   "outputs": [
    {
     "data": {
      "text/html": [
       "<style scoped>\n",
       "  .ansiout {\n",
       "    display: block;\n",
       "    unicode-bidi: embed;\n",
       "    white-space: pre-wrap;\n",
       "    word-wrap: break-word;\n",
       "    word-break: break-all;\n",
       "    font-family: \"Source Code Pro\", \"Menlo\", monospace;;\n",
       "    font-size: 13px;\n",
       "    color: #555;\n",
       "    margin-left: 4px;\n",
       "    line-height: 19px;\n",
       "  }\n",
       "</style>\n",
       "<div class=\"ansiout\">Out[75]: True</div>"
      ]
     },
     "metadata": {
      "application/vnd.databricks.v1+output": {
       "addedWidgets": {},
       "arguments": {},
       "data": "<div class=\"ansiout\">Out[75]: True</div>",
       "datasetInfos": [],
       "metadata": {},
       "removedWidgets": [],
       "type": "html"
      }
     },
     "output_type": "display_data"
    }
   ],
   "source": [
    "dbutils.fs.mkdirs(tempPathMntPoint)\n",
    "dbutils.fs.mkdirs(tempProcessingPath)"
   ]
  },
  {
   "cell_type": "code",
   "execution_count": 0,
   "metadata": {
    "application/vnd.databricks.v1+cell": {
     "inputWidgets": {},
     "nuid": "cb154ac3-6756-47d6-8062-68e7d344ad02",
     "showTitle": false,
     "title": ""
    }
   },
   "outputs": [
    {
     "data": {
      "text/html": [
       "<style scoped>\n",
       "  .ansiout {\n",
       "    display: block;\n",
       "    unicode-bidi: embed;\n",
       "    white-space: pre-wrap;\n",
       "    word-wrap: break-word;\n",
       "    word-break: break-all;\n",
       "    font-family: \"Source Code Pro\", \"Menlo\", monospace;;\n",
       "    font-size: 13px;\n",
       "    color: #555;\n",
       "    margin-left: 4px;\n",
       "    line-height: 19px;\n",
       "  }\n",
       "</style>\n",
       "<div class=\"ansiout\">Body: Hi Ram,\r\n",
       "\r\n",
       " \r\n",
       "\r\n",
       "This is my pan number ACBRJ9174D. My phone number 9876503857. \r\n",
       "\r\n",
       "My email id is Ramyadeep.dey@gds.ey.com &lt;mailto:Ramyadeep.dey@gds.ey.com&gt; .\r\n",
       "\r\n",
       "My father Rocky Jackson is insured by the General Insurance Policy. \r\n",
       "\r\n",
       "I am from India. I am a Consultant.\r\n",
       "\r\n",
       " \r\n",
       "\r\n",
       "Thanks &amp; Regards,\r\n",
       "\r\n",
       "Ramyadeep Dey\r\n",
       "\r\n",
       "Consultant\r\n",
       "\r\n",
       " \r\n",
       "\r\n",
       "\n",
       "Wrote 334 bytes.\n",
       "Out[76]: True</div>"
      ]
     },
     "metadata": {
      "application/vnd.databricks.v1+output": {
       "addedWidgets": {},
       "arguments": {},
       "data": "<div class=\"ansiout\">Body: Hi Ram,\r\n\r\n \r\n\r\nThis is my pan number ACBRJ9174D. My phone number 9876503857. \r\n\r\nMy email id is Ramyadeep.dey@gds.ey.com &lt;mailto:Ramyadeep.dey@gds.ey.com&gt; .\r\n\r\nMy father Rocky Jackson is insured by the General Insurance Policy. \r\n\r\nI am from India. I am a Consultant.\r\n\r\n \r\n\r\nThanks &amp; Regards,\r\n\r\nRamyadeep Dey\r\n\r\nConsultant\r\n\r\n \r\n\r\n\nWrote 334 bytes.\nOut[76]: True</div>",
       "datasetInfos": [],
       "metadata": {},
       "removedWidgets": [],
       "type": "html"
      }
     },
     "output_type": "display_data"
    }
   ],
   "source": [
    "dbutils.fs.cp(srcMntPointPath+\"/\"+srcFilePath+\"/\"+srcFileName,\"/dbfs\"+srcMntPointPath+\"/\"+srcFilePath+\"/\")\n",
    "msg = extract_msg.Message(\"/dbfs\"+srcMntPointPath+\"/\"+srcFilePath+\"/\"+srcFileName)\n",
    "msg_sender = msg.sender\n",
    "msg_date = msg.date\n",
    "msg_subj = msg.subject\n",
    "msg_message = msg.body\n",
    "# print('Sender: {}'.format(msg_sender))\n",
    "# print('Sent On: {}'.format(msg_date))\n",
    "# print('Subject: {}'.format(msg_subj))\n",
    "print('Body: {}'.format(msg_message))\n",
    "msg.saveAttachments(customPath=tempPath)\n",
    "dbutils.fs.put(tempPathMntPoint+'/mail_body.txt', msg_message)"
   ]
  },
  {
   "cell_type": "code",
   "execution_count": 0,
   "metadata": {
    "application/vnd.databricks.v1+cell": {
     "inputWidgets": {},
     "nuid": "2b738a21-83b0-4120-a29d-2f339e532497",
     "showTitle": false,
     "title": ""
    }
   },
   "outputs": [
    {
     "data": {
      "text/html": [
       "<style scoped>\n",
       "  .ansiout {\n",
       "    display: block;\n",
       "    unicode-bidi: embed;\n",
       "    white-space: pre-wrap;\n",
       "    word-wrap: break-word;\n",
       "    word-break: break-all;\n",
       "    font-family: \"Source Code Pro\", \"Menlo\", monospace;;\n",
       "    font-size: 13px;\n",
       "    color: #555;\n",
       "    margin-left: 4px;\n",
       "    line-height: 19px;\n",
       "  }\n",
       "</style>\n",
       "<div class=\"ansiout\">/mnt/scanAndRedactMnt/scan-redact/Temp\n",
       "Home_Insurance_Claim_Form.pdf\n",
       "Processing/\n",
       "mail_body.txt\n",
       "passport.png\n",
       "sample.txt\n",
       "</div>"
      ]
     },
     "metadata": {
      "application/vnd.databricks.v1+output": {
       "addedWidgets": {},
       "arguments": {},
       "data": "<div class=\"ansiout\">/mnt/scanAndRedactMnt/scan-redact/Temp\nHome_Insurance_Claim_Form.pdf\nProcessing/\nmail_body.txt\npassport.png\nsample.txt\n</div>",
       "datasetInfos": [],
       "metadata": {},
       "removedWidgets": [],
       "type": "html"
      }
     },
     "output_type": "display_data"
    }
   ],
   "source": [
    "#Add the respective functions for each file format\n",
    "print(tempPathMntPoint)\n",
    "fls = dbutils.fs.ls(tempPathMntPoint)\n",
    "for f in fls:\n",
    "    fn = f.name\n",
    "    print(fn)"
   ]
  },
  {
   "cell_type": "code",
   "execution_count": 0,
   "metadata": {
    "application/vnd.databricks.v1+cell": {
     "inputWidgets": {},
     "nuid": "376491b4-db8f-47f9-93bb-51d90046c041",
     "showTitle": false,
     "title": ""
    }
   },
   "outputs": [
    {
     "data": {
      "text/html": [
       "<style scoped>\n",
       "  .ansiout {\n",
       "    display: block;\n",
       "    unicode-bidi: embed;\n",
       "    white-space: pre-wrap;\n",
       "    word-wrap: break-word;\n",
       "    word-break: break-all;\n",
       "    font-family: \"Source Code Pro\", \"Menlo\", monospace;;\n",
       "    font-size: 13px;\n",
       "    color: #555;\n",
       "    margin-left: 4px;\n",
       "    line-height: 19px;\n",
       "  }\n",
       "</style>\n",
       "<div class=\"ansiout\">The file name is : Home_Insurance_Claim_Form.pdf\n",
       "select * from idpportalschema.CNFG_UNSTRUCTURED_MASKING_MSTR where src_id=92 and attachment_name=&#39;Home_Insurance_Claim_Form.pdf&#39; and enabled_flag=1\n",
       "Process the pdf file Home_Insurance_Claim_Form.pdf\n",
       "/dbfs/mnt/scanAndRedactMnt/scan-redact/Temp/\n",
       "Successfully redacted Home_Insurance_Claim_Form.pdf\n",
       "The file name is : Processing/\n",
       "Processing/ is not a file\n",
       "The file name is : mail_body.txt\n",
       "select * from idpportalschema.CNFG_UNSTRUCTURED_MASKING_MSTR where src_id=92 and attachment_name=&#39;mail_body.txt&#39; and enabled_flag=1\n",
       "Process the text file\n",
       "[FileInfo(path=&#39;dbfs:/mnt/scanAndRedactMnt/scan-redact/Confidential_Info_With_Attachments.msg&#39;, name=&#39;Confidential_Info_With_Attachments.msg&#39;, size=1158656, modificationTime=1662980904000), FileInfo(path=&#39;dbfs:/mnt/scanAndRedactMnt/scan-redact/Target&#39;, name=&#39;Target&#39;, size=732562, modificationTime=1662988038000), FileInfo(path=&#39;dbfs:/mnt/scanAndRedactMnt/scan-redact/Temp/&#39;, name=&#39;Temp/&#39;, size=0, modificationTime=0)]\n",
       "Folder Exists\n",
       "Successfully redacted mail_body.txt\n",
       "The file name is : passport.png\n",
       "select * from idpportalschema.CNFG_UNSTRUCTURED_MASKING_MSTR where src_id=92 and attachment_name=&#39;passport.png&#39; and enabled_flag=1\n",
       "Process the image file passport.png\n",
       "[FileInfo(path=&#39;dbfs:/mnt/scanAndRedactMnt/scan-redact/Confidential_Info_With_Attachments.msg&#39;, name=&#39;Confidential_Info_With_Attachments.msg&#39;, size=1158656, modificationTime=1662980904000), FileInfo(path=&#39;dbfs:/mnt/scanAndRedactMnt/scan-redact/Target&#39;, name=&#39;Target&#39;, size=312, modificationTime=1662988042000), FileInfo(path=&#39;dbfs:/mnt/scanAndRedactMnt/scan-redact/Temp/&#39;, name=&#39;Temp/&#39;, size=0, modificationTime=0)]\n",
       "Folder Exists\n",
       "Successfully redacted passport.png\n",
       "The file name is : sample.txt\n",
       "select * from idpportalschema.CNFG_UNSTRUCTURED_MASKING_MSTR where src_id=92 and attachment_name=&#39;sample.txt&#39; and enabled_flag=1\n",
       "Process the text file\n",
       "[FileInfo(path=&#39;dbfs:/mnt/scanAndRedactMnt/scan-redact/Confidential_Info_With_Attachments.msg&#39;, name=&#39;Confidential_Info_With_Attachments.msg&#39;, size=1158656, modificationTime=1662980904000), FileInfo(path=&#39;dbfs:/mnt/scanAndRedactMnt/scan-redact/Target&#39;, name=&#39;Target&#39;, size=358692, modificationTime=1662988050000), FileInfo(path=&#39;dbfs:/mnt/scanAndRedactMnt/scan-redact/Temp/&#39;, name=&#39;Temp/&#39;, size=0, modificationTime=0)]\n",
       "Folder Exists\n",
       "Successfully redacted sample.txt\n",
       "</div>"
      ]
     },
     "metadata": {
      "application/vnd.databricks.v1+output": {
       "addedWidgets": {},
       "arguments": {},
       "data": "<div class=\"ansiout\">The file name is : Home_Insurance_Claim_Form.pdf\nselect * from idpportalschema.CNFG_UNSTRUCTURED_MASKING_MSTR where src_id=92 and attachment_name=&#39;Home_Insurance_Claim_Form.pdf&#39; and enabled_flag=1\nProcess the pdf file Home_Insurance_Claim_Form.pdf\n/dbfs/mnt/scanAndRedactMnt/scan-redact/Temp/\nSuccessfully redacted Home_Insurance_Claim_Form.pdf\nThe file name is : Processing/\nProcessing/ is not a file\nThe file name is : mail_body.txt\nselect * from idpportalschema.CNFG_UNSTRUCTURED_MASKING_MSTR where src_id=92 and attachment_name=&#39;mail_body.txt&#39; and enabled_flag=1\nProcess the text file\n[FileInfo(path=&#39;dbfs:/mnt/scanAndRedactMnt/scan-redact/Confidential_Info_With_Attachments.msg&#39;, name=&#39;Confidential_Info_With_Attachments.msg&#39;, size=1158656, modificationTime=1662980904000), FileInfo(path=&#39;dbfs:/mnt/scanAndRedactMnt/scan-redact/Target&#39;, name=&#39;Target&#39;, size=732562, modificationTime=1662988038000), FileInfo(path=&#39;dbfs:/mnt/scanAndRedactMnt/scan-redact/Temp/&#39;, name=&#39;Temp/&#39;, size=0, modificationTime=0)]\nFolder Exists\nSuccessfully redacted mail_body.txt\nThe file name is : passport.png\nselect * from idpportalschema.CNFG_UNSTRUCTURED_MASKING_MSTR where src_id=92 and attachment_name=&#39;passport.png&#39; and enabled_flag=1\nProcess the image file passport.png\n[FileInfo(path=&#39;dbfs:/mnt/scanAndRedactMnt/scan-redact/Confidential_Info_With_Attachments.msg&#39;, name=&#39;Confidential_Info_With_Attachments.msg&#39;, size=1158656, modificationTime=1662980904000), FileInfo(path=&#39;dbfs:/mnt/scanAndRedactMnt/scan-redact/Target&#39;, name=&#39;Target&#39;, size=312, modificationTime=1662988042000), FileInfo(path=&#39;dbfs:/mnt/scanAndRedactMnt/scan-redact/Temp/&#39;, name=&#39;Temp/&#39;, size=0, modificationTime=0)]\nFolder Exists\nSuccessfully redacted passport.png\nThe file name is : sample.txt\nselect * from idpportalschema.CNFG_UNSTRUCTURED_MASKING_MSTR where src_id=92 and attachment_name=&#39;sample.txt&#39; and enabled_flag=1\nProcess the text file\n[FileInfo(path=&#39;dbfs:/mnt/scanAndRedactMnt/scan-redact/Confidential_Info_With_Attachments.msg&#39;, name=&#39;Confidential_Info_With_Attachments.msg&#39;, size=1158656, modificationTime=1662980904000), FileInfo(path=&#39;dbfs:/mnt/scanAndRedactMnt/scan-redact/Target&#39;, name=&#39;Target&#39;, size=358692, modificationTime=1662988050000), FileInfo(path=&#39;dbfs:/mnt/scanAndRedactMnt/scan-redact/Temp/&#39;, name=&#39;Temp/&#39;, size=0, modificationTime=0)]\nFolder Exists\nSuccessfully redacted sample.txt\n</div>",
       "datasetInfos": [],
       "metadata": {},
       "removedWidgets": [],
       "type": "html"
      }
     },
     "output_type": "display_data"
    }
   ],
   "source": [
    "\n",
    "if len(fls) == 0:\n",
    "    print('No files available to redact')\n",
    "    dbutils.notebook.exit('stop:Exit Condition')\n",
    "for f in fls:\n",
    "    fn = f.name\n",
    "    totalCount = totalCount +1\n",
    "    \n",
    "    print('The file name is : '+fn)\n",
    "    if f.isFile():\n",
    "        attachment_name = fn\n",
    "        if '.' not in fn:\n",
    "            print('File could not be determined.. Cannot be processed')\n",
    "            continue\n",
    "        entities = getEntitiesForAttachmentAndSource(srcID,attachment_name)\n",
    "        if len(entities) == 0:\n",
    "            print('No entities configured to redact')\n",
    "            continue\n",
    "        if fn.endswith('txt'):\n",
    "            print('Process the text file')\n",
    "            redactiontxt('/dbfs'+tempPathMntPoint+'/',fn,'/dbfs'+tempProcessingPath, entities)\n",
    "        elif fn.endswith('pdf'):\n",
    "            print('Process the pdf file '+fn)\n",
    "            redactionpdf(('/dbfs'+tempPathMntPoint+'/'),fn,'/dbfs'+tempProcessingPath, entities)\n",
    "        elif fn.endswith('jpeg') or fn.endswith('jpg') or fn.endswith('png'):\n",
    "            print('Process the image file '+fn)\n",
    "            redactionimage('/dbfs'+tempPathMntPoint+'/',fn,'/dbfs'+tempProcessingPath, entities)\n",
    "#         elif fn.endswith('doc'):\n",
    "#             print('Process the document file')\n",
    "#         elif fn.endswith('csv'):\n",
    "#             print('Process the csv file')\n",
    "#         elif fn.endswith('excel'):\n",
    "#             print('Process the excel file')\n",
    "#         elif fn.endswith('msg'):\n",
    "#             print('Process the mail')\n",
    "#         elif fn.endswith('zip'):\n",
    "#             print('Process the compressed file')\n",
    "#         else:\n",
    "#             print('File could not be determined')\n",
    "        dbutils.fs.rm(srcMntPointPath+\"/\"+srcFilePath+\"/Temp/\"+fn,True)\n",
    "        dbutils.fs.mv(srcMntPointPath+\"/\"+srcFilePath+\"/Temp/Processing/\"+fn,tgtMntPointPath+\"/\"+tgtFilePath+\"/\")\n",
    "        processedCount = processedCount +1\n",
    "    else:\n",
    "        print(fn + ' is not a file')\n"
   ]
  },
  {
   "cell_type": "code",
   "execution_count": 0,
   "metadata": {
    "application/vnd.databricks.v1+cell": {
     "inputWidgets": {},
     "nuid": "2ce14742-919a-4914-b594-2dd5e5662d18",
     "showTitle": false,
     "title": ""
    }
   },
   "outputs": [
    {
     "data": {
      "text/html": [
       "<style scoped>\n",
       "  .ansiout {\n",
       "    display: block;\n",
       "    unicode-bidi: embed;\n",
       "    white-space: pre-wrap;\n",
       "    word-wrap: break-word;\n",
       "    word-break: break-all;\n",
       "    font-family: \"Source Code Pro\", \"Menlo\", monospace;;\n",
       "    font-size: 13px;\n",
       "    color: #555;\n",
       "    margin-left: 4px;\n",
       "    line-height: 19px;\n",
       "  }\n",
       "</style>\n",
       "<div class=\"ansiout\">Out[80]: False</div>"
      ]
     },
     "metadata": {
      "application/vnd.databricks.v1+output": {
       "addedWidgets": {},
       "arguments": {},
       "data": "<div class=\"ansiout\">Out[80]: False</div>",
       "datasetInfos": [],
       "metadata": {},
       "removedWidgets": [],
       "type": "html"
      }
     },
     "output_type": "display_data"
    }
   ],
   "source": [
    "dbutils.fs.rm(tempPathMntPoint,True)\n",
    "dbutils.fs.rm(tempProcessingPath,True)\n",
    "dbutils.fs.rm(tempPath,True)"
   ]
  },
  {
   "cell_type": "code",
   "execution_count": 0,
   "metadata": {
    "application/vnd.databricks.v1+cell": {
     "inputWidgets": {},
     "nuid": "d02e483d-a902-47b4-a99f-9ca390c2ee10",
     "showTitle": false,
     "title": ""
    }
   },
   "outputs": [
    {
     "data": {
      "text/html": [
       "<style scoped>\n",
       "  .ansiout {\n",
       "    display: block;\n",
       "    unicode-bidi: embed;\n",
       "    white-space: pre-wrap;\n",
       "    word-wrap: break-word;\n",
       "    word-break: break-all;\n",
       "    font-family: \"Source Code Pro\", \"Menlo\", monospace;;\n",
       "    font-size: 13px;\n",
       "    color: #555;\n",
       "    margin-left: 4px;\n",
       "    line-height: 19px;\n",
       "  }\n",
       "</style>\n",
       "<div class=\"ansiout\">/mnt/scanAndRedactMnt has been unmounted.\n",
       "/mnt/scanAndRedactMntTarget has been unmounted.\n",
       "Out[81]: True</div>"
      ]
     },
     "metadata": {
      "application/vnd.databricks.v1+output": {
       "addedWidgets": {},
       "arguments": {},
       "data": "<div class=\"ansiout\">/mnt/scanAndRedactMnt has been unmounted.\n/mnt/scanAndRedactMntTarget has been unmounted.\nOut[81]: True</div>",
       "datasetInfos": [],
       "metadata": {},
       "removedWidgets": [],
       "type": "html"
      }
     },
     "output_type": "display_data"
    }
   ],
   "source": [
    "dbutils.fs.unmount(srcMntPointPath)\n",
    "dbutils.fs.unmount(tgtMntPointPath)"
   ]
  },
  {
   "cell_type": "code",
   "execution_count": 0,
   "metadata": {
    "application/vnd.databricks.v1+cell": {
     "inputWidgets": {},
     "nuid": "f225f7f4-7538-49dd-95ef-a271189b10e4",
     "showTitle": false,
     "title": ""
    }
   },
   "outputs": [
    {
     "data": {
      "text/html": [
       "<style scoped>\n",
       "  .ansiout {\n",
       "    display: block;\n",
       "    unicode-bidi: embed;\n",
       "    white-space: pre-wrap;\n",
       "    word-wrap: break-word;\n",
       "    word-break: break-all;\n",
       "    font-family: \"Source Code Pro\", \"Menlo\", monospace;;\n",
       "    font-size: 13px;\n",
       "    color: #555;\n",
       "    margin-left: 4px;\n",
       "    line-height: 19px;\n",
       "  }\n",
       "</style>\n",
       "<div class=\"ansiout\">11111\n",
       "EXEC idpportalschema.UpdateJobRunLogEntry 2526,5,4,&#39;&#39;\n",
       "&lt;pyodbc.Cursor object at 0x7fa6e43ecc30&gt;\n",
       "Out[82]: 2526</div>"
      ]
     },
     "metadata": {
      "application/vnd.databricks.v1+output": {
       "addedWidgets": {},
       "arguments": {},
       "data": "<div class=\"ansiout\">11111\nEXEC idpportalschema.UpdateJobRunLogEntry 2526,5,4,&#39;&#39;\n&lt;pyodbc.Cursor object at 0x7fa6e43ecc30&gt;\nOut[82]: 2526</div>",
       "datasetInfos": [],
       "metadata": {},
       "removedWidgets": [],
       "type": "html"
      }
     },
     "output_type": "display_data"
    }
   ],
   "source": [
    "UpdateJobRunLogDetails(runID,totalCount,processedCount,'')"
   ]
  },
  {
   "cell_type": "code",
   "execution_count": 0,
   "metadata": {
    "application/vnd.databricks.v1+cell": {
     "inputWidgets": {},
     "nuid": "05f592bd-8da9-42d0-8f8c-c3c8fd7a64a6",
     "showTitle": false,
     "title": ""
    }
   },
   "outputs": [
    {
     "data": {
      "text/html": [
       "<style scoped>\n",
       "  .ansiout {\n",
       "    display: block;\n",
       "    unicode-bidi: embed;\n",
       "    white-space: pre-wrap;\n",
       "    word-wrap: break-word;\n",
       "    word-break: break-all;\n",
       "    font-family: \"Source Code Pro\", \"Menlo\", monospace;;\n",
       "    font-size: 13px;\n",
       "    color: #555;\n",
       "    margin-left: 4px;\n",
       "    line-height: 19px;\n",
       "  }\n",
       "</style>\n",
       "<div class=\"ansiout\"></div>"
      ]
     },
     "metadata": {
      "application/vnd.databricks.v1+output": {
       "addedWidgets": {},
       "arguments": {},
       "data": "<div class=\"ansiout\"></div>",
       "datasetInfos": [],
       "metadata": {},
       "removedWidgets": [],
       "type": "html"
      }
     },
     "output_type": "display_data"
    }
   ],
   "source": [
    "# the entities for image\n",
    "# CREDIT_CARD\n",
    "# CRYPTO\t\n",
    "# DATE_TIME\n",
    "# DOMAIN_NAME\n",
    "# EMAIL_ADDRESS\n",
    "# IBAN_CODE\n",
    "# IP_ADDRESS\n",
    "# NRP\n",
    "# LOCATION\n",
    "# PERSON\n",
    "# PHONE_NUMBER\n",
    "# MEDICAL_LICENSE\n",
    "\n",
    "# the entities for Txt and PDF:-\n",
    "# ORG\n",
    "# ORDINAL\n",
    "# MONEY\n",
    "# PRODUCT\n",
    "# GPE\n",
    "# QUANTITY\n",
    "# CARDINAL\n",
    "# WORK_OF_ART\n",
    "# DATE\n",
    "# EMAIL\n",
    "# PERSON\n",
    "# FAC"
   ]
  },
  {
   "cell_type": "code",
   "execution_count": null,
   "metadata": {},
   "outputs": [],
   "source": []
  }
 ],
 "metadata": {
  "application/vnd.databricks.v1+notebook": {
   "dashboards": [],
   "language": "python",
   "notebookMetadata": {
    "pythonIndentUnit": 4
   },
   "notebookName": "Data Redaction Emails Notebook",
   "notebookOrigID": 4073713027000019,
   "widgets": {
    "JobID": {
     "currentValue": "20",
     "nuid": "4d3979be-3c72-4a7c-b81a-530e3cec4d42",
     "widgetInfo": {
      "defaultValue": "1",
      "label": null,
      "name": "JobID",
      "options": {
       "validationRegex": null,
       "widgetType": "text"
      },
      "widgetType": "text"
     }
    },
    "JobRunID": {
     "currentValue": "2526",
     "nuid": "cce6596e-a3ef-4113-a8fd-b047d60251eb",
     "widgetInfo": {
      "defaultValue": "1",
      "label": null,
      "name": "JobRunID",
      "options": {
       "validationRegex": null,
       "widgetType": "text"
      },
      "widgetType": "text"
     }
    },
    "SourceID": {
     "currentValue": "92",
     "nuid": "55e16cef-ff4c-499c-96d7-2880162fa30b",
     "widgetInfo": {
      "defaultValue": "1",
      "label": null,
      "name": "SourceID",
      "options": {
       "validationRegex": null,
       "widgetType": "text"
      },
      "widgetType": "text"
     }
    },
    "TargetID": {
     "currentValue": "93",
     "nuid": "b9879140-90dd-424b-abf8-c9606b7e73c9",
     "widgetInfo": {
      "defaultValue": "1",
      "label": null,
      "name": "TargetID",
      "options": {
       "validationRegex": null,
       "widgetType": "text"
      },
      "widgetType": "text"
     }
    }
   }
  },
  "kernelspec": {
   "display_name": "Python 3 (ipykernel)",
   "language": "python",
   "name": "python3"
  },
  "language_info": {
   "codemirror_mode": {
    "name": "ipython",
    "version": 3
   },
   "file_extension": ".py",
   "mimetype": "text/x-python",
   "name": "python",
   "nbconvert_exporter": "python",
   "pygments_lexer": "ipython3",
   "version": "3.9.12"
  }
 },
 "nbformat": 4,
 "nbformat_minor": 1
}
