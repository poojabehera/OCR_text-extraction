{
 "cells": [
  {
   "cell_type": "code",
   "execution_count": 4,
   "id": "ba3cc5fb",
   "metadata": {},
   "outputs": [],
   "source": [
    "import pandas as pd\n",
    "from parsel import selector\n",
    "from time import sleep"
   ]
  },
  {
   "cell_type": "code",
   "execution_count": 5,
   "id": "0f839313",
   "metadata": {},
   "outputs": [],
   "source": [
    "from selenium import webdriver\n",
    "from selenium.webdriver.common.by import By\n",
    "from selenium.webdriver.support.ui import WebDriverWait\n",
    "from selenium.webdriver.support import expected_conditions as EC\n",
    "from selenium.webdriver.chrome.options import Options\n",
    "from selenium.webdriver.common.keys import Keys\n",
    "opts= Options()"
   ]
  },
  {
   "cell_type": "code",
   "execution_count": 6,
   "id": "6855a499",
   "metadata": {},
   "outputs": [
    {
     "name": "stderr",
     "output_type": "stream",
     "text": [
      "C:\\Users\\LZ575NE\\AppData\\Local\\Temp\\ipykernel_23632\\3422521308.py:2: DeprecationWarning: executable_path has been deprecated, please pass in a Service object\n",
      "  driver= webdriver.Chrome(\"C://Users//LZ575NE//.cache//selenium//chromedriver//win32//110.0.5481.77\")\n"
     ]
    },
    {
     "ename": "AttributeError",
     "evalue": "'Service' object has no attribute 'process'",
     "output_type": "error",
     "traceback": [
      "\u001b[1;31m---------------------------------------------------------------------------\u001b[0m",
      "\u001b[1;31mAttributeError\u001b[0m                            Traceback (most recent call last)",
      "Input \u001b[1;32mIn [6]\u001b[0m, in \u001b[0;36m<cell line: 2>\u001b[1;34m()\u001b[0m\n\u001b[0;32m      1\u001b[0m \u001b[38;5;66;03m#driver= webdriver.Chrome(options= opts, executable_path= \"C:\\Users\\LZ575NE\\.cache\\selenium\\chromedriver\\win32\\110.0.5481.77\")\u001b[39;00m\n\u001b[1;32m----> 2\u001b[0m driver\u001b[38;5;241m=\u001b[39m \u001b[43mwebdriver\u001b[49m\u001b[38;5;241;43m.\u001b[39;49m\u001b[43mChrome\u001b[49m\u001b[43m(\u001b[49m\u001b[38;5;124;43m\"\u001b[39;49m\u001b[38;5;124;43mC://Users//LZ575NE//.cache//selenium//chromedriver//win32//110.0.5481.77\u001b[39;49m\u001b[38;5;124;43m\"\u001b[39;49m\u001b[43m)\u001b[49m\n",
      "File \u001b[1;32m~\\Anaconda3\\lib\\site-packages\\selenium\\webdriver\\chrome\\webdriver.py:80\u001b[0m, in \u001b[0;36mWebDriver.__init__\u001b[1;34m(self, executable_path, port, options, service_args, desired_capabilities, service_log_path, chrome_options, service, keep_alive)\u001b[0m\n\u001b[0;32m     77\u001b[0m \u001b[38;5;28;01mif\u001b[39;00m \u001b[38;5;129;01mnot\u001b[39;00m service:\n\u001b[0;32m     78\u001b[0m     service \u001b[38;5;241m=\u001b[39m Service(executable_path, port, service_args, service_log_path)\n\u001b[1;32m---> 80\u001b[0m \u001b[38;5;28;43msuper\u001b[39;49m\u001b[43m(\u001b[49m\u001b[43m)\u001b[49m\u001b[38;5;241;43m.\u001b[39;49m\u001b[38;5;21;43m__init__\u001b[39;49m\u001b[43m(\u001b[49m\n\u001b[0;32m     81\u001b[0m \u001b[43m    \u001b[49m\u001b[43mDesiredCapabilities\u001b[49m\u001b[38;5;241;43m.\u001b[39;49m\u001b[43mCHROME\u001b[49m\u001b[43m[\u001b[49m\u001b[38;5;124;43m\"\u001b[39;49m\u001b[38;5;124;43mbrowserName\u001b[39;49m\u001b[38;5;124;43m\"\u001b[39;49m\u001b[43m]\u001b[49m\u001b[43m,\u001b[49m\n\u001b[0;32m     82\u001b[0m \u001b[43m    \u001b[49m\u001b[38;5;124;43m\"\u001b[39;49m\u001b[38;5;124;43mgoog\u001b[39;49m\u001b[38;5;124;43m\"\u001b[39;49m\u001b[43m,\u001b[49m\n\u001b[0;32m     83\u001b[0m \u001b[43m    \u001b[49m\u001b[43mport\u001b[49m\u001b[43m,\u001b[49m\n\u001b[0;32m     84\u001b[0m \u001b[43m    \u001b[49m\u001b[43moptions\u001b[49m\u001b[43m,\u001b[49m\n\u001b[0;32m     85\u001b[0m \u001b[43m    \u001b[49m\u001b[43mservice_args\u001b[49m\u001b[43m,\u001b[49m\n\u001b[0;32m     86\u001b[0m \u001b[43m    \u001b[49m\u001b[43mdesired_capabilities\u001b[49m\u001b[43m,\u001b[49m\n\u001b[0;32m     87\u001b[0m \u001b[43m    \u001b[49m\u001b[43mservice_log_path\u001b[49m\u001b[43m,\u001b[49m\n\u001b[0;32m     88\u001b[0m \u001b[43m    \u001b[49m\u001b[43mservice\u001b[49m\u001b[43m,\u001b[49m\n\u001b[0;32m     89\u001b[0m \u001b[43m    \u001b[49m\u001b[43mkeep_alive\u001b[49m\u001b[43m,\u001b[49m\n\u001b[0;32m     90\u001b[0m \u001b[43m\u001b[49m\u001b[43m)\u001b[49m\n",
      "File \u001b[1;32m~\\Anaconda3\\lib\\site-packages\\selenium\\webdriver\\chromium\\webdriver.py:101\u001b[0m, in \u001b[0;36mChromiumDriver.__init__\u001b[1;34m(self, browser_name, vendor_prefix, port, options, service_args, desired_capabilities, service_log_path, service, keep_alive)\u001b[0m\n\u001b[0;32m     98\u001b[0m     \u001b[38;5;28;01mraise\u001b[39;00m \u001b[38;5;167;01mAttributeError\u001b[39;00m(\u001b[38;5;124m\"\u001b[39m\u001b[38;5;124mservice cannot be None\u001b[39m\u001b[38;5;124m\"\u001b[39m)\n\u001b[0;32m    100\u001b[0m \u001b[38;5;28mself\u001b[39m\u001b[38;5;241m.\u001b[39mservice \u001b[38;5;241m=\u001b[39m service\n\u001b[1;32m--> 101\u001b[0m \u001b[38;5;28;43mself\u001b[39;49m\u001b[38;5;241;43m.\u001b[39;49m\u001b[43mservice\u001b[49m\u001b[38;5;241;43m.\u001b[39;49m\u001b[43mstart\u001b[49m\u001b[43m(\u001b[49m\u001b[43m)\u001b[49m\n\u001b[0;32m    103\u001b[0m \u001b[38;5;28;01mtry\u001b[39;00m:\n\u001b[0;32m    104\u001b[0m     \u001b[38;5;28msuper\u001b[39m()\u001b[38;5;241m.\u001b[39m\u001b[38;5;21m__init__\u001b[39m(\n\u001b[0;32m    105\u001b[0m         command_executor\u001b[38;5;241m=\u001b[39mChromiumRemoteConnection(\n\u001b[0;32m    106\u001b[0m             remote_server_addr\u001b[38;5;241m=\u001b[39m\u001b[38;5;28mself\u001b[39m\u001b[38;5;241m.\u001b[39mservice\u001b[38;5;241m.\u001b[39mservice_url,\n\u001b[1;32m   (...)\u001b[0m\n\u001b[0;32m    112\u001b[0m         options\u001b[38;5;241m=\u001b[39moptions,\n\u001b[0;32m    113\u001b[0m     )\n",
      "File \u001b[1;32m~\\Anaconda3\\lib\\site-packages\\selenium\\webdriver\\common\\service.py:104\u001b[0m, in \u001b[0;36mService.start\u001b[1;34m(self)\u001b[0m\n\u001b[0;32m    102\u001b[0m count \u001b[38;5;241m=\u001b[39m \u001b[38;5;241m0\u001b[39m\n\u001b[0;32m    103\u001b[0m \u001b[38;5;28;01mwhile\u001b[39;00m \u001b[38;5;28;01mTrue\u001b[39;00m:\n\u001b[1;32m--> 104\u001b[0m     \u001b[38;5;28;43mself\u001b[39;49m\u001b[38;5;241;43m.\u001b[39;49m\u001b[43massert_process_still_running\u001b[49m\u001b[43m(\u001b[49m\u001b[43m)\u001b[49m\n\u001b[0;32m    105\u001b[0m     \u001b[38;5;28;01mif\u001b[39;00m \u001b[38;5;28mself\u001b[39m\u001b[38;5;241m.\u001b[39mis_connectable():\n\u001b[0;32m    106\u001b[0m         \u001b[38;5;28;01mbreak\u001b[39;00m\n",
      "File \u001b[1;32m~\\Anaconda3\\lib\\site-packages\\selenium\\webdriver\\common\\service.py:115\u001b[0m, in \u001b[0;36mService.assert_process_still_running\u001b[1;34m(self)\u001b[0m\n\u001b[0;32m    113\u001b[0m \u001b[38;5;28;01mdef\u001b[39;00m \u001b[38;5;21massert_process_still_running\u001b[39m(\u001b[38;5;28mself\u001b[39m) \u001b[38;5;241m-\u001b[39m\u001b[38;5;241m>\u001b[39m \u001b[38;5;28;01mNone\u001b[39;00m:\n\u001b[0;32m    114\u001b[0m     \u001b[38;5;124;03m\"\"\"Check if the underlying process is still running.\"\"\"\u001b[39;00m\n\u001b[1;32m--> 115\u001b[0m     return_code \u001b[38;5;241m=\u001b[39m \u001b[38;5;28;43mself\u001b[39;49m\u001b[38;5;241;43m.\u001b[39;49m\u001b[43mprocess\u001b[49m\u001b[38;5;241m.\u001b[39mpoll()\n\u001b[0;32m    116\u001b[0m     \u001b[38;5;28;01mif\u001b[39;00m return_code:\n\u001b[0;32m    117\u001b[0m         \u001b[38;5;28;01mraise\u001b[39;00m WebDriverException(\u001b[38;5;124mf\u001b[39m\u001b[38;5;124m\"\u001b[39m\u001b[38;5;124mService \u001b[39m\u001b[38;5;132;01m{\u001b[39;00m\u001b[38;5;28mself\u001b[39m\u001b[38;5;241m.\u001b[39mpath\u001b[38;5;132;01m}\u001b[39;00m\u001b[38;5;124m unexpectedly exited. Status code was: \u001b[39m\u001b[38;5;132;01m{\u001b[39;00mreturn_code\u001b[38;5;132;01m}\u001b[39;00m\u001b[38;5;124m\"\u001b[39m)\n",
      "\u001b[1;31mAttributeError\u001b[0m: 'Service' object has no attribute 'process'"
     ]
    }
   ],
   "source": [
    "#driver= webdriver.Chrome(options= opts, executable_path= \"C:\\Users\\LZ575NE\\.cache\\selenium\\chromedriver\\win32\\110.0.5481.77\")\n",
    "driver= webdriver.Chrome(\"C://Users//LZ575NE//.cache//selenium//chromedriver//win32//110.0.5481.77\")"
   ]
  },
  {
   "cell_type": "code",
   "execution_count": 7,
   "id": "b2cb039c",
   "metadata": {},
   "outputs": [],
   "source": [
    "## functions to ensure all key data have values\n",
    "def validate_field(field):\n",
    "    ## if field is present pass if field\n",
    "    if field:\n",
    "        pass\n",
    "    ## if filed not present pass else \n",
    "    else:\n",
    "        field= \"No Result\"\n",
    "        return field\n",
    "        "
   ]
  },
  {
   "cell_type": "code",
   "execution_count": 8,
   "id": "bd3248c9",
   "metadata": {},
   "outputs": [
    {
     "ename": "NameError",
     "evalue": "name 'driver' is not defined",
     "output_type": "error",
     "traceback": [
      "\u001b[1;31m---------------------------------------------------------------------------\u001b[0m",
      "\u001b[1;31mNameError\u001b[0m                                 Traceback (most recent call last)",
      "Input \u001b[1;32mIn [8]\u001b[0m, in \u001b[0;36m<cell line: 2>\u001b[1;34m()\u001b[0m\n\u001b[0;32m      1\u001b[0m \u001b[38;5;66;03m## driver.get() to navigate to a page given by URL address\u001b[39;00m\n\u001b[1;32m----> 2\u001b[0m \u001b[43mdriver\u001b[49m\u001b[38;5;241m.\u001b[39mget(\u001b[38;5;124m\"\u001b[39m\u001b[38;5;124mhttps://www.linkedin.com\u001b[39m\u001b[38;5;124m\"\u001b[39m)\n\u001b[0;32m      4\u001b[0m \u001b[38;5;66;03m## locate email form by_class_name\u001b[39;00m\n\u001b[0;32m      5\u001b[0m username \u001b[38;5;241m=\u001b[39m driver\u001b[38;5;241m.\u001b[39mfind_element(By\u001b[38;5;241m.\u001b[39mID, \u001b[38;5;124m'\u001b[39m\u001b[38;5;124mseesion_key\u001b[39m\u001b[38;5;124m'\u001b[39m)\n",
      "\u001b[1;31mNameError\u001b[0m: name 'driver' is not defined"
     ]
    }
   ],
   "source": [
    "## driver.get() to navigate to a page given by URL address\n",
    "driver.get(\"https://www.linkedin.com\")\n",
    "\n",
    "## locate email form by_class_name\n",
    "username = driver.find_element(By.ID, 'seesion_key')\n",
    "\n",
    "## send_keys() to stimulate key strokes\n",
    "username.send_keys('Your_Email')\n",
    "\n",
    "## sleep for 5 sec\n",
    "sleep(0.5)\n",
    "\n",
    "## locate password form by_class_name\n",
    "password= driver.find_element(By.ID, 'session_password')\n",
    "password.send_keys('Your_password')\n",
    "sleep(0.5)\n",
    "\n",
    "## locate submit button by_xpath\n",
    "sign_in_button= driver.find_element(By.XPATH, '//*[@type= \"submit\"]')\n",
    "\n",
    "## .click to mimic button click\n",
    "sign_in_button.click()\n",
    "sleep(15)\n"
   ]
  },
  {
   "cell_type": "code",
   "execution_count": null,
   "id": "3a6d248e",
   "metadata": {},
   "outputs": [],
   "source": [
    "## finding link for specific user\n",
    "Jobdata= []\n",
    "lnks= []\n",
    "\n",
    "for x in range(0, 20, 10):\n",
    "    driver.get('https://www.linkedin.com/search/results/people/?keywords=A.%09John%20Clayton%20Taylor&origin=SWITCH_SEARCH_VERTICAL&sid=20')\n",
    "    time.sleep(random.uniform(2.5, 4.9))\n",
    "    linkdin_urls= [my_elem.get_attribute('href') for my_elem in WebDriverWait(driver, 20).until(EC.visibility_of_all_elements_located(By.XPATH, \"//div[@class='yuRUbf']\"))]\n",
    "    lnks.append(linkdin_urls)\n",
    "    \n",
    "    \n",
    "for x in lnks:\n",
    "    for i in x:\n",
    "        ## get the profile url\n",
    "        driver.get(i)\n",
    "        time.sleep(random.uniform(2.5, 4.9))\n",
    "        \n",
    "        ## asigning the source code for the web page to variable sel\n",
    "        sel= selector(text=driver.page_source)\n",
    "        \n",
    "        ## xpath to xtract text from class containing name\n",
    "        name= sel.xpath('//*[starts-with(@class,\"text-heading-xlarge inline t-24 v-align-middle break-words\")]/text()').extract\n",
    "        \n",
    "        ## if name exisist\n",
    "        if name:\n",
    "            ## .strip will remove the new line /n and white spaces\n",
    "            name= name.strip()\n",
    "            \n",
    "        ## to extract teh text form the class contaning job title\n",
    "        job_title= sel.xpath('//*[starts-with(@class,\"text-body-medium break-words\")]/text()').extract_first()\n",
    "            \n",
    "        if job_title:\n",
    "            job_title= job_title.strip()\n",
    "            \n",
    "        try:\n",
    "            ## to extract teh text form the class contaning company\n",
    "            \n",
    "            company= driver.find_element(By.XPATH, '//ul[@class=\"pv-text-details__right-panel\"]').text\n",
    "        \n",
    "        except:\n",
    "            \n",
    "            company= 'None'\n",
    "            \n",
    "        if company:\n",
    "            company= company.strip()\n",
    "            \n",
    "          ## to extract the text form the class contaning location\n",
    "        \n",
    "        location= sel.xpath('//*[starts-with(@class,\"class=\"text-body-small inline t-black--light break-words\")]/text()').extract\n",
    "        \n",
    "        if location:\n",
    "            location= location.strip()\n",
    "            \n",
    "            \n",
    "        ## validating if the fields exists on the profile\n",
    "        \n",
    "        name= validate_field(name)\n",
    "        job_title= validate_field(job_title)\n",
    "        company= validate_field(company)\n",
    "        location= validate_field(location)\n",
    "        linkdin_url= validate_field(linkdin_url)\n",
    "        \n",
    "        \n",
    "        ## printing the output\n",
    "        print('\\n')\n",
    "        print('name:' +name)\n",
    "        print('job_title:' +job_title)\n",
    "        print('company:' +company)\n",
    "        print('location:' +location)\n",
    "        print('linkdin_url:' +linkdin_url)\n",
    "        print('\\n')\n",
    "        \n",
    "        \n",
    "        data= {\n",
    "                \"Name\": name,\n",
    "                \"Role\": job_title,\n",
    "                \"Company\": company,\n",
    "                \"Location\": location,\n",
    "                \"Url\": linkdin_url\n",
    "            }\n",
    "        jobdata.append(data)\n",
    "\n",
    "df= pd.DataFrame(jobdata)\n",
    "df.to_excel(\"profiledata_linkidn.xlsx\")\n",
    "\n",
    "## Application termination\n",
    "driver.quit()\n",
    "    "
   ]
  },
  {
   "cell_type": "code",
   "execution_count": null,
   "id": "76551da0",
   "metadata": {},
   "outputs": [],
   "source": [
    "print(jobdata)"
   ]
  }
 ],
 "metadata": {
  "kernelspec": {
   "display_name": "Python 3 (ipykernel)",
   "language": "python",
   "name": "python3"
  },
  "language_info": {
   "codemirror_mode": {
    "name": "ipython",
    "version": 3
   },
   "file_extension": ".py",
   "mimetype": "text/x-python",
   "name": "python",
   "nbconvert_exporter": "python",
   "pygments_lexer": "ipython3",
   "version": "3.9.12"
  }
 },
 "nbformat": 4,
 "nbformat_minor": 5
}
