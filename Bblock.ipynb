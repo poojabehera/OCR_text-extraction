{
 "cells": [
  {
   "cell_type": "code",
   "execution_count": 3,
   "id": "8e59a08e",
   "metadata": {},
   "outputs": [],
   "source": [
    "import cv2"
   ]
  },
  {
   "cell_type": "code",
   "execution_count": 4,
   "id": "5107ea72",
   "metadata": {},
   "outputs": [],
   "source": [
    "path= ('C:\\\\Users\\\\LZ575NE\\\\OneDrive - EY\\\\Desktop\\\\project\\\\paddle_shifter_data_with_odometer\\\\images\\\\1C3CDFFA7GD816425_14.jpg')"
   ]
  },
  {
   "cell_type": "code",
   "execution_count": 5,
   "id": "f549c384",
   "metadata": {},
   "outputs": [],
   "source": [
    "image =cv2.imread(\"C:\\\\Users\\\\LZ575NE\\\\OneDrive - EY\\\\Desktop\\\\project\\\\paddle_shifter_data_with_odometer\\\\images\\\\1C3CDFFA7GD816425_14.jpg\")"
   ]
  },
  {
   "cell_type": "code",
   "execution_count": 6,
   "id": "db6bb977",
   "metadata": {},
   "outputs": [],
   "source": [
    "img1= cv2.imread(path)"
   ]
  },
  {
   "cell_type": "code",
   "execution_count": 7,
   "id": "dbc8515d",
   "metadata": {},
   "outputs": [
    {
     "data": {
      "text/plain": [
       "True"
      ]
     },
     "execution_count": 7,
     "metadata": {},
     "output_type": "execute_result"
    }
   ],
   "source": [
    "# Window name in which image is displayed\n",
    "window_name= 'img1'\n",
    "cv2.imwrite(\"img1.jpg\", image) "
   ]
  },
  {
   "cell_type": "code",
   "execution_count": 8,
   "id": "63621e14",
   "metadata": {},
   "outputs": [],
   "source": [
    "# Displaying the image\n",
    "cv2.imshow(window_name, img1)"
   ]
  },
  {
   "cell_type": "code",
   "execution_count": 62,
   "id": "8020b2eb",
   "metadata": {},
   "outputs": [],
   "source": [
    "# represents the top left corner of rectangle\n",
    "start_point = (50 , 50)"
   ]
  },
  {
   "cell_type": "code",
   "execution_count": 63,
   "id": "11ddd98f",
   "metadata": {},
   "outputs": [],
   "source": [
    "# Ending coordinate, here (220, 220)\n",
    "# represents the bottom right corner of rectangle\n",
    "end_point = (220, 220)"
   ]
  },
  {
   "cell_type": "code",
   "execution_count": 64,
   "id": "49b22a31",
   "metadata": {},
   "outputs": [],
   "source": [
    "# Blue color in BGR\n",
    "color = (255, 0, 0)"
   ]
  },
  {
   "cell_type": "code",
   "execution_count": 65,
   "id": "e7c659e5",
   "metadata": {},
   "outputs": [],
   "source": [
    "# Line thickness of 2 px\n",
    "thickness = 5"
   ]
  },
  {
   "cell_type": "code",
   "execution_count": 58,
   "id": "3f6ca361",
   "metadata": {},
   "outputs": [],
   "source": [
    "# Using cv2.rectangle() method\n",
    "# Draw a rectangle with blue line borders of thickness of 2 px\n",
    "image = cv2.rectangle(image, start_point, end_point, color, thickness)"
   ]
  },
  {
   "cell_type": "code",
   "execution_count": 67,
   "id": "8d49b1c5",
   "metadata": {},
   "outputs": [
    {
     "data": {
      "text/plain": [
       "(960, 1280, 3)"
      ]
     },
     "execution_count": 67,
     "metadata": {},
     "output_type": "execute_result"
    }
   ],
   "source": [
    "image.shape"
   ]
  },
  {
   "cell_type": "code",
   "execution_count": 59,
   "id": "eebd135e",
   "metadata": {},
   "outputs": [],
   "source": [
    "# Displaying the image \n",
    "cv2.imshow(window_name, image) "
   ]
  },
  {
   "cell_type": "code",
   "execution_count": null,
   "id": "4191964d",
   "metadata": {},
   "outputs": [],
   "source": []
  }
 ],
 "metadata": {
  "kernelspec": {
   "display_name": "Python 3 (ipykernel)",
   "language": "python",
   "name": "python3"
  },
  "language_info": {
   "codemirror_mode": {
    "name": "ipython",
    "version": 3
   },
   "file_extension": ".py",
   "mimetype": "text/x-python",
   "name": "python",
   "nbconvert_exporter": "python",
   "pygments_lexer": "ipython3",
   "version": "3.9.12"
  }
 },
 "nbformat": 4,
 "nbformat_minor": 5
}
