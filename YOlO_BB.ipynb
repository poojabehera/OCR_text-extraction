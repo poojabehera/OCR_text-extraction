{
 "cells": [
  {
   "cell_type": "code",
   "execution_count": 3,
   "id": "cd302494",
   "metadata": {},
   "outputs": [],
   "source": [
    "import os\n",
    "import cv2\n",
    "from PIL import Image, ImageDraw, ImageFont"
   ]
  },
  {
   "cell_type": "code",
   "execution_count": 4,
   "id": "21fecf4e",
   "metadata": {},
   "outputs": [],
   "source": [
    "def yolo_line_to_shape(x_center, y_center, w, h,img_size):\n",
    "    x_min = max(float(x_center) - float(w) / 2, 0)\n",
    "    x_max = min(float(x_center) + float(w) / 2, 1) \n",
    "    y_min = max(float(y_center) - float(h) / 2, 0)\n",
    "    y_max = min(float(y_center) + float(h) / 2, 1) \n",
    "    x_min = round(img_size[1] * x_min)\n",
    "    x_max = round(img_size[1] * x_max) \n",
    "    y_min = round(img_size[0] * y_min) \n",
    "    y_max = round(img_size[0] * y_max) \n",
    "    return [x_min, y_min, x_max, y_max]"
   ]
  },
  {
   "cell_type": "code",
   "execution_count": 47,
   "id": "8d807761",
   "metadata": {},
   "outputs": [
    {
     "ename": "IndentationError",
     "evalue": "unindent does not match any outer indentation level (<tokenize>, line 4)",
     "output_type": "error",
     "traceback": [
      "\u001b[1;36m  File \u001b[1;32m<tokenize>:4\u001b[1;36m\u001b[0m\n\u001b[1;33m    for line in lines:\u001b[0m\n\u001b[1;37m    ^\u001b[0m\n\u001b[1;31mIndentationError\u001b[0m\u001b[1;31m:\u001b[0m unindent does not match any outer indentation level\n"
     ]
    }
   ],
   "source": [
    "def save_image_with_yolo_labels(imagename, imagepath, labelspath, targetfolder, classes): img0 = cv2.imread(imagepath+imagename)\n",
    "    with open(labelspath + imagename.replace('.jpg','.txt'),'r') as f:\n",
    "             lines = f.readlines()\n",
    "     for line in lines:\n",
    "        box1 = line.replace('\\n','').split(' ') \n",
    "        color = (0, 255, 0) if int(box1[0])==0 else (0,0,255) \n",
    "        label = classes[int(box1[0])] \n",
    "        box = yolo_line_to_shape(box1[1], box1[2], box1[3], box1[4],img0.shape) \n",
    "        p1, p2 = (int(box[0]), int(box[1])), (int(box[2]), int(box[3])) \n",
    "        cv2.rectangle(img0, p1, p2, color, thickness=2, lineType=cv2.LINE_AA)\n",
    "    \n",
    "        if label: \n",
    "        tf = max(3 - 1, 1) # font thickness \n",
    "        w, h = cv2.getTextSize(label, 1, fontScale=7 / 3, thickness=tf)[0] # text width, height \n",
    "        outside = p1[1] - h >= 3 \n",
    "        p2 = p1[0] + w, p1[1] - h - 3 if outside else p1[1] + h + 3 \n",
    "        cv2.rectangle(img0, p1, p2, color, 2, cv2.LINE_AA) # filled \n",
    "        cv2.putText(img0, label, (p1[0], p1[1] - 2 if outside else p1[1] + h + 2),\n",
    "                0, 3 / 3, \n",
    "                color, \n",
    "                thickness=tf, \n",
    "                lineType=cv2.LINE_AA) cv2.imwrite(targetfolder+'/'+imagename, img0)"
   ]
  },
  {
   "cell_type": "code",
   "execution_count": null,
   "id": "e2dd9247",
   "metadata": {},
   "outputs": [],
   "source": []
  }
 ],
 "metadata": {
  "kernelspec": {
   "display_name": "Python 3 (ipykernel)",
   "language": "python",
   "name": "python3"
  },
  "language_info": {
   "codemirror_mode": {
    "name": "ipython",
    "version": 3
   },
   "file_extension": ".py",
   "mimetype": "text/x-python",
   "name": "python",
   "nbconvert_exporter": "python",
   "pygments_lexer": "ipython3",
   "version": "3.9.12"
  }
 },
 "nbformat": 4,
 "nbformat_minor": 5
}
